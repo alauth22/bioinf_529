{
 "cells": [
  {
   "cell_type": "markdown",
   "metadata": {},
   "source": [
    "# RNA expression levels"
   ]
  },
  {
   "cell_type": "markdown",
   "metadata": {},
   "source": [
    "---\n",
    "## Before Class\n",
    "1. Review code from previous class\n",
    "\n",
    "---\n",
    "## Learning Objectives\n",
    "\n",
    "1. Use BWT algorithm to map RNA reads to a genome\n",
    "* Estimate RNA expression levels from RNA-seq data using RPKM\n",
    "* Identify allele-specific expression"
   ]
  },
  {
   "cell_type": "markdown",
   "metadata": {},
   "source": [
    "---\n",
    "## Imports"
   ]
  },
  {
   "cell_type": "code",
   "execution_count": 2,
   "metadata": {},
   "outputs": [],
   "source": [
    "import bamnostic as bs\n",
    "from collections import Counter\n",
    "from scipy.stats import binom_test"
   ]
  },
  {
   "cell_type": "markdown",
   "metadata": {},
   "source": [
    "---\n",
    "## Quantifying RNA expression levels\n",
    "\n",
    "Calculating the relative expression of RNA involves mapping RNA sequence reads to a reference and then counting the relative abundance of each transcript. Tools doing this typically build a reference assembly out of known transcripts to speed processing and avoid complications of reads crossing splice junctions. However, it is also the case that reads can be mapped to a genome assembly directly to identify novel transcripts or when there are no concerns with intervening intronic sequence. In our class today, we will be implementing RNA-seq analysis for our sample genome that has no introns, and so we will use the reference assembly that was generated in the previous class.\n"
   ]
  },
  {
   "cell_type": "code",
   "execution_count": null,
   "metadata": {},
   "outputs": [],
   "source": [
    "# We can use our original get_fasta function to examine the fasta file for the genome\n",
    "from data_readers import get_fasta\n",
    "file = \"../class_09/data/sample_genome.fna\"\n",
    "\n",
    "for name, seq in get_fasta(file):\n",
    "    print(seq[1:300])"
   ]
  },
  {
   "cell_type": "markdown",
   "metadata": {},
   "source": [
    "Similarly to the last class, we can map our RNA-seq reads to the reference using `bowtie2` and convert these to a bam file using `samtools`. Today we will also be creating an index of our alignment file so that we can randomly access the file"
   ]
  },
  {
   "cell_type": "code",
   "execution_count": null,
   "metadata": {},
   "outputs": [],
   "source": [
    "! bowtie2 -f -x ../class_09/sample_genome -U data/sample_RNA_reads.fa -S sample_RNA_reads.sam\n",
    "! samtools sort -o sample_RNA_reads.bam sample_RNA_reads.sam\n",
    "! samtools index sample_RNA_reads.bam"
   ]
  },
  {
   "cell_type": "markdown",
   "metadata": {},
   "source": [
    "    \"map RNA-seq reads to genome: bwa mem\\n\",\n",
    "    \"\\n\",\n",
    "    \"quantify counts in each gene: read in gff file, count reads on intervals, calculate rpkm\\n\",\n",
    "    \"\\n\",\n",
    "    \"one way we can study variation is to look at allele-specific expression\\n\",\n",
    "    \"identify allele specific expression: given our genotype from yesterday, test each allele for differential RNA-reads and perform same binomial test\\n\",\n",
    "\n",
    "You have now mapped your reads to a reference genome using the Burrows-Wheeler algorithm! You can take a look at the sample_RNA_reads.sam file to see the plain text version of the alignments and the sample_RNA_reads.bam now contains a compressed version of the same alignments.\n",
    "\n",
    "---\n",
    "## Calculate read depth on intervals\n",
    "\n",
    "Today we will be implementing an RPKM (Reads Per Kilobase of transcript, per Million mapped reads) calculation, which is essentially just counting reads on a genomic interval. To accomplish this, we will use the gff file of gene annotations for our genome and estimate RPKM as: \n",
    "\n",
    "RPKM = $ R_{G} / ( L_{G}/1000 * D/1000000)$\n",
    "\n",
    "Where, $R_{G}$ are the number of reads $R$ mapping to gene $G$, $L_{G}$ is then length of gene $G$, and $D$ is the total read count.\n",
    "\n",
    "As a practical note, because we are dealing with a tiny genome and very few reads, the RPKM values will be significantly higher than a typical RNA-seq experiment.\n",
    "\n",
    "\n",
    "```\n",
    "get_transcript_levels(bam_file, gene_annotations):\n",
    "    For gene in genome:\n",
    "        calculate RPKM\n",
    "```\n"
   ]
  },
  {
   "cell_type": "code",
   "execution_count": 4,
   "metadata": {},
   "outputs": [
    {
     "ename": "ModuleNotFoundError",
     "evalue": "No module named 'data_readers'",
     "output_type": "error",
     "traceback": [
      "\u001b[0;31m---------------------------------------------------------------------------\u001b[0m",
      "\u001b[0;31mModuleNotFoundError\u001b[0m                       Traceback (most recent call last)",
      "\u001b[0;32m/var/folders/f0/f31tss896y3fkq0mqk3ry0j40000gn/T/ipykernel_6568/4068182890.py\u001b[0m in \u001b[0;36m<module>\u001b[0;34m\u001b[0m\n\u001b[1;32m      1\u001b[0m \u001b[0;32mimport\u001b[0m \u001b[0mbamnostic\u001b[0m \u001b[0;32mas\u001b[0m \u001b[0mbs\u001b[0m\u001b[0;34m\u001b[0m\u001b[0;34m\u001b[0m\u001b[0m\n\u001b[0;32m----> 2\u001b[0;31m \u001b[0;32mfrom\u001b[0m \u001b[0mdata_readers\u001b[0m \u001b[0;32mimport\u001b[0m \u001b[0mget_gff\u001b[0m\u001b[0;34m\u001b[0m\u001b[0;34m\u001b[0m\u001b[0m\n\u001b[0m\u001b[1;32m      3\u001b[0m \u001b[0;34m\u001b[0m\u001b[0m\n\u001b[1;32m      4\u001b[0m \u001b[0;32mdef\u001b[0m \u001b[0mcalculate_RPKM\u001b[0m\u001b[0;34m(\u001b[0m\u001b[0mgene_reads\u001b[0m\u001b[0;34m,\u001b[0m \u001b[0mgene_length\u001b[0m\u001b[0;34m,\u001b[0m \u001b[0msequence_depth\u001b[0m\u001b[0;34m)\u001b[0m\u001b[0;34m:\u001b[0m\u001b[0;34m\u001b[0m\u001b[0;34m\u001b[0m\u001b[0m\n\u001b[1;32m      5\u001b[0m     ''' Calculate RPKM value \n",
      "\u001b[0;31mModuleNotFoundError\u001b[0m: No module named 'data_readers'"
     ]
    }
   ],
   "source": [
    "import bamnostic as bs\n",
    "from data_readers import get_gff\n",
    "\n",
    "def calculate_RPKM(gene_reads, gene_length, sequence_depth):\n",
    "    ''' Calculate RPKM value \n",
    "        RPKM = 𝑅𝐺/(𝐿𝐺/1000∗𝐷/1000000)\n",
    "        Where, 𝑅𝐺 are the number of reads 𝑅 mapping to gene 𝐺, 𝐿𝐺 is then length of gene 𝐺, and 𝐷 is the total read count.\n",
    "        \n",
    "    Args:\n",
    "        gene_reads (int): number of reads overlapping a gene\n",
    "        gene_length (int): size of the gene\n",
    "        sequence_depth (int): total number of reads in our sample\n",
    "    \n",
    "    Returns:\n",
    "        rpkm (int): rpkm value\n",
    "        \n",
    "    Example:\n",
    "        >>> calculate_RPKM(1953, 1301, 6167) #doctest: +ELLIPSIS\n",
    "        243417.05...\n",
    "    '''\n",
    "    #return gene_reads / (gene_length / 1000 * sequence_depth/123)\n",
    "    return gene_reads / (gene_length/1000 * sequence_depth/1000000)\n",
    "\n",
    "def get_read_count(rna_alignments, seqid, start_position, end_position):\n",
    "    ''' Calculates the read depth of a bam in a region\n",
    "    \n",
    "    Args:\n",
    "        rna_alignments (str): bam file of aligned reads (requires a bai file to have been created)\n",
    "        seqid (str): name of the contig for region (ie. chromosome or 'sample')\n",
    "        start_position (int): start position of region\n",
    "        end_position (int): end position of region\n",
    "        \n",
    "    Returns:\n",
    "        read_count (int): total number of reads overlapping region\n",
    "        \n",
    "    Example:\n",
    "        >>> get_read_count('sample_RNA_reads.bam', 'sample', 336, 1637)\n",
    "        1953\n",
    "    '''\n",
    "    bam = bs.AlignmentFile(rna_alignments, 'rb')\n",
    "    return sum(1 for read in enumerate(bam.fetch(seqid, start_position, end_position)))\n",
    "\n",
    "def get_transcript_levels(rna_alignments, gff_file):\n",
    "    ''' Gets RPKM values for all genes in a gff_file\n",
    "    \n",
    "    Args:\n",
    "        rna_alignments (str): bam file of aligned reads\n",
    "        gff_file (str): gff formatted gene annotation file\n",
    "        \n",
    "    Returns:\n",
    "        transcript_expression (list of tuples): list of tuples containing contig name, \n",
    "            start position of gene, end position of gene, and RPKM for that gene\n",
    "            \n",
    "    Example:\n",
    "        >>> get_transcript_levels('sample_RNA_reads.bam', 'data/sample_genomic.gff')  #doctest: +ELLIPSIS\n",
    "        [('sample', 336, 1637, 243417.05...\n",
    "    '''\n",
    "    \n",
    "    transcript_expression = []\n",
    "    \n",
    "    bam = bs.AlignmentFile(rna_alignments, 'rb')\n",
    "    read_depth = sum(1 for read in bam)\n",
    "\n",
    "    for gff_entry in get_gff(gff_file):\n",
    "        if gff_entry.type == 'CDS':\n",
    "            gene_reads = get_read_count(rna_alignments, gff_entry.seqid, gff_entry.start, gff_entry.end)\n",
    "            rpkm = calculate_RPKM(gene_reads, gff_entry.end-gff_entry.start, read_depth)\n",
    "            transcript_expression.append((gff_entry.seqid, gff_entry.start, gff_entry.end, rpkm))\n",
    "        \n",
    "    return transcript_expression\n"
   ]
  },
  {
   "cell_type": "code",
   "execution_count": null,
   "metadata": {},
   "outputs": [],
   "source": []
  },
  {
   "cell_type": "code",
   "execution_count": null,
   "metadata": {},
   "outputs": [],
   "source": []
  },
  {
   "cell_type": "code",
   "execution_count": null,
   "metadata": {},
   "outputs": [],
   "source": []
  },
  {
   "cell_type": "code",
   "execution_count": null,
   "metadata": {},
   "outputs": [],
   "source": []
  },
  {
   "cell_type": "code",
   "execution_count": null,
   "metadata": {},
   "outputs": [],
   "source": [
    "get_transcript_levels('sample_RNA_reads.bam', 'data/sample_genomic.gff')"
   ]
  },
  {
   "cell_type": "markdown",
   "metadata": {},
   "source": [
    "---\n",
    "## Allele-specific expression\n",
    "\n",
    "Combining the last class with todays class, we can also identify locations where the genotype of the sample is heterozygous, but the RNA preferentially comes from one allele. This is called allele-specific expression and is often cause by a transcriptional regulatory effect on the gene. For this section, we will be testing each of the genes for allele-specific expression by using our previously calculated genotypes and testing if there is any bias in the RNA-seq data at these same positions. We can utilize two functions from the previous class to help this calculation.\n",
    "\n",
    "```\n",
    "calculate_allelic_ratio(genotype, bam_file, gene_annotations):\n",
    "    For gene in genome:\n",
    "        Build pileup for gene regions\n",
    "        for each known heterozygous variant overlapping region:\n",
    "            Calculate allelic ratio (min allele / sum of alleles)\n",
    "            test for heterozygosity \n",
    "```\n"
   ]
  },
  {
   "cell_type": "code",
   "execution_count": 1,
   "metadata": {},
   "outputs": [],
   "source": [
    "from genotyper import get_pileup, binomial_test\n",
    "\n",
    "def calculate_allelic_ratio(genotype, rna_alignments, gff_file):\n",
    "    ''' Calculates allelic ratio for all genes in a gff_file\n",
    "        We will perform this test at every heterozygous variant and report the average allelic ratio\n",
    "        and the result of heterozygosity tests at each variant.\n",
    "    \n",
    "    Args:\n",
    "        genotype (list of tuples): list of variants as (position, allele1, allele2)\n",
    "        rna_alignments (str): bam file of aligned reads\n",
    "        gff_file (str): gff formatted gene annotation file\n",
    "        \n",
    "    Returns:\n",
    "        gene_allelic_ratios (list of tuples): list of tuples containing contig name, \n",
    "            start position of gene, end position of gene, average allelic ratio for that gene,\n",
    "            and a list of results from heterozygosity tests at each variant in that gene\n",
    "            \n",
    "    Example:\n",
    "    >>> variant_list = [(240, 'A', 'G'), (354, 'G', 'A')]\n",
    "    >>> calculate_allelic_ratio(variant_list, 'sample_RNA_reads.bam', 'data/sample_genomic.gff')\n",
    "    [('sample', 336, 1637, 0.3684210526315789, [True])]\n",
    "    '''\n",
    "    gene_allelic_ratios = []\n",
    "    \n",
    "    for gff_entry in get_gff(gff_file):\n",
    "        if gff_entry.type == 'CDS':\n",
    "          \n",
    "            allelic_ratios = []\n",
    "            binomial_tests = []\n",
    "            \n",
    "            # Build pileup\n",
    "            rna_pileup = get_pileup(rna_alignments, gff_entry.start, gff_entry.end)\n",
    "    \n",
    "            # Test for bias at heterozygous sites using binomial test\n",
    "            for i, variant in enumerate(genotype):\n",
    "                location, allele1, allele2 = variant\n",
    "                \n",
    "                # If the variant is in the, calculate the allele frequencies\n",
    "                if location >= gff_entry.start and location <= gff_entry.end:\n",
    "                    alleles = rna_pileup[location-gff_entry.start-1] # offset by 1!\n",
    "                    ratio = min(alleles[allele1], alleles[allele2])/(alleles[allele1] + alleles[allele2])\n",
    "                    allelic_ratios.append(ratio)\n",
    "                    binomial_tests.append(binomial_test(alleles[allele1], alleles[allele2]))\n",
    "            \n",
    "            if len(allelic_ratios) > 0:\n",
    "                average_ratio = sum(allelic_ratios)/len(allelic_ratios)\n",
    "                gene_allelic_ratios.append((gff_entry.seqid, gff_entry.start, gff_entry.end, average_ratio, binomial_tests))\n",
    "    \n",
    "    return gene_allelic_ratios\n"
   ]
  },
  {
   "cell_type": "code",
   "execution_count": null,
   "metadata": {},
   "outputs": [],
   "source": [
    "variant_list = [(240, 'A', 'G'), (354, 'G', 'A'), (803, 'C', 'A'), (1411, 'A', 'G'), (1799, 'C', 'G'), (1829, 'G', 'C'), (1910, 'T', 'C'), (1958, 'A', 'T'), (2119, 'A', 'G'), (2327, 'G', 'A'), (2404, 'A', 'G'), (2425, 'T', 'A'), (2605, 'C', 'T'), (2678, 'G', 'A'), (2788, 'A', 'T'), (2965, 'A', 'C'), (3017, 'T', 'G'), (3141, 'G', 'T'), (3383, 'G', 'C'), (3536, 'G', 'A'), (3779, 'G', 'T'), (3822, 'C', 'A'), (3908, 'G', 'C'), (4497, 'C', 'T'), (4548, 'A', 'C'), (4737, 'G', 'A'), (4823, 'G', 'A'), (5144, 'C', 'G'), (5275, 'G', 'T'), (5313, 'T', 'C'), (5522, 'A', 'G'), (5586, 'G', 'A'), (5624, 'T', 'A'), (5652, 'A', 'C'), (5910, 'C', 'A'), (6013, 'A', 'T'), (6303, 'A', 'G'), (6632, 'G', 'C'), (6734, 'A', 'C'), (7099, 'C', 'T'), (7376, 'A', 'C'), (7466, 'C', 'T'), (7970, 'C', 'G'), (8116, 'G', 'T'), (8294, 'T', 'C'), (8545, 'T', 'C'), (8788, 'C', 'A'), (8981, 'G', 'C')]\n",
    "calculate_allelic_ratio(variant_list, 'sample_RNA_reads.bam', 'data/sample_genomic.gff')"
   ]
  },
  {
   "cell_type": "code",
   "execution_count": null,
   "metadata": {},
   "outputs": [],
   "source": [
    "import doctest\n",
    "doctest.testmod()"
   ]
  },
  {
   "cell_type": "code",
   "execution_count": null,
   "metadata": {},
   "outputs": [],
   "source": []
  }
 ],
 "metadata": {
  "kernelspec": {
   "display_name": "Python 3 (ipykernel)",
   "language": "python",
   "name": "python3"
  },
  "language_info": {
   "codemirror_mode": {
    "name": "ipython",
    "version": 3
   },
   "file_extension": ".py",
   "mimetype": "text/x-python",
   "name": "python",
   "nbconvert_exporter": "python",
   "pygments_lexer": "ipython3",
   "version": "3.7.8"
  }
 },
 "nbformat": 4,
 "nbformat_minor": 4
}
