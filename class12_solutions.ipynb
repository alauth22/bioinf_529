{
 "cells": [
  {
   "cell_type": "markdown",
   "metadata": {},
   "source": [
    "# Markov Chains"
   ]
  },
  {
   "cell_type": "markdown",
   "metadata": {},
   "source": [
    "---\n",
    "\n",
    "## Before Class\n",
    "In class today we will be implementing a Markov chain to process sentences\n",
    "Prior to class, please do the following:\n",
    "1. Review slides on Markov chains in detail\n",
    "* Explore using the python dict() structure and how a dict() can contain nested dict() structures"
   ]
  },
  {
   "cell_type": "markdown",
   "metadata": {},
   "source": [
    "---\n",
    "## Learning Objectives\n",
    "\n",
    "1. Conceptually understand Markov Chains\n",
    "* Implement a Markov Chain\n"
   ]
  },
  {
   "cell_type": "markdown",
   "metadata": {},
   "source": [
    "---\n",
    "## Background"
   ]
  },
  {
   "cell_type": "markdown",
   "metadata": {},
   "source": [
    "Recall from the lectures that Markov Chains represent a series of events following the Markov Property: future states are memory-less in that they depend only on the current state. This can be expanded to the idea of variable order Markov models where there is a variable-length memory (eg. 1st order Markov Model). Markov models consist of fully observable states. A common example of this is in predicting the weather: We can clearly see the current weather and would like to predict tomorrow's weather. As shown in the slides, this is also applicable to biology with one case being CpG islands. \n",
    "\n",
    "Our goal today will be to implement a Markov model built from words. For our example text, we will use the classic example of Dr. Seuss because of the repetitive nature of the text."
   ]
  },
  {
   "cell_type": "markdown",
   "metadata": {},
   "source": [
    "---\n",
    "## Train Markov model\n",
    "\n",
    "For our initial implementation of the Markov Model, we will use the simple example of Dr. Seuss: \"One fish two fish red fish blue fish.\"\n",
    "\n"
   ]
  },
  {
   "cell_type": "code",
   "execution_count": 1,
   "metadata": {},
   "outputs": [],
   "source": [
    "def build_markov_model(markov_model, new_text):\n",
    "    '''\n",
    "    Function to build or add to a 1st order Markov model given a string of text\n",
    "    We will store the markov model as a dictionary of dictionaries\n",
    "    The key in the outer dictionary represents the current state\n",
    "    and the inner dictionary represents the next state with their contents containing\n",
    "    the transition probabilities.\n",
    "    Note: This would be easier to read if we were to build a class representation\n",
    "           of the model rather than a dictionary of dictionaries, but for simplicitiy\n",
    "           our implementation will just use this structure.\n",
    "    \n",
    "    Args: \n",
    "        markov_model (dict of dicts): a dictionary of word:(next_word:frequency pairs)\n",
    "        new_text (str): a string to build or add to the moarkov_model\n",
    "\n",
    "    Returns:\n",
    "        markov_model (dict of dicts): an updated markov_model\n",
    "        \n",
    "    Pseudocode:\n",
    "        Add artificial states for start and end\n",
    "        For each word in text:\n",
    "            Increment markov_model[word][next_word]\n",
    "        \n",
    "    '''\n",
    "    \n",
    "    # Split up our sentence by spaces\n",
    "    words = new_text.split()\n",
    "    \n",
    "    # Add our artifical start and end states to the sentence\n",
    "    words.insert(0, \"*S*\")\n",
    "    words.append(\"*E*\")\n",
    "    \n",
    "    # Iterate over each word in the input\n",
    "    for i in range(0, len(words)-1):\n",
    "        \n",
    "        # Here we do a lot of checking to properly initialize the dictionaries\n",
    "        # But the main goal is to increment a counter if we have seen word[i+1]\n",
    "        # after word[i]\n",
    "        if words[i] in markov_model:                     # If we have already seen this word\n",
    "            if words[i+1] in markov_model[words[i]]:     # and if we have already seen the next word\n",
    "                markov_model[words[i]][words[i+1]] += 1  # increment the word counter\n",
    "            else:\n",
    "                markov_model[words[i]][words[i+1]] = 1   # If we haven't seen the next word, create it\n",
    "        else:\n",
    "            markov_model[words[i]] = {}                  # If we haven't see the word then create it\n",
    "            markov_model[words[i]][words[i+1]] = 1\n",
    "    \n",
    "    return markov_model\n",
    "    \n"
   ]
  },
  {
   "cell_type": "code",
   "execution_count": 2,
   "metadata": {},
   "outputs": [
    {
     "name": "stdout",
     "output_type": "stream",
     "text": [
      "{'*S*': {'one': 1}, 'one': {'fish': 1}, 'fish': {'two': 1, 'red': 1, 'blue': 1, '*E*': 1}, 'two': {'fish': 1}, 'red': {'fish': 1}, 'blue': {'fish': 1}}\n"
     ]
    }
   ],
   "source": [
    "markov_model = dict()\n",
    "text = \"one fish two fish red fish blue fish\"\n",
    "markov_model = build_markov_model(markov_model, text)\n",
    "print (markov_model)"
   ]
  },
  {
   "cell_type": "raw",
   "metadata": {},
   "source": [
    "Expected output:\n",
    "{'*S*': {'one': 1}, 'one': {'fish': 1}, 'fish': {'two': 1, 'red': 1, 'blue': 1, '*E*': 1}, 'two': {'fish': 1}, 'red': {'fish': 1}, 'blue': {'fish': 1}}"
   ]
  },
  {
   "cell_type": "markdown",
   "metadata": {},
   "source": [
    "###  Nth order Markov chain\n",
    "In the above model, each event or word is output from only the previous state with no memory of any prior states. While this is useful in some cases, typical biological applications of Markov chains require higher-order models to accurately capture what we know about a system. For instance, in attempting to identify coding regions of a genome, we know that open reading frames (ORFs) contain codon triplets, and so a third or sixth order Markov chain would better describe these regions. Here you will implement a generalized form of our previous Markov Chain to allow for Nth order chains.\n"
   ]
  },
  {
   "cell_type": "code",
   "execution_count": 3,
   "metadata": {},
   "outputs": [],
   "source": [
    "def build_markov_model(markov_model, text, order=1):\n",
    "    '''\n",
    "    Function to build or add to a Nth order Markov model given a string of text\n",
    "\n",
    "    Args: \n",
    "        markov_model (dict of dicts): a dictionary of word:(next_word:frequency pairs)\n",
    "            or None if a new model is being built\n",
    "        new_text (str): a string to build or add to the moarkov_model\n",
    "        order (int): the number of previous states to consider for the model\n",
    "        \n",
    "    Returns:\n",
    "        markov_model (dict of dicts): an updated/new markov_model\n",
    "    '''\n",
    "    words = text.split()\n",
    "    words.append(\"*E*\")\n",
    "    \n",
    "    current_keyList = []\n",
    "    for i in range (order):\n",
    "        words.insert(0,\"*S*\")\n",
    "  \n",
    "    for i in range(0, len(words)-order):\n",
    "        word_set = tuple(words[i:i+order])\n",
    "        \n",
    "        if word_set in markov_model:\n",
    "            if words[i+order] in markov_model[word_set]:\n",
    "                markov_model[word_set][words[i+order]] += 1\n",
    "            else:\n",
    "                markov_model[word_set][words[i+order]] = 1\n",
    "        else:\n",
    "            markov_model[word_set] = {}\n",
    "            markov_model[word_set][words[i+order]] = 1\n",
    "                            \n",
    "    return markov_model"
   ]
  },
  {
   "cell_type": "code",
   "execution_count": 4,
   "metadata": {},
   "outputs": [
    {
     "data": {
      "text/plain": [
       "{('*S*', '*S*'): {'one': 1},\n",
       " ('*S*', 'one'): {'fish': 1},\n",
       " ('one', 'fish'): {'two': 1},\n",
       " ('fish', 'two'): {'fish': 1},\n",
       " ('two', 'fish'): {'red': 1},\n",
       " ('fish', 'red'): {'fish': 1},\n",
       " ('red', 'fish'): {'blue': 2},\n",
       " ('fish', 'blue'): {'red': 1, '*E*': 1},\n",
       " ('blue', 'red'): {'fish': 1}}"
      ]
     },
     "execution_count": 4,
     "metadata": {},
     "output_type": "execute_result"
    }
   ],
   "source": [
    "markov_model = dict()\n",
    "text = \"one fish two fish red fish blue red fish blue\"\n",
    "markov_model = build_markov_model(markov_model, text, order=2)\n",
    "markov_model"
   ]
  },
  {
   "cell_type": "raw",
   "metadata": {},
   "source": [
    "Expected output:\n",
    "{('*S*', '*S*'): {'one': 1},\n",
    " ('*S*', 'one'): {'fish': 1},\n",
    " ('one', 'fish'): {'two': 1},\n",
    " ('fish', 'two'): {'fish': 1},\n",
    " ('two', 'fish'): {'red': 1},\n",
    " ('fish', 'red'): {'fish': 1},\n",
    " ('red', 'fish'): {'blue': 1},\n",
    " ('fish', 'blue'): {'fish': 1},\n",
    " ('blue', 'fish'): {'*E*': 1}}"
   ]
  },
  {
   "cell_type": "markdown",
   "metadata": {},
   "source": [
    "## Generate text from Markov Model\n",
    "\n",
    "Markov models are \"generative models\". That is, the probability states in the model can be used to generate output following the conditional probabilities in the model.\n",
    "\n",
    "We will now generate a sequence of text from the Markov model. For this section, I recommend using np.random.choice, which allows for you to provide a probability distribution for drawing the next edge in the chain."
   ]
  },
  {
   "cell_type": "code",
   "execution_count": 5,
   "metadata": {},
   "outputs": [],
   "source": [
    "import numpy as np\n",
    "\n",
    "def get_next_word(current_word, markov_model, seed=42):\n",
    "    '''\n",
    "    Function to randomly move a valid next state given a markov model\n",
    "    and a current state (word)\n",
    "    \n",
    "    Args: \n",
    "        current_word (tuple): a word that exists in our model\n",
    "        markov_model (dict of dicts): a dictionary of word:(next_word:frequency pairs)\n",
    "\n",
    "    Returns:\n",
    "        next_word (str): a randomly selected next word based on transition probabilies\n",
    "        \n",
    "    Pseudocode:\n",
    "        Calculate transition probilities for all next states from a given state (counts/sum)\n",
    "        Randomly draw from these to generate the next state\n",
    "        \n",
    "    '''\n",
    "    # Get all of our possible next states\n",
    "    next_words = list(markov_model[current_word].keys())\n",
    "    \n",
    "    # Calculate the probabilities to move to those based on word counts\n",
    "    next_words_frequencies = list(markov_model[current_word].values())\n",
    "    next_words_probabilities = [x / sum(next_words_frequencies) for x in next_words_frequencies]\n",
    "\n",
    "    # Randomly move to the next state\n",
    "    np.random.seed(seed)\n",
    "    next_state = np.random.choice(next_words, 1, p=next_words_probabilities)\n",
    "\n",
    "    # Return next state\n",
    "    return next_state[0]\n",
    "\n",
    "def generate_random_text(markov_model, seed=42):\n",
    "    '''\n",
    "    Function to generate text given a markov model\n",
    "    \n",
    "    Args: \n",
    "        markov_model (dict of dicts): a dictionary of word:(next_word:frequency pairs)\n",
    "\n",
    "    Returns:\n",
    "        sentence (str): a randomly generated sequence given the model\n",
    "        \n",
    "    Pseudocode:\n",
    "        Initialize sentence at start state\n",
    "        Until End State:\n",
    "            append get_next_word(current_word, markov_model)\n",
    "        Return sentence\n",
    "        \n",
    "    '''\n",
    "    # We must start at the initial state of the model\n",
    "    # estimate order\n",
    "    order = len(list(markov_model.keys())[0])\n",
    "    \n",
    "    # We must start at the initial state of the model\n",
    "    current_keyList = []\n",
    "    for i in range (order):\n",
    "        current_keyList.append(\"*S*\")\n",
    "        \n",
    "    current_tuple = tuple(current_keyList)\n",
    "\n",
    "    # Keeping track of the sentence as a list (ignoring the start state)\n",
    "    sentence = list()\n",
    "    current_word = ''\n",
    "\n",
    "    # Until the model generates an end state, keep adding random words\n",
    "    while current_word != \"*E*\":\n",
    "        current_word = get_next_word(current_tuple, markov_model, seed=seed)\n",
    "        \n",
    "        # Don't append the end state to our output\n",
    "        if current_word != \"*E*\":\n",
    "            sentence.append(current_word)\n",
    "            \n",
    "        current_list = list(current_tuple)\n",
    "        current_list.pop(0)\n",
    "        current_list.append(current_word)\n",
    "        current_tuple = tuple(current_list)\n",
    "\n",
    "    # Return the words with spaces between them\n",
    "    return ' '.join(sentence)"
   ]
  },
  {
   "cell_type": "code",
   "execution_count": 6,
   "metadata": {},
   "outputs": [
    {
     "name": "stdout",
     "output_type": "stream",
     "text": [
      "this one has a little car\n"
     ]
    }
   ],
   "source": [
    "# Now just add some more training data to the markov model\n",
    "markov_model = dict()\n",
    "markov_model = build_markov_model(markov_model, \"black fish blue fish old fish new fish\", order=2)\n",
    "markov_model = build_markov_model(markov_model, \"this one has a little car\", order=2)\n",
    "markov_model = build_markov_model(markov_model, \"this one has a little star\", order=2)\n",
    "markov_model = build_markov_model(markov_model, \"say what a lot of fish there are\", order=2)\n",
    "markov_model = build_markov_model(markov_model, \"yes some are red and some are blue\", order=2)\n",
    "markov_model = build_markov_model(markov_model, \"some are old and some are new\", order=2)\n",
    "\n",
    "print (generate_random_text(markov_model,seed=2))"
   ]
  },
  {
   "cell_type": "code",
   "execution_count": 7,
   "metadata": {},
   "outputs": [
    {
     "name": "stdout",
     "output_type": "stream",
     "text": [
      "When forty winters shall besiege thy brow, And dig deep trenches in thy glass and tell the face thou viewest Now is the time that face should form another; Whose fresh repair if now thou not renewest, Thou dost beguile the world, or else this glutton be, To eat the world's fresh ornament, And only herald to the very same And that unfair which fairly doth excel; For never-resting time leads summer on To hideous winter, and confounds him there; Sap checked with frost, and lusty leaves quite gone, Beauty o'er-snowed and bareness every where: Then were not summer's distillation left, A liquid prisoner pent in walls of glass, Beauty's effect with beauty were bereft, Nor it, nor no remembrance what it was: But flowers distill'd, though they with winter meet, Leese but their show; their substance still lives sweet.\n"
     ]
    }
   ],
   "source": [
    "# An example of a more complex text that we can use to generate more complex output\n",
    "sonet_markov_model = dict()\n",
    "file = open(\"data/sonnets.txt\", \"r\")\n",
    "sonet = \"\"\n",
    "for line in file:\n",
    "    line = line.strip()\n",
    "    if line == \"\":\n",
    "        # Empty line so build model\n",
    "        sonet_markov_model = build_markov_model(sonet_markov_model, sonet, order=2)\n",
    "        sonet = \"\"\n",
    "    else:\n",
    "        sonet = sonet + ' ' + line\n",
    " \n",
    "print (generate_random_text(sonet_markov_model,seed=7))"
   ]
  },
  {
   "cell_type": "code",
   "execution_count": null,
   "metadata": {},
   "outputs": [],
   "source": []
  }
 ],
 "metadata": {
  "kernelspec": {
   "display_name": "Python 3 (ipykernel)",
   "language": "python",
   "name": "python3"
  },
  "language_info": {
   "codemirror_mode": {
    "name": "ipython",
    "version": 3
   },
   "file_extension": ".py",
   "mimetype": "text/x-python",
   "name": "python",
   "nbconvert_exporter": "python",
   "pygments_lexer": "ipython3",
   "version": "3.7.8"
  }
 },
 "nbformat": 4,
 "nbformat_minor": 4
}
