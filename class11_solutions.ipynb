{
 "cells": [
  {
   "cell_type": "markdown",
   "metadata": {},
   "source": [
    "# eQTL analysis"
   ]
  },
  {
   "cell_type": "markdown",
   "metadata": {},
   "source": [
    "---\n",
    "## Before Class\n",
    "1. Review previous two classes\n",
    "* Review slides on eQTL analsis\n",
    "\n",
    "---\n",
    "## Learning Objectives\n",
    "1. Understand bulk processing of data\n",
    "* Perform eQTL analysis"
   ]
  },
  {
   "cell_type": "markdown",
   "metadata": {},
   "source": [
    "---\n",
    "## Bulk data processing\n",
    "Another way we can predict the effect of variants on expression is through study of the genotypes and not allele-specific expression. For today's class, we have expanded our study to include 100 DNA and RNA samples from diploid individuals from our same small reference genome. Our goal now will be to study if any of the variants in the genome can be associated with the expression of a gene. These variants are said to be eQTLs (expression quantitative trait loci) and help explain variation of expression levels of genes. It is important to note that while the variants are assoiciated with expression changes, they are not necessairly causative of the expression change.\n",
    "\n",
    "The first step of today's class will be to just process all of the RNA and DNA data by aligning it to the genome and converting to bam files. The RNA bam files will need to be indexed as the previous class.\n",
    "\n",
    "Hint: A python loop can be put around the shell commands we've previously used and variables can be used in the shell commands by surrounding them with curly brackets '{}'.\n",
    "For example:\n",
    "```\n",
    "for i in range(10):\n",
    "    !echo {i}\n",
    "```"
   ]
  },
  {
   "cell_type": "code",
   "execution_count": null,
   "metadata": {},
   "outputs": [],
   "source": [
    "# Align all of the DNA reads\n",
    "for i in range(1, 101):\n",
    "    !bowtie2 -f -x ../class_09/sample_genome -U data/DNA/sample_reads_P{i}.fa.gz -S data/DNA/sample_reads_P{i}.sam\n",
    "    !samtools sort -o data/DNA/sample_reads_P{i}.bam data/DNA/sample_reads_P{i}.sam"
   ]
  },
  {
   "cell_type": "code",
   "execution_count": null,
   "metadata": {},
   "outputs": [],
   "source": [
    "# Process RNA the same way:\n",
    "for i in range(1, 101):\n",
    "    !bowtie2 -f -x ../class_09/sample_genome -U data/RNA/sample_RNA_reads_P{i}.fa.gz -S data/RNA/sample_RNA_reads_P{i}.sam\n",
    "    !samtools sort -o data/RNA/sample_RNA_reads_P{i}.bam data/RNA/sample_RNA_reads_P{i}.sam\n",
    "    !samtools index data/RNA/sample_RNA_reads_P{i}.bam"
   ]
  },
  {
   "cell_type": "markdown",
   "metadata": {},
   "source": [
    "## Calculate the genotypes\n",
    "\n",
    "Next, we can calculate the genotypes for all of the individuals. We did this two classes ago and now just need to keep track of it for each person. Our end goal of this step is mostly just reformatting the data (this is very common in bioinformatics). We would like to have an array of variants by samples that contains the genotype of a sample for each variant. To build a master variant list, we will be using the criteria of common variants (>1% population frequency). This reduces the number of tests that we will have to perform.\n",
    "\n",
    "The first step of this will be to collate all of the variants into a list:"
   ]
  },
  {
   "cell_type": "code",
   "execution_count": null,
   "metadata": {},
   "outputs": [],
   "source": [
    "from genotyper import *\n",
    "\n",
    "def get_all_variants():\n",
    "    ''' Function to iterate through all DNA files to get genotypes\n",
    "    \n",
    "    This functions runs our previous find_variants() function on all of the individuals and makes a list of these\n",
    "    \n",
    "    Example:\n",
    "        >>> get_all_variants() #doctest: +ELLIPSIS\n",
    "        [(803, 'C', 'A'), (5144, 'G', 'C'), (5275, 'T', 'T'), ...\n",
    "    '''\n",
    "    individual_variants = []\n",
    "\n",
    "    # Note that this now starts at index 0\n",
    "    for i in range(1, 101):\n",
    "        # Run find_variants and store in a list indexed by sample\n",
    "        individual_variants.append(find_variants(reference = '../class_09/data/sample_genome.fna', alignments = 'data/DNA/sample_reads_P' + str(i) + '.bam'))\n",
    "\n",
    "    return individual_variants"
   ]
  },
  {
   "cell_type": "code",
   "execution_count": null,
   "metadata": {},
   "outputs": [],
   "source": [
    "# This takes a few minutes to run\n",
    "individual_genotypes = get_all_variants()\n"
   ]
  },
  {
   "cell_type": "markdown",
   "metadata": {},
   "source": [
    "The next step will be to first identify our final variant list (`build_list_of_common_variants`) and then use that list along with the list of genotypes to build our final bulk matrix described above (`build_bulk_genotype`)."
   ]
  },
  {
   "cell_type": "code",
   "execution_count": null,
   "metadata": {},
   "outputs": [],
   "source": [
    "from collections import Counter\n",
    "import numpy as np\n",
    "\n",
    "def build_list_of_common_variants(individual_genotypes):\n",
    "    ''' This function will combine all of the genotypes to create a master list of SNP locations\n",
    "        for common variants. Common variants are those that appear at a frequency of more than 1%\n",
    "        in the population.\n",
    "        \n",
    "        Note: we only need to track the position of the SNPs\n",
    "     \n",
    "    \n",
    "    '''\n",
    "    all_variant_counter = Counter()\n",
    "    all_variant_list = []\n",
    "    \n",
    "    \n",
    "    # Here I use a Counter() to just count the frequency of each variant location across the samples\n",
    "    for i, sample in enumerate(individual_genotypes):\n",
    "        for j, variant in enumerate(sample):\n",
    "            position, allele1, allele2 = variant\n",
    "            all_variant_counter[position] += 1\n",
    "    \n",
    "    # Now we create a list from just the counters that are above 1% (or 1 since we have 100 samples)\n",
    "    for key in list(all_variant_counter):\n",
    "        if all_variant_counter[key] > 1:\n",
    "            all_variant_list.append(key)\n",
    "            \n",
    "    return all_variant_list\n",
    "    \n",
    "def build_bulk_genotype(all_variants, individual_genotypes):\n",
    "    ''' This function will assign one of 3 genotypes at every SNP location\n",
    "    ref/ref = 0\n",
    "    ref/alt = 1\n",
    "    alt/alt = 2\n",
    "    '''\n",
    "    \n",
    "    # Initialize the matrix\n",
    "    sample_variant_matrix = np.zeros((len(all_variants),len(individual_genotypes)), dtype=int)\n",
    "\n",
    "    # Now for each variant for each person we identify if we have seen the variant\n",
    "    # if not, the sample is homozygous for references, otherwise we could as alt/ref or alt/alt\n",
    "    # depending on how the sample was annotated\n",
    "    for i, variant_position in enumerate(all_variants):\n",
    "        for j, variants in enumerate(individual_genotypes):\n",
    "            sample_genotype = 0\n",
    "            for k, variant in enumerate(individual_genotypes[j]):\n",
    "                pos, allele1, allele2 = variant\n",
    "                if pos == variant_position:\n",
    "                    if allele1 == allele2: #homo alt\n",
    "                        sample_genotype = 2\n",
    "                    else : # het\n",
    "                        sample_genotype = 1\n",
    "                    break\n",
    "            sample_variant_matrix[i][j] = sample_genotype # track variant i for individual j\n",
    "    \n",
    "    return sample_variant_matrix\n"
   ]
  },
  {
   "cell_type": "code",
   "execution_count": null,
   "metadata": {},
   "outputs": [],
   "source": [
    "# Now we get the final bulk_genotype matrix\n",
    "full_variant_list = build_list_of_common_variants(individual_genotypes)\n",
    "bulk_genotypes = build_bulk_genotype(full_variant_list, individual_genotypes)\n",
    "print(bulk_genotypes)"
   ]
  },
  {
   "cell_type": "markdown",
   "metadata": {},
   "source": [
    "## Calculate the gene expression\n",
    "\n",
    "In addition to the genotype matrix above, we also need to generate expression data for all of the individuals at each gene. To do this, we can use the methods from the previous class `get_transcript_levels` to get the expression level of each gene for each person. As above, we will store this as a matrix of gene by samples with RPKM in each position of the matrix."
   ]
  },
  {
   "cell_type": "code",
   "execution_count": null,
   "metadata": {},
   "outputs": [],
   "source": [
    "from rna_tools import *\n",
    "\n",
    "def get_all_expression():\n",
    "    ''' Function to iterate through all RNA file to get expression levels of genes\n",
    "    '''\n",
    "    individual_expression_matrix = np.zeros((5,100), dtype=float)\n",
    "\n",
    "    # Note that this now starts at index 0\n",
    "    for i in range(1, 101):\n",
    "        # Run our get_transcript_levels for all individuals\n",
    "        individual_expression = get_transcript_levels('data/RNA/sample_RNA_reads_P' + str(i) + '.bam', '../class_10/data/sample_genomic.gff')\n",
    "        for j, data in enumerate(individual_expression):\n",
    "            seqid, start, end, expression = data\n",
    "            individual_expression_matrix[j][i-1] = expression # Just save the expression value\n",
    "        \n",
    "    return individual_expression_matrix"
   ]
  },
  {
   "cell_type": "code",
   "execution_count": null,
   "metadata": {},
   "outputs": [],
   "source": [
    "# This takes a few minutes to run\n",
    "bulk_expression = get_all_expression()"
   ]
  },
  {
   "cell_type": "markdown",
   "metadata": {},
   "source": [
    "## eQTL Analysis\n",
    "\n",
    "As discussed in the class materials, the variants that we have identified from our diploid samples represent polymorphic locations in the sample genomes. These sites can sometimes affect the regulation or expression level of a gene, often through disruption of transcription factor binding. Identifying variants associated with this change in expression is thus of great interest in understanding how the gene expression might be controlled. To do this, we use eQTL analysis.\n",
    "\n",
    "Standard eQTL analysis involves direct pairwise testing between genetic markers (here SNPs) andd the gene expression levels across many (here 100) individuals. This can be done for all SNPs vs all genes, but this results in a large penalty when accounting for multiple testing. To avoid this, the analysis is often done in a window around each gene of ~ 1 magabase. For our example today, we can just test all of the variants because our genome is quite small.\n",
    "\n",
    "Typical eQTL analysis uses a generalized linear model (GLM). For simplicity, we will use a simple linear model of the form $Y_{i} = b_{0} + b_{1}X_{i} + \\epsilon_{i}$ where $Y_{i}$ is the RPKM for individual $i$ and $X_{i}$ indicates the genotype (0, 1, 2) at a given SNP. We can implement this with the `stats.linregress()` function in scipy ( https://docs.scipy.org/doc/scipy-0.15.1/reference/generated/scipy.stats.linregress.html ).\n",
    "\n",
    "We can also plot these associations using `matplotlib.pyplot` ( https://matplotlib.org/api/_as_gen/matplotlib.pyplot.html ).\n",
    "\n",
    "<img src = \"figures/eQTL_fig.png\">\n",
    "\n",
    "Today, generate the variant and gene associations that are significant ($p < .01$) and plot these below:"
   ]
  },
  {
   "cell_type": "code",
   "execution_count": null,
   "metadata": {},
   "outputs": [],
   "source": [
    "from scipy import stats\n",
    "import numpy as np\n",
    "import matplotlib.pyplot as plt\n",
    "\n",
    "def eQTL_analysis(bulk_genotypes, bulk_expression):\n",
    "    ''' Function to perform eQTL analysis\n",
    "    \n",
    "    Args:\n",
    "        bulk_genotypes (2D np array): genotypes for each variant for each individual\n",
    "        bulk_expression (2D np array): expression values for each gene for each individual\n",
    "       \n",
    "    Prints:\n",
    "        significant eQTLs (p < .01) and plots them as above\n",
    "    '''\n",
    "      \n",
    "    # For every gene we do a linear regression based on the three genotypes\n",
    "\n",
    "    for gene_index in range(bulk_expression.shape[0]):\n",
    "        y = np.array(bulk_expression[gene_index])\n",
    "\n",
    "        for snp_index in range(bulk_genotypes.shape[0]):\n",
    "            xi = np.array(bulk_genotypes[snp_index])\n",
    "            slope, intercept, r_value, p_value, std_err = stats.linregress(xi,y)\n",
    "            if p_value < .01:\n",
    "                print ('significant eQTL: ', 'gene', gene_index, 'snp', snp_index, 'pval', p_value)\n",
    "                line = slope*xi+intercept\n",
    "                plt.plot(xi,line,'r-',xi,y,'o')\n",
    "                plt.show()\n",
    "    "
   ]
  },
  {
   "cell_type": "code",
   "execution_count": null,
   "metadata": {},
   "outputs": [],
   "source": [
    "eQTL_analysis(bulk_genotypes, bulk_expression)"
   ]
  },
  {
   "cell_type": "code",
   "execution_count": null,
   "metadata": {},
   "outputs": [],
   "source": []
  }
 ],
 "metadata": {
  "kernelspec": {
   "display_name": "Python 3 (ipykernel)",
   "language": "python",
   "name": "python3"
  },
  "language_info": {
   "codemirror_mode": {
    "name": "ipython",
    "version": 3
   },
   "file_extension": ".py",
   "mimetype": "text/x-python",
   "name": "python",
   "nbconvert_exporter": "python",
   "pygments_lexer": "ipython3",
   "version": "3.7.8"
  }
 },
 "nbformat": 4,
 "nbformat_minor": 4
}
