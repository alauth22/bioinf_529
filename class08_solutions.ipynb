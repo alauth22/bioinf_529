{
 "cells": [
  {
   "cell_type": "markdown",
   "metadata": {},
   "source": [
    "# Burrows-Wheeler Alignment"
   ]
  },
  {
   "cell_type": "markdown",
   "metadata": {},
   "source": [
    "---\n",
    "\n",
    "## Before Class\n",
    "\n",
    "Prior to class, please do the following:\n",
    "1. Review the Last First property of Burrows-Wheeler Transform matrix\n",
    "2. Review Burrows-Wheeler Transform for string matching"
   ]
  },
  {
   "cell_type": "markdown",
   "metadata": {},
   "source": [
    "---\n",
    "## Learning Objectives\n",
    "1. Implement Burrows-Wheeler Transform to match a substring to reference string"
   ]
  },
  {
   "cell_type": "markdown",
   "metadata": {},
   "source": [
    "---\n",
    "## Background\n",
    "\n",
    "Today we continue the implementation of the Burrows-Wheeler Transform and Alignment"
   ]
  },
  {
   "cell_type": "markdown",
   "metadata": {},
   "source": [
    "---\n",
    "## Imports"
   ]
  },
  {
   "cell_type": "code",
   "execution_count": 10,
   "metadata": {},
   "outputs": [],
   "source": [
    "from collections import Counter"
   ]
  },
  {
   "cell_type": "markdown",
   "metadata": {},
   "source": [
    "---\n",
    "## Burrows-Wheeler Transform for string matching\n"
   ]
  },
  {
   "cell_type": "code",
   "execution_count": 1,
   "metadata": {},
   "outputs": [],
   "source": [
    "#function to caculate BWT string from last class\n",
    "def BWT(string):\n",
    "    ''' Function to calculate Burrows-Wheeler Transform for a given string.\n",
    "    \n",
    "    Args:\n",
    "        string (str): Input string\n",
    "    \n",
    "    Returns:\n",
    "        bwt_string (str): BWT string        \n",
    "        \n",
    "    Example:\n",
    "        >>> BWT('googol')\n",
    "        'lo$oogg'\n",
    "        \n",
    "    '''\n",
    "    #Append '$' to the end of string\n",
    "    string += '$'\n",
    "    \n",
    "    #generate table of circulated strings\n",
    "    t = sorted(string[i:] + string[:i] for i in range(len(string)))\n",
    "    #concatenate last symbols of circulated strings to generate BWT string\n",
    "    bwt_string = ''.join([l[-1] for l in t])\n",
    "\n",
    "    return bwt_string"
   ]
  },
  {
   "cell_type": "code",
   "execution_count": 2,
   "metadata": {},
   "outputs": [],
   "source": [
    "#function to caculate suffix array from last class\n",
    "def suffix_array(string):\n",
    "    ''' Function to calculate suffix-array for a given string.\n",
    "    \n",
    "    Args:\n",
    "        string (str): Input string\n",
    "    \n",
    "    Returns:\n",
    "        sa (array of integers): suffix array\n",
    "        \n",
    "    Example:\n",
    "    >>> suffix_array('googol')\n",
    "    [6, 3, 0, 5, 2, 4, 1]\n",
    "        \n",
    "    '''\n",
    "    #Append '$' to the end of string\n",
    "    string += '$'\n",
    "\n",
    "    #generate suffix array\n",
    "    sa = [index for suffix, index in sorted((string[i:], i) for i in range(len(string)))]\n",
    "    #equivalent with s = [rank for suffix, rank in sorted((x[i:]+x[:i], i) for i in range(len(x)))]\n",
    "    \n",
    "    return sa"
   ]
  },
  {
   "cell_type": "markdown",
   "metadata": {},
   "source": [
    "---\n",
    "## Continuation of `cal_count` and `cal_occur` functions\n",
    "\n",
    "\n",
    "One of the key parts for string matching is to do Last-to-First column mapping (LF mapping) within the BWT matrix. With the LF property, we  need to build two dictionaries for our reference string beforehand:\n",
    "1. count: e.g.  `{'A': 0, 'C': 2, 'G': 3, 'T': 5}`\n",
    "\n",
    "Where for each character `a` in a string, `count[a]` contains the number of characters in string that are lexicographically smaller than `a`.\n",
    "\n",
    "\n",
    "2. occur: `{'$': [0, 0, 1, 1, 1], 'A': [1, 1, 1, 1, 1], 'C': [0, 0, 0, 1, 1], 'G': [0, 1, 1, 1, 2]}`\n",
    "\n",
    "Where for each character `a` in a bwt string, `occur[a][i]` contains the number of occurences of `a` in `bwt_string[0,i], i=1,...,len(bwt_string)` (i.e. the first i characters in bwt string).\n",
    "\n",
    "With those two dictionaries, we can then start matching the query string to our reference string. \n"
   ]
  },
  {
   "cell_type": "code",
   "execution_count": 3,
   "metadata": {},
   "outputs": [],
   "source": [
    "#function to build count dictionary\n",
    "def cal_count(string):\n",
    "    '''Function to count the number of characters in string that \n",
    "        are lexicographically smaller than a given character\n",
    "    \n",
    "    Args:\n",
    "        string (str): Input string\n",
    "    \n",
    "    Returns:\n",
    "        count (dict)\n",
    "    \n",
    "    Example:\n",
    "        >>> cal_count('ATGACG')\n",
    "        {'A': 0, 'C': 2, 'G': 3, 'T': 5}\n",
    "    '''\n",
    "    c = Counter(string)\n",
    "    number = 0\n",
    "    count = {}\n",
    "    for char in sorted(set(string)):\n",
    "        count[char] = number\n",
    "        number += c[char]\n",
    "    return count"
   ]
  },
  {
   "cell_type": "code",
   "execution_count": 4,
   "metadata": {},
   "outputs": [],
   "source": [
    "#function to build occur dictionary\n",
    "def cal_occur(bwt_string):\n",
    "    '''Function to calculate number of occurrences of each character \n",
    "        in bwt [0,i], i=1,...,len(bwt_string)\n",
    "    \n",
    "    Args:\n",
    "        b (str): BWT string\n",
    "    \n",
    "    Returns:\n",
    "        occur (dict of arrays)\n",
    "    \n",
    "    Example:\n",
    "        >>> cal_occur('AG$CG')\n",
    "        {'$': [0, 0, 1, 1, 1], 'A': [1, 1, 1, 1, 1], 'C': [0, 0, 0, 1, 1], 'G': [0, 1, 1, 1, 2]}\n",
    "    '''\n",
    "    \n",
    "    occur = {}\n",
    "    chars = sorted(set(bwt_string))\n",
    "    occur = {char: [0]*len(bwt_string) for char in chars}\n",
    "    occur[bwt_string[0]][0] = 1\n",
    "    for i in range(1,len(bwt_string)):\n",
    "        for char in chars:\n",
    "            if char == bwt_string[i]:\n",
    "                occur[char][i] = occur[char][i-1]+1\n",
    "            else:\n",
    "                occur[char][i] = occur[char][i-1]\n",
    "        \n",
    "    return occur   "
   ]
  },
  {
   "cell_type": "code",
   "execution_count": 63,
   "metadata": {},
   "outputs": [
    {
     "data": {
      "text/plain": [
       "{'$', 'A', 'C', 'G', 'T'}"
      ]
     },
     "execution_count": 63,
     "metadata": {},
     "output_type": "execute_result"
    }
   ],
   "source": [
    "test = \"AAGGTT$CCG\"\n",
    "set(test)"
   ]
  },
  {
   "cell_type": "code",
   "execution_count": 64,
   "metadata": {},
   "outputs": [
    {
     "data": {
      "text/plain": [
       "['$', 'A', 'A', 'C', 'C', 'G', 'G', 'G', 'T', 'T']"
      ]
     },
     "execution_count": 64,
     "metadata": {},
     "output_type": "execute_result"
    }
   ],
   "source": [
    "sorted(test)"
   ]
  },
  {
   "cell_type": "code",
   "execution_count": 65,
   "metadata": {},
   "outputs": [
    {
     "data": {
      "text/plain": [
       "['$', 'A', 'C', 'G', 'T']"
      ]
     },
     "execution_count": 65,
     "metadata": {},
     "output_type": "execute_result"
    }
   ],
   "source": [
    "sorted(set(test))"
   ]
  },
  {
   "cell_type": "markdown",
   "metadata": {},
   "source": [
    "## Alignments using BWT\n",
    "\n",
    "We now want to use our BWT and helper functions to perform alignments. This is performed using a pair of functions.\n",
    "\n",
    "We want to find the rows of BWT matrix beginning wtih the query string. Notice that the way we sort the BWT matrix will ensure those rows being together, so we need to find out the range of those matched rows. \n",
    "\n",
    "\n",
    "1. We initialize the range with the first and the last row of BWT matrix:\n",
    "\n",
    "`lower = 0`\n",
    "\n",
    "`upper = len(reference)`\n",
    "\n",
    "\n",
    "2. Then we update the range as we go through each character `a` of the query string in reverse order: \n",
    "\n",
    "`lower_new = count[a] + occur[a][lower_old-1] + 1`\n",
    "\n",
    "`upper_new = count[a] + occur[a][upper_old]`\n",
    "\n",
    "(we define `occur[a][-1] = 0`)\n",
    "\n",
    "As long as `lower_new <= upper_new`, we will find at least one matching.\n",
    "\n",
    "3. After we go through the entire query string and get the final range (i.e. the indexes of rows of BWT matrix with query string as prefix), we can map it to the reference string with suffix array `sa` to get the matched position(s) (start position(s) of query string within reference string):\n",
    "\n",
    "`matched_positions = sa[lower_final,upper_final+1]`"
   ]
  },
  {
   "cell_type": "code",
   "execution_count": 54,
   "metadata": {},
   "outputs": [],
   "source": [
    "def find_match(query, reference):\n",
    "    '''Function to find exact matching by applying Burrows-Wheeler Transform\n",
    "    \n",
    "    Args:\n",
    "        query (str): query string\n",
    "        reference (str): reference string\n",
    "    \n",
    "    Returns:\n",
    "        matched_positions (array of integers): start position(s) of query string within reference string\n",
    "    \n",
    "    Example:\n",
    "    >>> find_match('ana','banana')\n",
    "    [1, 3]\n",
    "    \n",
    "    '''\n",
    "    reference_bwt = BWT(reference)\n",
    "    # print(reference_bwt)\n",
    "    sa = suffix_array(reference)\n",
    "    print(sa)\n",
    "    lower = 0\n",
    "    upper = len(reference)\n",
    "    count = cal_count(reference)\n",
    "    occur = cal_occur(reference_bwt)\n",
    "    for char in query[::-1]:\n",
    "        if lower > upper:\n",
    "            print (\"No matching found.\")\n",
    "            break\n",
    "        else:\n",
    "            lower,upper = update_range(lower,upper,count,occur,char)\n",
    "        print (lower,upper,sa[lower],sa[upper])\n",
    "    \n",
    "    return sorted(sa[lower:upper]) #mine \n",
    "    # return sorted(sa[lower:upper+1]) #their's \n",
    "        "
   ]
  },
  {
   "cell_type": "code",
   "execution_count": 55,
   "metadata": {},
   "outputs": [
    {
     "name": "stdout",
     "output_type": "stream",
     "text": [
      "[6, 5, 3, 1, 0, 4, 2]\n",
      "1 3 5 1\n",
      "5 6 4 2\n",
      "2 3 3 1\n"
     ]
    },
    {
     "data": {
      "text/plain": [
       "[3]"
      ]
     },
     "execution_count": 55,
     "metadata": {},
     "output_type": "execute_result"
    }
   ],
   "source": [
    "find_match(\"ana\", \"banana\")"
   ]
  },
  {
   "cell_type": "code",
   "execution_count": null,
   "metadata": {},
   "outputs": [],
   "source": []
  },
  {
   "cell_type": "code",
   "execution_count": null,
   "metadata": {},
   "outputs": [],
   "source": []
  },
  {
   "cell_type": "code",
   "execution_count": 12,
   "metadata": {},
   "outputs": [],
   "source": [
    "def update_range(lower,upper,count,occur,a):\n",
    "    '''Function to update range given character a, define occur[a][-1] = 0\n",
    "    \n",
    "    Args:\n",
    "        lower (int): the lower boundary of range\n",
    "        upper (int): the upper boundary of range\n",
    "        count (dict)\n",
    "        occur (dict)\n",
    "        a (char)\n",
    "    Returns:\n",
    "        lower_new (int): the updated lower boundary of range\n",
    "        upper_new (int): the updated upper boundary of range\n",
    "    \n",
    "    '''\n",
    "    if lower == 0:\n",
    "        lower_new = count[a] + 0 + 1\n",
    "    else:\n",
    "        lower_new = count[a] + occur[a][lower-1] + 1\n",
    "    upper_new = count[a] + occur[a][upper]\n",
    "    \n",
    "    return lower_new,upper_new"
   ]
  },
  {
   "cell_type": "code",
   "execution_count": null,
   "metadata": {},
   "outputs": [],
   "source": [
    "matched_positions = find_match('ana','banana')\n",
    "print (matched_positions)"
   ]
  },
  {
   "cell_type": "markdown",
   "metadata": {},
   "source": [
    "Expected output: [1, 3]"
   ]
  },
  {
   "cell_type": "code",
   "execution_count": null,
   "metadata": {},
   "outputs": [],
   "source": [
    "import doctest\n",
    "doctest.testmod()"
   ]
  },
  {
   "cell_type": "code",
   "execution_count": null,
   "metadata": {},
   "outputs": [],
   "source": []
  }
 ],
 "metadata": {
  "kernelspec": {
   "display_name": "Python 3 (ipykernel)",
   "language": "python",
   "name": "python3"
  },
  "language_info": {
   "codemirror_mode": {
    "name": "ipython",
    "version": 3
   },
   "file_extension": ".py",
   "mimetype": "text/x-python",
   "name": "python",
   "nbconvert_exporter": "python",
   "pygments_lexer": "ipython3",
   "version": "3.7.8"
  }
 },
 "nbformat": 4,
 "nbformat_minor": 4
}
