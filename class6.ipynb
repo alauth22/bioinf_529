{
 "cells": [
  {
   "cell_type": "markdown",
   "metadata": {},
   "source": [
    "# Eulerian Walks and Assembly"
   ]
  },
  {
   "cell_type": "markdown",
   "metadata": {},
   "source": [
    "---\n",
    "## Before Class\n",
    "1. Review slides on Eulerian walks\n",
    "\n",
    "---\n",
    "## Learning Objectives\n",
    "1. Understand and implement De Bruijn graphs for assembly\n"
   ]
  },
  {
   "cell_type": "markdown",
   "metadata": {},
   "source": [
    "---\n",
    "## Eulerian walk\n",
    "\n",
    "To continue our implementation from last class, we will use our De Bruijn graph to output a valid sequence from the assembly. This is implemented as a recursive algorithm by considering all valid edges. You will notice that as you change k, we are able to better recapitulate our sequence depending on how repetitive it is. In a more complex implementation of a Eulerian walk there are heuristics and defined rules for determining the validity of traversing a specific edge in the graph to result in a full graph-traversal. One of these methods is to traverse the graph in a depth first manner to avoid sectioning off any part of the graph in the traversal. In our implementation we will ignore these for simplicity.\n",
    "\n",
    "```\n",
    "eulerian_walk:\n",
    "Beginning at first_node as node\n",
    "\n",
    "For node:\n",
    "    follow a random valid edge from node\n",
    "    remove edge\n",
    "    recurse\n",
    "```\n"
   ]
  },
  {
   "cell_type": "code",
   "execution_count": 30,
   "metadata": {},
   "outputs": [],
   "source": [
    "from collections import defaultdict\n",
    "import random  #belongs to python and not numpy \n",
    "\n",
    "class DeBruijnGraph():\n",
    "    \"\"\"Main class for De Bruijn graphs\n",
    "    \n",
    "    Private Attributes:\n",
    "        graph (defaultdict of lists): Edges for De Bruijn graph\n",
    "        first_node (str): starting position for traversing the graph\n",
    "    \"\"\"\n",
    "\n",
    "    def __init__(self, input_string, k):\n",
    "        self.graph = defaultdict(list)\n",
    "        self.first_node = ''\n",
    "        self.build_debruijn_graph(input_string, k)\n",
    "        \n",
    "    def add_edge(self, left, right):\n",
    "        ''' This function adds a new edge to the graph\n",
    "        \n",
    "        Args:\n",
    "            left (str): The k-1 mer for the left edge\n",
    "            right (str): The k-1 mer for the right edge\n",
    "\n",
    "        Updates graph attribute to add right to the list named left in defaultdict   \n",
    "        '''\n",
    "        self.graph[left].append(right)\n",
    "        \n",
    "    def remove_edge(self, left, right):\n",
    "        ''' This function removed an edge from the graph\n",
    "        \n",
    "        Args:\n",
    "            left (str): The k-1 mer for the left edge\n",
    "            right (str): The k-1 mer for the right edge\n",
    "\n",
    "        Updates graph attribute to remove right from the list named left in defaultdict\n",
    "        '''\n",
    "        matching_edges = []\n",
    "        for i, key in enumerate(self.graph[left]):\n",
    "            if key == right:\n",
    "                self.graph[left].pop(i)\n",
    "                break\n",
    "\n",
    "        \n",
    "    def build_debruijn_graph(self, input_string, k):\n",
    "        ''' This function builds a De Buijn graph from a string\n",
    "        \n",
    "        Args:\n",
    "            input_string (str): string to use for building the graph\n",
    "            k (int): k-mer length for graph construction\n",
    "\n",
    "        Updates graph attribute to add all valid edges from the string\n",
    "        \n",
    "        Example:\n",
    "        >>> dbg = DeBruijnGraph(\"this this this is a test\", 4)\n",
    "        >>> print(dbg.graph) #doctest: +ELLIPSIS +NORMALIZE_WHITESPACE\n",
    "        defaultdict(<class 'list'>, {'thi': ['his', 'his', 'his'], 'his': ['is ', 'is ', 'is '], ...)\n",
    "        '''\n",
    "        for i in range(len(input_string) - k + 1):\n",
    "            kmer = input_string[i:i+k]\n",
    "            left_mer = kmer[0:k-1]\n",
    "            right_mer = kmer[1:k]\n",
    "            self.add_edge(left_mer, right_mer)\n",
    "            \n",
    "            #so if the list is empty, then assign the first node to the left_mer. \n",
    "            if i == 0:\n",
    "                self.first_node = left_mer\n",
    "                \n",
    "                \n",
    "    def print_eulerian_walk(self, seed=None):\n",
    "        ''' This function starts the recursive walk function\n",
    "        at the first node in the graph\n",
    "\n",
    "        Args: None\n",
    "\n",
    "        Returns:\n",
    "            tour (list): list of k-1 mers traversed by the algorithm\n",
    "\n",
    "        Example:\n",
    "        >>> dbg = DeBruijnGraph(\"this this this is a test\", 4)\n",
    "        >>> dbg.print_eulerian_walk(seed=1) #doctest: +ELLIPSIS +NORMALIZE_WHITESPACE\n",
    "        ['thi', 'his', 'is ', 's i', ' is', 'is ', ...]\n",
    "        '''\n",
    "    \n",
    "        tour = []\n",
    "        random.seed(seed)\n",
    "        #we want tour to be calling the eularian function. Here we're calling the recursive function again \n",
    "        tour = self.eulerian_walk(self.first_node, seed = seed)\n",
    "        tour = tour + [self.first_node]\n",
    "        #it's backwards because it is going from down to up the branch when you are actually going up from down. \n",
    "        return tour[::-1]\n",
    "    \n",
    "        \n",
    "    def eulerian_walk(self, node, seed=None):\n",
    "        ''' This is a recursive function that follows all edges from a node\n",
    "        to traverse the graph\n",
    "        \n",
    "        Args: \n",
    "            node (str): current node to traverse from\n",
    "            seed (int): seed for random selection of edge to follow\n",
    "        \n",
    "        Returns:\n",
    "            tour (list): list of k-1 mers traversed so far by the algorithm\n",
    "            Note: this will be reverse order because of recursion\n",
    "            \n",
    "        Example:\n",
    "        >>> dbg = DeBruijnGraph(\"this this this is a test\", 4)\n",
    "        >>> dbg.eulerian_walk('thi', seed=1) #doctest: +ELLIPSIS +NORMALIZE_WHITESPACE\n",
    "        ['is ', 'his', 'thi', ' th', ...]\n",
    "        '''\n",
    "        \n",
    "        #recursive function calls on itself until it doesn't -> will call on itself (until no edge left to go to). \n",
    "        \n",
    "        tour = []\n",
    "        random.seed(seed) #use this for random selection \n",
    "        #self.graph is defaultdict so use this as your list. \n",
    "        random.shuffle(self.graph[node])\n",
    "        #extra shuffling to ensure we are randomly choosing. Not absolutely necessary. \n",
    "        for next_node in self.graph[node]:\n",
    "            #for the next node, it'll be one of these randomly shuffled RKmers in the list. \n",
    "            #after random.shuffle, the list is still shuffled when you print it again. \n",
    "            next_node = random.choice(self.graph[node])\n",
    "            #randomly choosing one of the elements in this shuffled list. \n",
    "            self.remove_edge(node, next_node)     \n",
    "           #if there are no other nodes with edges, then the length would be zero since we are done.  \n",
    "            if len(self.graph[next_node]) > 0:\n",
    "                #we want tour to be calling the recursive function still. \n",
    "                tour = self.eulerian_walk(next_node, seed = seed)\n",
    "                #want to add all the next_node's to the empty tour list and then return the tour list. \n",
    "                #you cannot append an empty list to another list. you have to add it it appears. \n",
    "                tour = tour + [next_node]\n",
    "                #this list is full of the k-1 mers. \n",
    "        return tour\n",
    "            "
   ]
  },
  {
   "cell_type": "code",
   "execution_count": 35,
   "metadata": {},
   "outputs": [
    {
     "name": "stdout",
     "output_type": "stream",
     "text": [
      "defaultdict(<class 'list'>, {'foo': ['ool', 'ool'], 'ool': ['ol ', 'ol '], 'ol ': ['l m', 'l m'], 'l m': [' me', ' me'], ' me': ['me '], 'me ': ['e o', 'e o', 'e o'], 'e o': [' on', ' on', ' on'], ' on': ['onc', 'on ', 'on '], 'onc': ['nce'], 'nce': ['ce '], 'ce ': ['e s'], 'e s': [' sh'], ' sh': ['sha', 'sha'], 'sha': ['ham', 'ham'], 'ham': ['ame', 'ame'], 'ame': ['me ', 'me '], 'on ': ['n s', 'n y'], 'n s': [' sh'], 'n y': [' yo'], ' yo': ['you'], 'you': ['ou '], 'ou ': ['u f'], 'u f': [' fo'], ' fo': ['foo']})\n"
     ]
    },
    {
     "data": {
      "text/plain": [
       "'fool me on shame once shame o'"
      ]
     },
     "execution_count": 35,
     "metadata": {},
     "output_type": "execute_result"
    }
   ],
   "source": [
    "# This will now print the output from your graph using a random walk\n",
    "\n",
    "#here we're creating our graph\n",
    "graph = DeBruijnGraph(\"fool me once shame on shame on you fool me\", 4) \n",
    "print(graph.graph)\n",
    "\n",
    "#here we're saying take this graph and assing it the attribute of print_eulerian_walk function. \n",
    "walk = graph.print_eulerian_walk(seed=11)\n",
    "walk[0] + ''.join(map(lambda x: x[-1], walk[1:]))"
   ]
  },
  {
   "cell_type": "code",
   "execution_count": 36,
   "metadata": {},
   "outputs": [
    {
     "name": "stdout",
     "output_type": "stream",
     "text": [
      "['foo', 'ool', 'ol ', 'l m', ' me', 'me ', 'e o', ' on', 'on ', 'n s', ' sh', 'sha', 'ham', 'ame', 'me ', 'e o', ' on', 'onc', 'nce', 'ce ', 'e s', ' sh', 'sha', 'ham', 'ame', 'me ', 'e o']\n"
     ]
    }
   ],
   "source": [
    "print(walk)"
   ]
  },
  {
   "cell_type": "code",
   "execution_count": 15,
   "metadata": {},
   "outputs": [
    {
     "name": "stdout",
     "output_type": "stream",
     "text": [
      "**********************************************************************\n",
      "File \"__main__\", line 107, in __main__.DeBruijnGraph.eulerian_walk\n",
      "Failed example:\n",
      "    dbg.eulerian_walk('thi', seed=1) #doctest: +ELLIPSIS +NORMALIZE_WHITESPACE\n",
      "Expected:\n",
      "    ['is ', 'his', 'thi', ' th', ...]\n",
      "Got:\n",
      "    ['tes', ' te', 'a t', ' a ', 's a', 'is ', 'his', 'thi', ' th', 's t', 'is ', ' is', 's i', 'is ', 'his']\n",
      "**********************************************************************\n",
      "1 items had failures:\n",
      "   1 of   2 in __main__.DeBruijnGraph.eulerian_walk\n",
      "***Test Failed*** 1 failures.\n"
     ]
    },
    {
     "data": {
      "text/plain": [
       "TestResults(failed=1, attempted=6)"
      ]
     },
     "execution_count": 15,
     "metadata": {},
     "output_type": "execute_result"
    }
   ],
   "source": [
    "import doctest\n",
    "doctest.testmod()"
   ]
  },
  {
   "cell_type": "code",
   "execution_count": null,
   "metadata": {},
   "outputs": [],
   "source": [
    "#a function that calls itself until it doesn't. "
   ]
  },
  {
   "cell_type": "code",
   "execution_count": 7,
   "metadata": {},
   "outputs": [],
   "source": [
    "#example of a recursive function \n",
    "def count_down(num):\n",
    "    '''\n",
    "    Counts down from the starting number \n",
    "    '''\n",
    "    print(num)\n",
    "    next_num = num - 1\n",
    "    if next_num > 0:\n",
    "        count_down(next_num)\n",
    "    \n",
    "    "
   ]
  },
  {
   "cell_type": "code",
   "execution_count": 8,
   "metadata": {},
   "outputs": [
    {
     "name": "stdout",
     "output_type": "stream",
     "text": [
      "10\n",
      "9\n",
      "8\n",
      "7\n",
      "6\n",
      "5\n",
      "4\n",
      "3\n",
      "2\n",
      "1\n"
     ]
    }
   ],
   "source": [
    "count_down(10)"
   ]
  },
  {
   "cell_type": "code",
   "execution_count": null,
   "metadata": {},
   "outputs": [],
   "source": [
    "print(node)\n",
    "next_node = node - self.remove_edge "
   ]
  },
  {
   "cell_type": "code",
   "execution_count": 51,
   "metadata": {},
   "outputs": [
    {
     "name": "stdout",
     "output_type": "stream",
     "text": [
      "[2, 1]\n"
     ]
    }
   ],
   "source": [
    "random.seed(None)\n",
    "\n",
    "x = []\n",
    "for i in range(2):\n",
    "    a = random.randint(0,2)\n",
    "    x.append(a)\n",
    "print(x)\n",
    "    "
   ]
  },
  {
   "cell_type": "code",
   "execution_count": 52,
   "metadata": {},
   "outputs": [
    {
     "data": {
      "text/plain": [
       "'ATT'"
      ]
     },
     "execution_count": 52,
     "metadata": {},
     "output_type": "execute_result"
    }
   ],
   "source": [
    "dic_y = {\"Key\":[\"ATT\", \"AATTC\"]}\n",
    "dic_y[\"Key\"][0]"
   ]
  },
  {
   "cell_type": "code",
   "execution_count": 19,
   "metadata": {},
   "outputs": [],
   "source": [
    "import random\n",
    "test = [\"AAT\", \"TTC\", \"GGT\", \"AATC\"]"
   ]
  },
  {
   "cell_type": "code",
   "execution_count": 14,
   "metadata": {},
   "outputs": [
    {
     "name": "stdout",
     "output_type": "stream",
     "text": [
      "This is the new test list: ['GGT', 'TTC', 'AAT', 'AATC']\n"
     ]
    }
   ],
   "source": [
    "random.shuffle(test)\n",
    "print(f'This is the new test list: {test}')"
   ]
  },
  {
   "cell_type": "code",
   "execution_count": 34,
   "metadata": {},
   "outputs": [],
   "source": [
    "dict_ex = {\"KEY\": [\"ATT\", \"GGT\", \"CCG\", \"TTA\"], \"ANSWER\": [\"Amelia\", \"Sylvia\", \"Mom\"]}"
   ]
  },
  {
   "cell_type": "code",
   "execution_count": 50,
   "metadata": {},
   "outputs": [
    {
     "name": "stdout",
     "output_type": "stream",
     "text": [
      "This is the new shuffle: ['TTA', 'GGT', 'ATT', 'CCG']\n"
     ]
    }
   ],
   "source": [
    "random.shuffle(dict_ex[\"KEY\"])\n",
    "print(f'This is the new shuffle: {dict_ex[\"KEY\"]}')"
   ]
  },
  {
   "cell_type": "code",
   "execution_count": 91,
   "metadata": {},
   "outputs": [
    {
     "name": "stdout",
     "output_type": "stream",
     "text": [
      "This is the new shuffle: ['GGT', 'TTA', 'ATT', 'CCG']\n"
     ]
    }
   ],
   "source": [
    "random.shuffle(dict_ex[\"ANSWER\"])\n",
    "print(f'This is the new shuffle: {dict_ex[\"KEY\"]}')"
   ]
  },
  {
   "cell_type": "code",
   "execution_count": 116,
   "metadata": {},
   "outputs": [
    {
     "data": {
      "text/plain": [
       "'Amelia'"
      ]
     },
     "execution_count": 116,
     "metadata": {},
     "output_type": "execute_result"
    }
   ],
   "source": [
    "random.shuffle(dict_ex[\"ANSWER\"])\n",
    "for test in dict_ex[\"ANSWER\"]:\n",
    "    test = random.choice(dict_ex[\"ANSWER\"])\n",
    "test"
   ]
  },
  {
   "cell_type": "code",
   "execution_count": 102,
   "metadata": {},
   "outputs": [
    {
     "data": {
      "text/plain": [
       "'CCT'"
      ]
     },
     "execution_count": 102,
     "metadata": {},
     "output_type": "execute_result"
    }
   ],
   "source": [
    "test_2 = [\"AAT\", \"GGT\", \"CCT\"]\n",
    "random.choice(test_2)"
   ]
  },
  {
   "cell_type": "code",
   "execution_count": 31,
   "metadata": {},
   "outputs": [],
   "source": [
    "test = [\"A\", \"B\", \"C\", \"D\", \"E\"]\n",
    "tour = []\n",
    "cool = []"
   ]
  },
  {
   "cell_type": "code",
   "execution_count": 25,
   "metadata": {},
   "outputs": [],
   "source": [
    "tour_1 = tour + [test] #this is another way of adding something to a list. "
   ]
  },
  {
   "cell_type": "code",
   "execution_count": 26,
   "metadata": {},
   "outputs": [
    {
     "data": {
      "text/plain": [
       "[['A', 'B', 'C', 'D', 'E']]"
      ]
     },
     "execution_count": 26,
     "metadata": {},
     "output_type": "execute_result"
    }
   ],
   "source": [
    "tour_1"
   ]
  },
  {
   "cell_type": "code",
   "execution_count": 27,
   "metadata": {},
   "outputs": [],
   "source": [
    "tour_2 = tour.append(test)"
   ]
  },
  {
   "cell_type": "code",
   "execution_count": 29,
   "metadata": {},
   "outputs": [
    {
     "name": "stdout",
     "output_type": "stream",
     "text": [
      "None\n"
     ]
    }
   ],
   "source": [
    "print(tour_2) #this becomes a None type. "
   ]
  },
  {
   "cell_type": "code",
   "execution_count": 32,
   "metadata": {},
   "outputs": [],
   "source": [
    "tour_3 = tour.append(cool)"
   ]
  },
  {
   "cell_type": "code",
   "execution_count": 34,
   "metadata": {},
   "outputs": [
    {
     "data": {
      "text/plain": [
       "NoneType"
      ]
     },
     "execution_count": 34,
     "metadata": {},
     "output_type": "execute_result"
    }
   ],
   "source": []
  },
  {
   "cell_type": "code",
   "execution_count": null,
   "metadata": {},
   "outputs": [],
   "source": []
  }
 ],
 "metadata": {
  "kernelspec": {
   "display_name": "Python 3 (ipykernel)",
   "language": "python",
   "name": "python3"
  },
  "language_info": {
   "codemirror_mode": {
    "name": "ipython",
    "version": 3
   },
   "file_extension": ".py",
   "mimetype": "text/x-python",
   "name": "python",
   "nbconvert_exporter": "python",
   "pygments_lexer": "ipython3",
   "version": "3.7.8"
  }
 },
 "nbformat": 4,
 "nbformat_minor": 4
}
