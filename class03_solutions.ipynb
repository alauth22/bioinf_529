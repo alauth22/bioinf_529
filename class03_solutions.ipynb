{
 "cells": [
  {
   "cell_type": "markdown",
   "metadata": {},
   "source": [
    "# Consensus motifs"
   ]
  },
  {
   "cell_type": "markdown",
   "metadata": {},
   "source": [
    "---\n",
    "# Before Class\n",
    "In class today we will be building PWMs and using them to idenfity binding sites in a sequence.\n",
    "\n",
    "Prior to class, please do the following:\n",
    "1. Install `pdf2svg` on your machine:\n",
    "    1. On linux: `$ sudo apt-get install pdf2svg`\n",
    "    1. On mac: `$ brew install pdf2svg`\n",
    "1. Install `seqlogo` in your b529 environment using: `$ pip install seqlogo`\n",
    "1. For some machines, you will also need ghostscript: `$conda install ghostscript`\n",
    "1. Review slides on PWMs in detail\n",
    "1. Review the structure of a gene and why we reverse complement \n",
    "1. Review or read up on Python syntax for:\n",
    "      1. numpy ndarray operations (https://docs.scipy.org/doc/numpy-1.15.0/user/quickstart.html)\n",
    "      1. str.maketrans() and str.translate (https://docs.python.org/3/library/stdtypes.html#str.translate)\n",
    "      1. seqlogo (https://github.com/betteridiot/seqlogo)\n",
    "      1. functions from previous class\n"
   ]
  },
  {
   "cell_type": "markdown",
   "metadata": {},
   "source": [
    "---\n",
    "## Learning Objectives\n",
    "\n",
    "1. Build motifs from consensus sequences\n",
    "* Plot motifs as a sequence logo\n",
    "* Use motifs to score sequence and identify matches"
   ]
  },
  {
   "cell_type": "markdown",
   "metadata": {},
   "source": [
    "---\n",
    "## Background"
   ]
  },
  {
   "cell_type": "markdown",
   "metadata": {},
   "source": [
    "As seen in the lecture, one type of transcriptional regulation is through control by transcription factors. These bind specific sequences known as transcription factor binding sites (TFBS). Unlike our previous class, these sites are more degenerate than a specific sequence and so basic pattern matching through the use of regular expressions is not sufficient to describe these sequences.\n",
    "\n",
    "Our goal today will be to implement the use of PWMs to identify binding sites for a specific TFBS.\n",
    "\n",
    "We will need to install the seqlogo package to complete today's assignment:\n",
    "\n",
    "```$ pip install seqlogo```\n",
    "\n",
    "We also need the pdf to svg converter for the graphics:\n",
    "On linux: ```$ sudo apt-get install pdf2svg```\n",
    "On mac: ```$ brew install pdf2svg```"
   ]
  },
  {
   "cell_type": "markdown",
   "metadata": {},
   "source": [
    "---\n",
    "## Imports"
   ]
  },
  {
   "cell_type": "code",
   "execution_count": null,
   "metadata": {},
   "outputs": [],
   "source": [
    "import numpy as np\n",
    "\n",
    "#import function from previous class for building sequence motif & idenfitying seqs matching to motif\n",
    "from data_readers import get_fasta\n",
    "from seq_ops import reverse_complement"
   ]
  },
  {
   "cell_type": "markdown",
   "metadata": {},
   "source": [
    "---\n",
    "## Build sequence motif"
   ]
  },
  {
   "cell_type": "markdown",
   "metadata": {},
   "source": [
    "Given a provided list of sequence k-mers we are going to build a consensus motif. Recall from lecture slides..."
   ]
  },
  {
   "cell_type": "markdown",
   "metadata": {},
   "source": [
    "$PFM = \\begin{bmatrix}\n",
    "    x_{A1} & x_{A2} & x_{A3} & \\dots & x_{An} \\\\\n",
    "    x_{C1} & x_{C2} & x_{C3} & \\dots & x_{Cn} \\\\\n",
    "    x_{G1} & x_{G2} & x_{G3} & \\dots & x_{Gn} \\\\\n",
    "    x_{T1} & x_{T2} & x_{T3} & \\dots & x_{Tn}\n",
    "\\end{bmatrix}$\n",
    "\n",
    "$PWM = log_{2} \\Big(\\frac{x_{ij} + p_{i}}{\\sum_{i=A,C,G,T}x_{ij}+\\sum_{i=A,C,G,T}p_{i}}\\Big) - log_{2}(b_{i})$\n",
    "\n",
    "Where, $x_{ij}$ is the number of times nucleotide $i$ is observed at position $j$, $p_{i}$ is the pseudocount or Laplace estimator, and $b_{i}$ is the expected probability ($\\textit{a priori}$) of observing nucleotide $i$ overall. In this assignment, we will use a pseudocount of $0.25$ and a uniform background probability of $0.25$."
   ]
  },
  {
   "cell_type": "markdown",
   "metadata": {},
   "source": [
    "Using your code developed in the previous class and the FASTA file in data/class4.fa write a program to read in the raw sequence reads, convert these into a Position Frequency Matrix, and then convert this into a PWM. "
   ]
  },
  {
   "cell_type": "code",
   "execution_count": null,
   "metadata": {},
   "outputs": [],
   "source": [
    "def build_pfm(sequences, length):\n",
    "    \"\"\"Function to build a PFM using entries from a fasta file\n",
    "\n",
    "    Args:\n",
    "        sequences (list): list of sequence strings\n",
    "        length (int): size of pfm we are building\n",
    "\n",
    "    Returns:\n",
    "        pfm (numpy array): dimensions are 4xlength\n",
    "        \n",
    "    Pseudocode:\n",
    "        Initialize 4xlength numpy array as pfm (standard row order is alphabetical: A, C, G, T)\n",
    "        for each sequence:\n",
    "            for j in 1 to sequence length:\n",
    "                increment pfm[base, j]\n",
    "    \"\"\"\n",
    "    \n",
    "    # Initialize an empty numpy array\n",
    "    pfm = np.zeros((4,length), dtype=int)\n",
    "\n",
    "    # Add base-wise counts to the numpy array to build PFM matrix\n",
    "    for seq in sequences:\n",
    "\n",
    "        # Counter will track our position along the sequence (j)\n",
    "        counter = 0\n",
    "\n",
    "        # For each sequence we count which bases we see at each position (j)\n",
    "        for char in list(seq):\n",
    "\n",
    "            # An if/switch statement would work here, but this is an ASCII trick\n",
    "            #  to convert A, C, G, T to integers 0, 1, 3, 2 respectively based\n",
    "            #  on their binary representations that I include for those interested\n",
    "            #  A more standard way in Python would be just using:\n",
    "            #  dna_to_index = str.maketrans('ACGT', '0123')\n",
    "            #  for char in list(seq.translate(dna_to_index))\n",
    "            pfm[((ord(char) >> 1 & 3), counter)] += 1\n",
    "\n",
    "            # Increment counter along the sequence\n",
    "            counter+=1\n",
    "\n",
    "    # Because our trick above results in G and T in the wrong positions in the matrix\n",
    "    #  we need to swap T and G rows for consistency\n",
    "    pfm[3,:], pfm[2,:] = pfm[2,:], pfm[3,:].copy()\n",
    "\n",
    "    # return PFM\n",
    "    return pfm"
   ]
  },
  {
   "cell_type": "code",
   "execution_count": null,
   "metadata": {},
   "outputs": [],
   "source": [
    "def build_pwm(pfm):\n",
    "    \"\"\"Function to build a PWM from a PFM\n",
    "\n",
    "    Args:\n",
    "        pfm (numpy array): dimensions are 4xlength\n",
    "\n",
    "    Returns:\n",
    "        pwm (numpy array): dimensions are 4xlength\n",
    "        \n",
    "    Pseudocode:\n",
    "        Initialize 4xlength numpy array as pfm (standard row order is alphabetical: A, C, G, T)\n",
    "        Calculate column sums as sums\n",
    "        for i in A,C,G,T:\n",
    "            for j in 1 to pfm length:\n",
    "                pwm[i, j] = log2( (pfm[i,j] + p) / (sums[j] + p*4) ) - log2(background probability)\n",
    "    \"\"\"\n",
    "\n",
    "    # Initialize an empty numpy array\n",
    "    pwm = np.zeros((4,len(pfm[0])), dtype=float)\n",
    "    \n",
    "    # Calculate the sums of each column (Xij)\n",
    "    sums = np.sum(pfm, axis = 0)\n",
    "    \n",
    "    # For simplicity, pseudocounts and background are set to .25\n",
    "    p = .25\n",
    "    bg = .25\n",
    "    \n",
    "    # For each position in the matrix, apply the PWM formula\n",
    "    for i in range(4):\n",
    "            for j in range(len(pwm[0])):\n",
    "                    pwm[i,j] = np.log2((pfm[i,j] + p) / (sums[j]+p*4)) - np.log2(bg)\n",
    "\n",
    "    # Return pwm\n",
    "    return pwm"
   ]
  },
  {
   "cell_type": "code",
   "execution_count": null,
   "metadata": {},
   "outputs": [],
   "source": [
    "# File containing the list of sequences for our PWM\n",
    "file_name = 'data/class3.fa'\n",
    "\n",
    "# Read sequences from file into list\n",
    "sequences = []\n",
    "for name, seq in get_fasta(file_name):\n",
    "    sequences.append(seq)\n",
    "\n",
    "# Build pfm\n",
    "pfm = build_pfm(sequences, 20)\n",
    "print (pfm)\n",
    "\n",
    "# Build PWM\n",
    "pwm = build_pwm(pfm)\n",
    "print (pwm)"
   ]
  },
  {
   "cell_type": "raw",
   "metadata": {},
   "source": [
    "Expected output:\n",
    "[[ 60   0  46  77   0   0 171  18  27 229   0 111   0   0   0  36  88   0   37  72]\n",
    " [ 47  82  41   0 229 229   0 112 144   0   0   0   0   0   0 171   0 135   96  74]\n",
    " [ 69  40 103 152   0   0  30  99  19   0 229 118 142 229 229   0 127  94   32  70]\n",
    " [ 53 107  39   0   0   0  28   0  39   0   0   0  87   0   0  22  14   0   64  13]]\n",
    "\n",
    "[[ 0.06739929 -7.84549005 -0.31410859  0.42597298 -7.84549005 -7.84549005\n",
    "   1.57447013 -1.65566549 -1.07730573  1.99528787 -7.84549005  0.95217147\n",
    "  -7.84549005 -7.84549005 -7.84549005 -0.66558096  0.61803432 -7.84549005\n",
    "  -0.62632153  0.32943563]\n",
    " [-0.28324763  0.51645372 -0.47916784 -7.84549005  1.99528787  1.99528787\n",
    "  -7.84549005  0.96508158  1.32693746 -7.84549005 -7.84549005 -7.84549005\n",
    "  -7.84549005 -7.84549005 -7.84549005  1.57447013 -7.84549005  1.23399473\n",
    "   0.74322458  0.36882907]\n",
    " [ 0.26825212 -0.51457317  0.84450792  1.40480837 -7.84549005 -7.84549005\n",
    "  -0.92662681  0.78750515 -1.57870351 -7.84549005  1.99528787  1.04020632\n",
    "   1.30679479  1.99528787  1.99528787 -7.84549005  1.1460318   0.71293066\n",
    "  -0.8342628   0.28893627]\n",
    " [-0.11078043  0.89934379 -0.5508693  -7.84549005 -7.84549005 -7.84549005\n",
    "  -1.02531109 -7.84549005 -0.5508693  -7.84549005 -7.84549005 -7.84549005\n",
    "   0.60159318 -7.84549005 -7.84549005 -1.36975662 -2.01260004 -7.84549005\n",
    "   0.1601345  -2.1175696 ]]\n",
    "\n"
   ]
  },
  {
   "cell_type": "markdown",
   "metadata": {},
   "source": [
    "---\n",
    "## Plot motif as logo"
   ]
  },
  {
   "cell_type": "markdown",
   "metadata": {},
   "source": [
    "A typical way to display PWMs is a sequence logo. This is plot displaying the information content at each base position in the motif that we just generated. An example is below:\n",
    "<center><img src='./figures/demoLogo.png'/ width=600px></center>\n",
    "\n",
    "See documentation for this package here: https://github.com/betteridiot/seqlogo"
   ]
  },
  {
   "cell_type": "code",
   "execution_count": null,
   "metadata": {},
   "outputs": [],
   "source": [
    "import seqlogo\n",
    "\n",
    "# Use the seqlogo package to plot the PFM built above\n",
    "# You will not need to edit anything here.\n",
    "# The seqlogo expects the transpose of our pfm matrix, this can be done on a numpy array using the member function T: pfm.T\n",
    "\n",
    "seqlogo.seqlogo(seqlogo.CompletePm(pfm = pfm.T))\n"
   ]
  },
  {
   "cell_type": "markdown",
   "metadata": {},
   "source": [
    "---\n",
    "## Identify sequence matches to motif"
   ]
  },
  {
   "cell_type": "markdown",
   "metadata": {},
   "source": [
    "We are now going to scan the promoter regions (identified from last class) for matches to our motif. As we scan, consider each k-length sequence substring in both forward and reverse orientation for the entirety of each promoter.\n",
    "\n",
    "In order to calculate the score at each position, we take the sum of the matching columns to a k-mer. This is becuase each position now represents the log likelihood of observing a base at that position:\n",
    "\n",
    "k-mer : ACTAG\n",
    "\n",
    "  | N | 1 | 2 | 3 | 4 | 5 |\n",
    "  |:---:|:---:|:---:|:---:|:---:|:---:|\n",
    "| A | **0.26** | 1.26 | -1.32 | **1.49** | -0.32 |\n",
    "| C | -0.32 | **-0.32** | -1.32 | -1.32 | -1.32 |\n",
    "| G | -1.32 | -1.32 | 1.49 | -1.32 | **1.0** |\n",
    "| T | 0.68 | -1.32 | **-1.32** | -1.32 | -1.32 |\n",
    "| $\\sum$ | 0.26 | -0.32 | -1.32 | 1.49 | 1.0 |\n",
    "\n",
    "= 1.11"
   ]
  },
  {
   "cell_type": "code",
   "execution_count": null,
   "metadata": {},
   "outputs": [],
   "source": [
    "# Write a function to score a string with your PWM generated above.\n",
    "# Expected input: DNA string\n",
    "# Expected output: highest score and location of best PWM match in the sequence\n",
    "# Note: Remember to also scan the reverse compliment of the sequence!\n",
    "def score_kmer(seq, pwm):\n",
    "    \"\"\"Function to score a kmer with a pwm\n",
    "        kmer length is expected to be the same as pwm length\n",
    "\n",
    "    Args:\n",
    "        seq(str): kmer to score\n",
    "        pwm (numpy array): pwm for scoring\n",
    "\n",
    "    Returns:\n",
    "        score (float): PWM score for kmer\n",
    "        \n",
    "    Pseudocode:\n",
    "        score = 0\n",
    "        for j in seq length\n",
    "            score = score + pwm[seq[j], j]\n",
    "    \"\"\"\n",
    "    \n",
    "    # Initialize score to 0\n",
    "    score = 0\n",
    "    \n",
    "    if len(seq) != len(pwm[0]):\n",
    "        raise ValueError('K-mer and PWM are different lengths!')\n",
    "    \n",
    "    # Translator for DNA to numeric indices\n",
    "    dna_to_index = str.maketrans('ACGT', '0123')\n",
    "    \n",
    "    # Iterate across kmer and sum log likelihoods\n",
    "    for j, val in enumerate(list(seq.translate(dna_to_index)), 0):\n",
    "        score += pwm[int(val), j]\n",
    "\n",
    "    # Return score\n",
    "    return score\n",
    "\n",
    "def score_sequence(seq, pwm):\n",
    "    \"\"\"Function to score a long sequence with a pwm\n",
    "        This will scan sequence and score all \n",
    "        subsequences of length k with a pwm\n",
    "        and return the maximum score\n",
    "\n",
    "    Args:\n",
    "        seq(str): nmer to score\n",
    "        pwm (numpy array): pwm for scoring\n",
    "\n",
    "    Returns:\n",
    "        score (float): PWM score for nmer\n",
    "        position (int): 0-based index of the best match location\n",
    "         Note: for negative strand still report left-most base position\n",
    "        strand (int): 0 for positive strand, 1 for negative strand\n",
    "        \n",
    "    Pseudocode:\n",
    "        max_score = -100\n",
    "        for i pwm-length kmers in seq:\n",
    "            if kmer > max:\n",
    "                keep score, i, strand\n",
    "                max = score\n",
    "            if reverse compliment kmer > max:\n",
    "                keep score, i, strand\n",
    "                max = score            \n",
    "            \n",
    "    \"\"\"\n",
    "    \n",
    "    # Initialize score to -100\n",
    "    max_score = -100\n",
    "    max_index = 'None'\n",
    "    max_strand = 'None'\n",
    "    \n",
    "    # Get PWM length\n",
    "    pwm_len = len(pwm[0])\n",
    "    \n",
    "    # Make sure that our full sequence is at least the PWM length\n",
    "    if len(seq) < pwm_len:\n",
    "        raise ValueError('N-mer shorter than PWM!')\n",
    "    \n",
    "    # Iterate through the length of the sequence and test to see if the score is above max\n",
    "    # Note: this is greedy and only the first max hit will be recorded\n",
    "    for i in range(0, len(seq)-pwm_len+1):\n",
    "        \n",
    "        # Score the subsequence starting at i\n",
    "        if score_kmer(seq[i:pwm_len+i], pwm) > max_score:\n",
    "            max_score = score_kmer(seq[i:pwm_len+i], pwm)\n",
    "            max_index = i\n",
    "            max_strand = 0\n",
    "            \n",
    "        # Also test the reverse complement\n",
    "        if score_kmer(reverse_complement(seq[i:pwm_len+i]), pwm) > max_score:\n",
    "            max_score = score_kmer(reverse_complement(seq[i:pwm_len+i]), pwm)\n",
    "            max_index = i\n",
    "            max_strand = 1\n",
    "    \n",
    "    # Return maximum score and index\n",
    "    return max_score, max_index, max_strand"
   ]
  },
  {
   "cell_type": "code",
   "execution_count": null,
   "metadata": {},
   "outputs": [],
   "source": [
    "# Testing your functions. The following should output (7.477562910794718, 6, 0)\n",
    "print (score_sequence('TAGAGAACAACCAAAAGAGGGGACAAGGGTATA', pwm))\n"
   ]
  },
  {
   "cell_type": "code",
   "execution_count": null,
   "metadata": {},
   "outputs": [],
   "source": [
    "# Now apply this to the code from last class to score the promoters\n",
    "# You will need to extract all of the promoter regions (as done in the previous class)\n",
    "# and then score these regions using your score_sequence() function above. Please output (print)\n",
    "# the sequence, score of the best hit, position of the best hit, and the strand of the\n",
    "# best hit.\n",
    "\n",
    "# Import all of our class 2 functions\n",
    "from data_readers import *\n",
    "from seq_ops import *\n",
    "\n",
    "seq_file=\"../class_02/data/GCF_000009045.1_ASM904v1_genomic.fna.gz\"\n",
    "gff_file=\"../class_02/data/GCF_000009045.1_ASM904v1_genomic.gff.gz\"\n",
    "\n",
    "# From class 2, loop through the data to extract promoters\n",
    "for name, seq in get_fasta(seq_file):\n",
    "    for gff_entry in get_gff(gff_file):\n",
    "        if gff_entry.type == 'CDS':\n",
    "            promoter_seq = get_seq(seq, gff_entry.start, gff_entry.end, gff_entry.strand, 50)\n",
    "\n",
    "            # Now score each promoter sequence with our pwm\n",
    "            score, index, strand = score_sequence(promoter_seq, pwm)\n",
    "            print (promoter_seq, score, index, strand)\n",
    "\n"
   ]
  },
  {
   "cell_type": "code",
   "execution_count": null,
   "metadata": {},
   "outputs": [],
   "source": []
  }
 ],
 "metadata": {
  "kernelspec": {
   "display_name": "Python 3 (ipykernel)",
   "language": "python",
   "name": "python3"
  },
  "language_info": {
   "codemirror_mode": {
    "name": "ipython",
    "version": 3
   },
   "file_extension": ".py",
   "mimetype": "text/x-python",
   "name": "python",
   "nbconvert_exporter": "python",
   "pygments_lexer": "ipython3",
   "version": "3.7.12"
  }
 },
 "nbformat": 4,
 "nbformat_minor": 4
}
