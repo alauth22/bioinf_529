{
 "cells": [
  {
   "cell_type": "markdown",
   "metadata": {},
   "source": [
    "# De Bruijn graphs"
   ]
  },
  {
   "cell_type": "markdown",
   "metadata": {},
   "source": [
    "---\n",
    "## Before Class\n",
    "1. Review slides on De Bruijn graphs\n",
    "\n",
    "---\n",
    "## Learning Objectives\n",
    "1. Understand and implement De Bruijn graphs for assembly\n"
   ]
  },
  {
   "cell_type": "markdown",
   "metadata": {},
   "source": [
    "---\n",
    "## De Bruijn graphs\n",
    "\n",
    "In class today we will be implementing one of the primary assembly algorithms from short-read data that is used today. We will implement a simple form of the algorithm where we assume perfect sequencing. That is, everything is sequenced exactly once and there are no errors or variants in the sequencing. \n",
    "\n",
    "A graph is composed of nodes and edges and we will need to develop a data strcture to track edges between nodes in our graph. We have provided the basic class structure as well as descriptions of functions to `add_edge` and `remove_edge` from the graph. You will need to implement these functions in order to then build the de Bruijn graph. In our implementation below, we use a `defaultdict` data structure to hold a list of all edges in the graph where all \"right\" nodes connected to a \"left\" node are stored in a list for that node.\n",
    "\n",
    "```\n",
    "build_debruijn_graph:\n",
    "define substring length k and input string\n",
    "For each k-length substring of input:\n",
    "  split k mer into left and right k-1 mer\n",
    "  add k-1 mers as nodes with a directed edge from left k-1 mer to right k-1 mer\n",
    "```\n"
   ]
  },
  {
   "cell_type": "code",
   "execution_count": 1,
   "metadata": {},
   "outputs": [],
   "source": [
    "from collections import defaultdict\n",
    "import random\n",
    "\n",
    "class DeBruijnGraph():\n",
    "    \"\"\"Main class for De Bruijn graphs\n",
    "    \n",
    "    Private Attributes:\n",
    "        graph (defaultdict of lists): Edges for De Bruijn graph\n",
    "        first_node (str): starting position for traversing the graph\n",
    "    \"\"\"\n",
    "\n",
    "    def __init__(self, input_string, k):\n",
    "        self.graph = defaultdict(list)\n",
    "        self.first_node = ''\n",
    "        self.build_debruijn_graph(input_string, k)\n",
    "        \n",
    "    def add_edge(self, left_kmer, right_kmer):\n",
    "        ''' This function adds a new edge to the graph\n",
    "        \n",
    "        Args:\n",
    "            left (str): The k-1 mer for the left edge\n",
    "            right (str): The k-1 mer for the right edge\n",
    "\n",
    "        Updates graph attribute to add right to the list named left in defaultdict   \n",
    "        '''\n",
    "        #update the graph attribute (meaning the attribute in the class). To add right to the list named left. ATTCCTTC\n",
    "        #[ATTC] = [CCTT]\n",
    "        #this graph contains an empty dictionary list. \n",
    "        self.graph[left_kmer].append(right_kmer) #left_kmer item in the graph, append to the list it contains which will be right kmers.\n",
    "        #left_kmer is my key in the dictionary. \n",
    "        #for each key, we have a list that contains all the right-kmers. \n",
    "        \n",
    "        \n",
    "    def remove_edge(self, left_kmer, right_kmer):\n",
    "        ''' This function removes an edge from the graph\n",
    "        \n",
    "        Args:\n",
    "            left (str): The k-1 mer for the left edge\n",
    "            right (str): The k-1 mer for the right edge\n",
    "\n",
    "        Updates graph attribute to remove right from the list named left in defaultdict\n",
    "        '''\n",
    "        self.graph[left_kmer].remove(right_kmer)\n",
    "        #self.graph[left] = [right] now becomes self.graph[left] = []\n",
    "        #self.graph[left] = [right, \"AATT\", \"GCCG\"] now is self.graph[left] = [\"AATT\", \"GCCG\"]\n",
    "        \n",
    "\n",
    "    def build_debruijn_graph(self, input_string, k):\n",
    "        ''' This function builds a De Buijn graph from a string\n",
    "        \n",
    "        Args:\n",
    "            input_string (str): string to use for building the graph\n",
    "            k (int): k-mer length for graph construction\n",
    "\n",
    "        Updates graph attribute to add all valid edges from the string\n",
    "        \n",
    "        Example:\n",
    "        >>> dbg = DeBruijnGraph(\"this this this is a test\", 4)\n",
    "        >>> print(dbg.graph) #doctest: +ELLIPSIS +NORMALIZE_WHITESPACE\n",
    "        defaultdict(<class 'list'>, {'thi': ['his', 'his', 'his'], 'his': ['is ', 'is ', 'is '], ...)\n",
    "        '''\n",
    "        \n",
    "        for i in range(len(input_string)-k+1): #the last kmer isn't starting at end of the sequence bz python is inclusive. \n",
    "            #need to make a k-length substring aka a k-mer from the input_string. \n",
    "            kmer = input_string[i:i+k] #this is the normal kmer. \n",
    "            #now we need to split each kmer into left and right.\n",
    "            left_kmer = kmer[0:k-1] #keeping off the right most nc, must focus on the kmer itself. \n",
    "            right_kmer = kmer[1:k] #keeping off the left most nc\n",
    "            \n",
    "            # left_kmer = kmer[0:k-1] #keeping off the right most nc\n",
    "            # right_kmer = kmer[1:k] #keeping off the left most nc\n",
    "            \n",
    "            self.add_edge(left_kmer, right_kmer)\n",
    "      "
   ]
  },
  {
   "cell_type": "code",
   "execution_count": 2,
   "metadata": {},
   "outputs": [
    {
     "name": "stdout",
     "output_type": "stream",
     "text": [
      "defaultdict(<class 'list'>, {0: [0], 1: [1], 2: [2], 3: [3], 4: [4], 5: [5], 6: [6], 7: [7], 8: [8], 9: [9]})\n"
     ]
    }
   ],
   "source": [
    "d= defaultdict(list)\n",
    "\n",
    "for i in range(10):\n",
    "    d[i].append(i) #i is the dictionary key that you are putting into it. \n",
    "print(d)"
   ]
  },
  {
   "cell_type": "code",
   "execution_count": 3,
   "metadata": {},
   "outputs": [
    {
     "name": "stdout",
     "output_type": "stream",
     "text": [
      "dictionary with values as list:\n",
      "defaultdict(<class 'list'>, {0: [0], 1: [1], 2: [2], 3: [3], 4: [4]})\n"
     ]
    }
   ],
   "source": [
    "#defining the list\n",
    "d = defaultdict(list)\n",
    "\n",
    "for i in range(5):\n",
    "    d[i].append(i)\n",
    "print(\"dictionary with values as list:\")\n",
    "print(d)"
   ]
  },
  {
   "cell_type": "code",
   "execution_count": 4,
   "metadata": {},
   "outputs": [
    {
     "name": "stdout",
     "output_type": "stream",
     "text": [
      "[('AA', 'AT'), ('TT', 'T'), ('C', ''), ('', ''), ('', ''), ('', ''), ('', '')]\n"
     ]
    }
   ],
   "source": [
    "d = defaultdict(list)\n",
    "\n",
    "seq = \"AATTCTT\"\n",
    "k = 3\n",
    "\n",
    "edges = []\n",
    "for i in range(len(seq)):\n",
    "    kmer = seq[i:i+k]\n",
    "    edges.append((kmer[i:i+k-1], kmer[i+1:i+k]))\n",
    "print(edges)\n",
    "\n",
    "    "
   ]
  },
  {
   "cell_type": "code",
   "execution_count": 5,
   "metadata": {},
   "outputs": [
    {
     "data": {
      "text/plain": [
       "defaultdict(list,\n",
       "            {'foo': ['ool', 'ool'],\n",
       "             'ool': ['ol ', 'ol '],\n",
       "             'ol ': ['l m', 'l m'],\n",
       "             'l m': [' me', ' me'],\n",
       "             ' me': ['me '],\n",
       "             'me ': ['e o', 'e o', 'e o'],\n",
       "             'e o': [' on', ' on', ' on'],\n",
       "             ' on': ['onc', 'on ', 'on '],\n",
       "             'onc': ['nce'],\n",
       "             'nce': ['ce '],\n",
       "             'ce ': ['e s'],\n",
       "             'e s': [' sh'],\n",
       "             ' sh': ['sha', 'sha'],\n",
       "             'sha': ['ham', 'ham'],\n",
       "             'ham': ['ame', 'ame'],\n",
       "             'ame': ['me ', 'me '],\n",
       "             'on ': ['n s', 'n y'],\n",
       "             'n s': [' sh'],\n",
       "             'n y': [' yo'],\n",
       "             ' yo': ['you'],\n",
       "             'you': ['ou '],\n",
       "             'ou ': ['u f'],\n",
       "             'u f': [' fo'],\n",
       "             ' fo': ['foo']})"
      ]
     },
     "execution_count": 5,
     "metadata": {},
     "output_type": "execute_result"
    }
   ],
   "source": [
    "graph = DeBruijnGraph(\"fool me once shame on shame on you fool me\", 4)\n",
    "graph.graph"
   ]
  },
  {
   "cell_type": "markdown",
   "metadata": {},
   "source": [
    "Expected output:\n",
    "defaultdict(<class 'list'>, {'fool ': ['ool m', 'ool m'], 'ool m': ['ol me', 'ol me'], 'ol me': ['l me '], 'l me ': [' me o'], ' me o': ['me on'], 'me on': ['e onc', 'e on ', 'e on '], 'e onc': [' once'], ' once': ['once '], 'once ': ['nce s'], 'nce s': ['ce sh'], 'ce sh': ['e sha'], 'e sha': [' sham'], ' sham': ['shame', 'shame'], 'shame': ['hame ', 'hame '], 'hame ': ['ame o', 'ame o'], 'ame o': ['me on', 'me on'], 'e on ': [' on s', ' on y'], ' on s': ['on sh'], 'on sh': ['n sha'], 'n sha': [' sham'], ' on y': ['on yo'], 'on yo': ['n you'], 'n you': [' you '], ' you ': ['you f'], 'you f': ['ou fo'], 'ou fo': ['u foo'], 'u foo': [' fool'], ' fool': ['fool ']})"
   ]
  },
  {
   "cell_type": "code",
   "execution_count": 18,
   "metadata": {},
   "outputs": [
    {
     "data": {
      "text/plain": [
       "TestResults(failed=0, attempted=2)"
      ]
     },
     "execution_count": 18,
     "metadata": {},
     "output_type": "execute_result"
    }
   ],
   "source": [
    "import doctest\n",
    "doctest.testmod()"
   ]
  },
  {
   "cell_type": "code",
   "execution_count": null,
   "metadata": {},
   "outputs": [],
   "source": []
  },
  {
   "cell_type": "code",
   "execution_count": null,
   "metadata": {},
   "outputs": [],
   "source": []
  },
  {
   "cell_type": "code",
   "execution_count": null,
   "metadata": {},
   "outputs": [],
   "source": []
  },
  {
   "cell_type": "code",
   "execution_count": null,
   "metadata": {},
   "outputs": [],
   "source": []
  },
  {
   "cell_type": "code",
   "execution_count": null,
   "metadata": {},
   "outputs": [],
   "source": []
  }
 ],
 "metadata": {
  "kernelspec": {
   "display_name": "Python 3 (ipykernel)",
   "language": "python",
   "name": "python3"
  },
  "language_info": {
   "codemirror_mode": {
    "name": "ipython",
    "version": 3
   },
   "file_extension": ".py",
   "mimetype": "text/x-python",
   "name": "python",
   "nbconvert_exporter": "python",
   "pygments_lexer": "ipython3",
   "version": "3.7.8"
  }
 },
 "nbformat": 4,
 "nbformat_minor": 4
}
