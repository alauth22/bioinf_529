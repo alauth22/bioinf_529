{
 "cells": [
  {
   "cell_type": "markdown",
   "metadata": {},
   "source": [
    "# Pattern matching in sequence"
   ]
  },
  {
   "cell_type": "markdown",
   "metadata": {},
   "source": [
    "---\n",
    "## Learning Objectives\n",
    "\n",
    "1. Downloading files programmatically\n",
    "* Read & process FASTA files\n",
    "* Read & process GTF files\n",
    "* Pattern matching"
   ]
  },
  {
   "cell_type": "markdown",
   "metadata": {},
   "source": [
    "---\n",
    "## Background"
   ]
  },
  {
   "cell_type": "markdown",
   "metadata": {},
   "source": [
    "Bacteria use pattern matching in a variety of processes. These include the use of restriction enzymes that cut DNA at exact sequences as well as other factors that allow for more flexibility in the pattern match. A current popular example of this is CRISPR-Cas9 where a 20bp sequence is used to scan the genome and cut DNA. One of the earliest examples of known patterns in bacteria is the Shine-Dalgarno sequence. This pattern was identified in the mid-70s in _E. coli_ where the 3' end of the 16S rRNA sequence was found to recongize a complementary sequence (AGGAGGU) upstream of the start codon (AUG). This sequence has been shown to be important for the initiation of translation by bacterial ribosomes.\n",
    "\n",
    "Our goal today will be to identify genes with the exact matching sequence AGGAGGU in the 50bp upstream of genes in the _Bacillus subtilis_ genome."
   ]
  },
  {
   "cell_type": "markdown",
   "metadata": {},
   "source": [
    "### FASTA Format\n"
   ]
  },
  {
   "cell_type": "markdown",
   "metadata": {},
   "source": [
    "Recall from the lecture slides that the FASTA format (typically with the file extension .fa) has the following format:\n"
   ]
  },
  {
   "cell_type": "raw",
   "metadata": {},
   "source": [
    ">header line typically containing the name, contig, or some other label to identify the sequence`\n",
    "SEQUENCE\n",
    ">sequence 2\n",
    "ATGCAGATGAT\n",
    ">sequence 3\n",
    "GATATG"
   ]
  },
  {
   "cell_type": "markdown",
   "metadata": {},
   "source": [
    "### GFF Format"
   ]
  },
  {
   "cell_type": "markdown",
   "metadata": {},
   "source": [
    "Also recall from the slide that the GFF format (or Generic Feature Format) is used to annotate features in the genome. For our use case here, we will be using an annotation of the genome of _B. subtilis_ from NCBI to identify the locations of coding sequence. GFF has the following format:"
   ]
  },
  {
   "cell_type": "raw",
   "metadata": {},
   "source": [
    "Fields must be tab-separated. Also, all but the final field in each feature line must contain a value; \"empty\" columns should be denoted with a '.'\n",
    "\n",
    "Fields:\n",
    "seqname - name of the chromosome or scaffold\n",
    "source - name of the program that generated this feature, or the data source\n",
    "feature - feature type name, e.g. Gene, Variation, Similarity\n",
    "start - Start position of the feature, with sequence numbering starting at 1\n",
    "end - End position of the feature, with sequence numbering starting at 1\n",
    "score - A floating point value\n",
    "strand - defined as + (forward) or - (reverse)\n",
    "frame - One of '0', '1' or '2'. '0' indicates that the first base of the feature is the first base of a codon, '1' that the second base is the first base of a codon, etc.\n",
    "attribute - A semicolon-separated list of tag-value pairs, providing additional information about each feature\n"
   ]
  },
  {
   "cell_type": "markdown",
   "metadata": {},
   "source": [
    "---\n",
    "## Imports"
   ]
  },
  {
   "cell_type": "code",
   "execution_count": 1,
   "metadata": {},
   "outputs": [],
   "source": [
    "import gzip"
   ]
  },
  {
   "cell_type": "markdown",
   "metadata": {},
   "source": [
    "---\n",
    "## Get the data\n"
   ]
  },
  {
   "cell_type": "markdown",
   "metadata": {},
   "source": [
    "Go to NCBI and search for Bacillus subtilis subtilis 168 using the 'Genome' dropdown and copy the links to both the genome and GFF annotation file.\n",
    "\n",
    "Now use `wget` to download the files into the /data/ folder.\n",
    "\n",
    "You will need to install `wget` on your sysytem using `conda install wget`."
   ]
  },
  {
   "cell_type": "markdown",
   "metadata": {},
   "source": [
    "<center><img src='./figures/bsubtilis_screenshot.png'/></center>"
   ]
  },
  {
   "cell_type": "markdown",
   "metadata": {},
   "source": [
    "---\n",
    "## Implement FASTA and GFF reader"
   ]
  },
  {
   "cell_type": "markdown",
   "metadata": {},
   "source": [
    "We first need to build generic functions for handling sequence data (FASTA) and annotations of coordinates on that sequence (GFF). Because the _B. subtilis_ genome fasta file only has a single entry, we have provided an example fasta file to make sure that your code handles multiple sequences appropriately (data/example.fa)."
   ]
  },
  {
   "cell_type": "code",
   "execution_count": 2,
   "metadata": {},
   "outputs": [],
   "source": [
    "#FASTA READER\n",
    "\n",
    "def get_fasta(file):\n",
    "    '''Generator to lazily get all the fasta entries from a fasta file\n",
    "\n",
    "    Args:\n",
    "        file (str): /path/and/name/to.fa[.gz] \n",
    "            (file may be gziped)\n",
    "\n",
    "    Yields:\n",
    "        header (str): header sequence of fasta entry (excludes '>')\n",
    "        seq (str): concatenated string sequence of the fasta entry\n",
    "        \n",
    "    Example:\n",
    "        >>> for name, seq in get_fasta(\"data/example.fa.gz\"): print(name, seq) #doctest: +ELLIPSIS\n",
    "        seq0 GGCAG...\n",
    "    '''\n",
    "    #need to create the empty strings and set them equal to the variables. \n",
    "    #this is what will be returned in the final output. \n",
    "\n",
    "    #need to check if the file is a .gz and if it is gziped. If not it needs to be gziped. \n",
    "    if \".gz\" in file:\n",
    "        file_open = gzip.open(file, \"rt\") #want \"rt\" for text mode. \"rb\" will be for binary mode. \n",
    "    else:\n",
    "        file_open = open(file, \"rt\") #for \".gz\" files that are already open. Just need to open it. \n",
    "    \n",
    "    name = \"\"\n",
    "    seq  = \"\"\n",
    "    #need to go through each line. \n",
    "    for line in file_open:\n",
    "        #this is the main part of the generator, where it will say this is what you need. \n",
    "        #if you have both line and seq this is what you do. \n",
    "        if line.startswith(\">\") and seq:\n",
    "            name = name[1:] #this will get rid of the \">\"\n",
    "            #this is the \"return\" for a generator \n",
    "            yield name, seq\n",
    "            #resetting the variables name and seq for the next line in the file. \n",
    "            name = line.strip()\n",
    "            seq = \"\"\n",
    "        \n",
    "        #getting the first header \n",
    "        elif line.startswith(\">\"): #here is my first seq. \n",
    "            name = line.strip() \n",
    "            \n",
    "        #if the line only has the sequence and not the header, do this instead. \n",
    "        else:\n",
    "            seq += line.strip()\n",
    "        \n",
    "    #when you get to the end, there is no next line/header/sequence to trigger \n",
    "    #the generator to keep going, so it'll just stop and not include the last line. \n",
    "    #need this simple if statement to include the last line. \n",
    "    if name and seq:\n",
    "            name = name[1:]\n",
    "            yield name, seq\n",
    "    "
   ]
  },
  {
   "cell_type": "code",
   "execution_count": 3,
   "metadata": {},
   "outputs": [],
   "source": [
    "#GFF READER\n",
    "# This class does not need to be edited\n",
    "from functools import total_ordering\n",
    "\n",
    "@total_ordering\n",
    "class GffEntry:\n",
    "    ''' Main class for handling GFF entries\n",
    "    \n",
    "    Truncates the GFF entry to required data only. Also, class is totally ordered.\n",
    "    This means that comparison operators can be used on GffEntry objects\n",
    "    \n",
    "    Attributes:\n",
    "        seqid (str): The contig that the GFF entry is associated with\n",
    "        type (str): The type of object that the GFF entry classifies as\n",
    "        start (int): The left-most nucleotide position of the GFF entry relative to seqid (1-indexed)\n",
    "        end (int): The right-most nucleotide position of the GFF entry relative to seqid (1-indexed)\n",
    "        strand (str): Whether the entry is on the forward (+), backward (-) strand or N/A (.)\n",
    "    '''\n",
    "    \n",
    "    slots = 'seqid type start end strand'.split()\n",
    "    \n",
    "    def __init__(self, args):\n",
    "        \"\"\"Initialize the object.\n",
    "        \n",
    "        Aggregates all GFF entry columns, and selectively assigns them to attributes\n",
    "        \n",
    "        Args:\n",
    "            args (list): the complete stripped and split GFF entry line\n",
    "        \"\"\"\n",
    "        self.seqid = args[0]\n",
    "        self.type = args[2]\n",
    "        self.start = int(args[3])\n",
    "        self.end = int(args[4])\n",
    "        self.strand = args[6]\n",
    "    \n",
    "    def __str__(self):\n",
    "        \"\"\"Determines how GffEntry appear when `print()` is called on them\"\"\"\n",
    "        return f'{self.seqid}\\t{self.type}\\t{self.start}\\t{self.end}\\t{self.strand}'\n",
    "    \n",
    "    def __len__(self):\n",
    "        \"\"\"Determines how GffEntry reports when `len()` is called on them\"\"\"\n",
    "        return self.end - self.start\n",
    "\n",
    "    def __eq__(self, other):\n",
    "        self_check = (self.seqid, self.type, self.start, self.end, self.strand)\n",
    "        other_check = (other.seqid, other.type, other.start, other.end, other.strand)\n",
    "        if  self_check == other_check:\n",
    "            return True\n",
    "    \n",
    "    def __lt__(self, other):\n",
    "        if self.seqid < other.seqid:\n",
    "            return True\n",
    "        elif self.seqid == other.seqid:\n",
    "            if self.start < other.start:\n",
    "                return True\n",
    "            elif self.start == other.start:\n",
    "                if self.end < other.end:\n",
    "                    return True\n",
    "        \n",
    "def get_gff(gff_file):\n",
    "    '''Generator that lazily reports each of the GFF entries within the GFF file\n",
    "    \n",
    "    Args:\n",
    "        gff_file (str): /path/and/name/to.gff[.gz]\n",
    "    \n",
    "    Yields:\n",
    "        (GffEntry): A GFF entry object with the attributes of seqid, type, start, end, and strand\n",
    "\n",
    "    '''\n",
    "    \n",
    "    if '.gz' in gff_file:\n",
    "        gff_file = gzip.open(gff_file, 'rb')\n",
    "    else:\n",
    "        gff_file = open(gff_file, 'rb')\n",
    "    for entry in gff_file:\n",
    "        entry = entry.decode('ascii')\n",
    "        if entry.startswith('#') or not entry:\n",
    "            continue\n",
    "        yield GffEntry(entry.strip().split('\\t'))"
   ]
  },
  {
   "cell_type": "markdown",
   "metadata": {},
   "source": [
    "---\n",
    "## Extract promoter regions"
   ]
  },
  {
   "cell_type": "markdown",
   "metadata": {},
   "source": [
    "Given a geneome and a list of genes, we are interested in studying the promoter regions. We now need to write a function for extracting sequence from genomic coordinates. Specifically, we would like to extract the 50bp upstream of the TSS for every gene. Because we are looking for the region upstream of the TSS, use the 'CDS' annotation from the GFF file. Remember that for genes on the - strand you will need to take the reverse complement! "
   ]
  },
  {
   "cell_type": "code",
   "execution_count": 4,
   "metadata": {},
   "outputs": [],
   "source": [
    "def reverse_complement(seq):\n",
    "    '''Get the reverse complement of a nucleotide sequence\n",
    "\n",
    "    Returns the reverse complement of the input string representing a DNA \n",
    "    sequence. Works only with DNA sequences consisting solely of  A, C, G, T or N \n",
    "    characters. Preserves the case of the input sequence.\n",
    "\n",
    "    Args:\n",
    "        seq (str): a DNA sequence string\n",
    "\n",
    "    Returns:\n",
    "        (str): The reverse complement of the input DNA sequence string.\n",
    "        \n",
    "    Example:\n",
    "        >>> reverse_complement(\"ATTAG\") #doctest\n",
    "        'CTAAT'\n",
    "    '''\n",
    "      # seq_reverse = seq[::-1]\n",
    "    # for i in seq_reverse:\n",
    "    #     if i == \"T\":\n",
    "    #         print(\"A\", end = \"\")\n",
    "    #     if i == \"A\":\n",
    "    #         print(\"T\", end = \"\")\n",
    "    #     if i == \"C\":\n",
    "    #         print(\"G\", end = \"\")\n",
    "    #     if i == \"G\":\n",
    "    #         print(\"C\", end = \"\")\n",
    "    #     if i == \"t\":\n",
    "    #         print(\"a\", end = \"\")\n",
    "    #     if i == \"c\":\n",
    "    #         print(\"g\", end = \"\")\n",
    "    #     if i == \"a\":\n",
    "    #         print(\"t\", end = \"\")\n",
    "    #     if i == \"g\":\n",
    "    #         print(\"c\", end = \"\")\n",
    "    #     if i == \"N\":\n",
    "    #         print(\"N\", end = \"\")\n",
    "    #     if i == \"n\":\n",
    "    #         print(\"n\", end = \"\")\n",
    "    \n",
    "   \n",
    "\n",
    "    #this will easily tell which characters to replace and with what. \n",
    "#     #use maketrans() method \n",
    "#     char_replace = str.maketrans('ACGTNacgtn', 'TGCANtgcan')\n",
    "\n",
    "#     #translate() method will translate what I set in char_replace into the seq \n",
    "#     #which is the arguments of the function. \n",
    "#     #also we are reversing the entire sequence with [::-1]\n",
    "#     return seq.translate(char_replace)[::-1]\n",
    "    \n",
    "    seq_reverse = seq[::-1]\n",
    "    comp_dict = {'A': 'T', 'C': 'G', 'T': 'A', 'G': 'C', \"a\": \"t\", \"t\": \"a\", \"c\": \"g\", \"g\": \"c\", \"N\": \"N\", \"n\": \"n\"}\n",
    "    \n",
    "    test_seq = list(seq_reverse)\n",
    "    for i in range(len(test_seq)):\n",
    "        test_seq[i] = comp_dict[test_seq[i]]\n",
    "        final_seq = ''.join(test_seq)\n",
    "    \n",
    "    return final_seq\n"
   ]
  },
  {
   "cell_type": "code",
   "execution_count": null,
   "metadata": {},
   "outputs": [],
   "source": [
    "#sanity checks below:\n",
    "# dna = \"AATTGGCCNNaattggnn\"\n",
    "# reverse_complement(dna)"
   ]
  },
  {
   "cell_type": "code",
   "execution_count": null,
   "metadata": {},
   "outputs": [],
   "source": [
    "#     seq_reverse = seq[::-1]\n",
    "#     complement_dict = {'A': 'T', 'C': 'G', 'T': 'A', 'G': 'C', \"a\": \"t\", \"t\": \"a\", \"c\": \"g\", \"g\": \"c\", \"N\": \"N\", \"n\": \"n\"}\n",
    "    \n",
    "#     seq_reverse_1 = list(seq_reverse)\n",
    "#     for i in range(len(seq_reverse_1)):\n",
    "#         seq_reverse_1[i] = complement_dict[seq_reverse_1[i]]\n",
    "        \n",
    "#     return seq_reverse_1"
   ]
  },
  {
   "cell_type": "code",
   "execution_count": null,
   "metadata": {},
   "outputs": [],
   "source": [
    "# def test_rc(seq):\n",
    "#     seq_reverse = seq[::-1]\n",
    "#     comp_dict = {'A': 'T', 'C': 'G', 'T': 'A', 'G': 'C', \"a\": \"t\", \"t\": \"a\", \"c\": \"g\", \"g\": \"c\", \"N\": \"N\", \"n\": \"n\"}\n",
    "    \n",
    "#     test_seq = list(seq_reverse)\n",
    "#     for i in range(len(test_seq)):\n",
    "#         test_seq[i] = comp_dict[test_seq[i]]\n",
    "#         final_seq = ''.join(test_seq)\n",
    "    \n",
    "#     return final_seq"
   ]
  },
  {
   "cell_type": "code",
   "execution_count": null,
   "metadata": {},
   "outputs": [],
   "source": [
    "# seq = \"AATTCCGG\""
   ]
  },
  {
   "cell_type": "code",
   "execution_count": null,
   "metadata": {},
   "outputs": [],
   "source": [
    "# test_rc(seq)"
   ]
  },
  {
   "cell_type": "code",
   "execution_count": null,
   "metadata": {},
   "outputs": [],
   "source": [
    "# complement_dict = {'A': 'T', 'C': 'G', 'T': 'A', 'G': 'C'}"
   ]
  },
  {
   "cell_type": "code",
   "execution_count": null,
   "metadata": {},
   "outputs": [],
   "source": [
    "# seq = \"ATTAG\"\n",
    "# seq"
   ]
  },
  {
   "cell_type": "code",
   "execution_count": null,
   "metadata": {},
   "outputs": [],
   "source": [
    "# seq_1 = list(seq)\n",
    "# seq_1"
   ]
  },
  {
   "cell_type": "code",
   "execution_count": null,
   "metadata": {},
   "outputs": [],
   "source": [
    "# for i in range(len(seq_1)):\n",
    "#     seq_1[i] = complement_dict[seq_1[i]]"
   ]
  },
  {
   "cell_type": "code",
   "execution_count": null,
   "metadata": {},
   "outputs": [],
   "source": [
    "# seq_1"
   ]
  },
  {
   "cell_type": "code",
   "execution_count": null,
   "metadata": {},
   "outputs": [],
   "source": [
    "# seq = \"ATTAG\""
   ]
  },
  {
   "cell_type": "code",
   "execution_count": null,
   "metadata": {},
   "outputs": [],
   "source": [
    "# seq_reverse = seq[::-1]\n",
    "# complement_dict = {'A': 'T', 'C': 'G', 'T': 'A', 'G': 'C', \"a\": \"t\", \"t\": \"a\", \"c\": \"g\", \"g\": \"c\", \"N\": \"N\", \"n\": \"n\"}\n",
    "    \n",
    "# seq_reverse_1 = list(seq_reverse)\n",
    "# for i in range(len(seq_reverse_1)):\n",
    "#     seq_reverse_1[i] = complement_dict[seq_reverse_1[i]]\n",
    "#     ''.join(seq_reverse_1)"
   ]
  },
  {
   "cell_type": "code",
   "execution_count": null,
   "metadata": {},
   "outputs": [],
   "source": [
    "# print(seq_reverse_1)"
   ]
  },
  {
   "cell_type": "code",
   "execution_count": null,
   "metadata": {},
   "outputs": [],
   "source": []
  },
  {
   "cell_type": "code",
   "execution_count": 5,
   "metadata": {},
   "outputs": [],
   "source": [
    "def get_promoter_seq(seq, gene_start, gene_end, strand, size):\n",
    "    '''Get the desired sub sequence from genomic coordinates\n",
    "    \n",
    "    Args:\n",
    "        seq (str): nucleotide sequence\n",
    "        gene_start (int): left-most position of gene CDS\n",
    "        gene_end (int): right-most position of gene CDS\n",
    "        strand (str): Whether the entry is on the forward (+), backward (-) strand or N/A (.)\n",
    "        size (int): the size of the region to return\n",
    "    \n",
    "    Returns:\n",
    "        desired_seq (str): the desired sub-sequence of seq at coordinates start-end corrected to + strand\n",
    "        \n",
    "    Example:\n",
    "        >>> get_promoter_seq(\"ATTATATATATA\", 2, 4, '-', 3) #doctest\n",
    "        'ATA'\n",
    "        \n",
    "    '''\n",
    "\n",
    "    desired_seq = \"\"\n",
    "    #if strand is backwards, you need the reverse complement. \n",
    "    #remember you're only looking for three bases before the gene segment of interest. \n",
    "    if strand == \"-\":\n",
    "        desired_seq = reverse_complement(seq[gene_end:(gene_end + size)])\n",
    "    elif strand == \"+\":\n",
    "        desired_seq = seq[(gene_start - size - 1):(gene_start - 1)]\n",
    "    else:\n",
    "        desired_seq = seq[(gene_start - size - 1):(gene_start - 1)]\n",
    "    \n",
    "    return desired_seq\n",
    "\n"
   ]
  },
  {
   "cell_type": "code",
   "execution_count": null,
   "metadata": {},
   "outputs": [],
   "source": [
    "# #sanity checks below:\n",
    "# get_promoter_seq(\"ATTATATATATA\", 2, 4, '-', 3)"
   ]
  },
  {
   "cell_type": "code",
   "execution_count": null,
   "metadata": {},
   "outputs": [],
   "source": [
    "# get_promoter_seq(\"ATTATATATATA\", 5, 8, '+', 3)"
   ]
  },
  {
   "cell_type": "code",
   "execution_count": null,
   "metadata": {},
   "outputs": [],
   "source": [
    "# #sanity check below\n",
    "# gene = \"ABCDEFG\"\n",
    "# gene[1:4]"
   ]
  },
  {
   "cell_type": "code",
   "execution_count": null,
   "metadata": {},
   "outputs": [],
   "source": []
  },
  {
   "cell_type": "markdown",
   "metadata": {},
   "source": [
    "---\n",
    "## Use pattern matching to locate Shine-Dalgarno sequences"
   ]
  },
  {
   "cell_type": "markdown",
   "metadata": {},
   "source": [
    "Finally, we will do very basic pattern matching using regular expressions. Below implement a function to count how many of the regions have the Shine-Dalgarno sequences (AGGAGGT) in the promoter regions from our GFF file. We will define the promoters as 50bp upstream of all genes. Note: You have the option of using the RE (Regular Expressions) package here to describe more complex patterns than a simple string."
   ]
  },
  {
   "cell_type": "code",
   "execution_count": 6,
   "metadata": {},
   "outputs": [],
   "source": [
    "def count_Shine_Dalgarno(seq_file=\"data/GCF_000009045.1_ASM904v1_genomic.fna.gz\", gff_file=\"data/GCF_000009045.1_ASM904v1_genomic.gff.gz\", motif=\"AGGAGGT\"):\n",
    "    '''Function to count the instances of a motif in the 50 bp upstream of promoters\n",
    "    \n",
    "    Args:\n",
    "        seq_file (str): FASTA genome file\n",
    "        gff_file (str): GFF format file for gene annotations\n",
    "        motif (str): motif to search for\n",
    "    \n",
    "    Returns:\n",
    "        count (int): the number of matches to the motif in the 50 bp region upstream of all promoters\n",
    "        \n",
    "    Example:\n",
    "        >>> count_Shine_Dalgarno() #doctest\n",
    "        212\n",
    "        \n",
    "    '''\n",
    "    total = 0\n",
    "    \n",
    "    for name, seq in get_fasta(seq_file):\n",
    "        for entry_gff in get_gff(gff_file):\n",
    "            #we want to focus on only the \"CDS\" gene here. It is defined in the class at the beginning. \n",
    "            if entry_gff.type == \"CDS\":\n",
    "                #if the type is \"CDS\" then we want to go ahead and get all the start, end, and strand and size and get the promoter region. \n",
    "                promoter_region = get_promoter_seq(seq, entry_gff.start, entry_gff.end, entry_gff.strand, 50)\n",
    "                #now if the motif we have in the function arguments if ound in the promoter_region,\n",
    "                #then we want to add it to our variable total which is already set to 0. \n",
    "                #that is why we have += to increment it. \n",
    "                if motif in promoter_region:\n",
    "                    total += 1  \n",
    "    return total\n",
    "\n"
   ]
  },
  {
   "cell_type": "code",
   "execution_count": 7,
   "metadata": {},
   "outputs": [
    {
     "name": "stdout",
     "output_type": "stream",
     "text": [
      "**********************************************************************\n",
      "File \"__main__\", line 13, in __main__.count_Shine_Dalgarno\n",
      "Failed example:\n",
      "    count_Shine_Dalgarno() #doctest\n",
      "Expected:\n",
      "    212\n",
      "Got:\n",
      "    211\n",
      "**********************************************************************\n",
      "1 items had failures:\n",
      "   1 of   1 in __main__.count_Shine_Dalgarno\n",
      "***Test Failed*** 1 failures.\n"
     ]
    },
    {
     "data": {
      "text/plain": [
       "TestResults(failed=1, attempted=4)"
      ]
     },
     "execution_count": 7,
     "metadata": {},
     "output_type": "execute_result"
    }
   ],
   "source": [
    "# Doctest to validate function output\n",
    "import doctest\n",
    "doctest.testmod()"
   ]
  },
  {
   "cell_type": "code",
   "execution_count": null,
   "metadata": {},
   "outputs": [],
   "source": []
  }
 ],
 "metadata": {
  "kernelspec": {
   "display_name": "Python 3 (ipykernel)",
   "language": "python",
   "name": "python3"
  },
  "language_info": {
   "codemirror_mode": {
    "name": "ipython",
    "version": 3
   },
   "file_extension": ".py",
   "mimetype": "text/x-python",
   "name": "python",
   "nbconvert_exporter": "python",
   "pygments_lexer": "ipython3",
   "version": "3.7.8"
  }
 },
 "nbformat": 4,
 "nbformat_minor": 4
}
