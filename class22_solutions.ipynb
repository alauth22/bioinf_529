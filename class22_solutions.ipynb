{
 "cells": [
  {
   "cell_type": "markdown",
   "metadata": {},
   "source": [
    "# K-means Clustering\n"
   ]
  },
  {
   "cell_type": "markdown",
   "metadata": {},
   "source": [
    "---\n",
    "\n",
    "## Before Class\n",
    "This weeks class we will be implementing the K-means clustering algorithm. \n",
    "\n",
    "Prior to class, please do the following:\n",
    "1. Review the K-means algorithm\n"
   ]
  },
  {
   "cell_type": "markdown",
   "metadata": {},
   "source": [
    "---\n",
    "## Learning Objectives\n",
    "\n",
    "1. Implement K-means\n",
    "* Understanding of clustering\n",
    "* manipulation of arrays and lists in python\n"
   ]
  },
  {
   "cell_type": "markdown",
   "metadata": {},
   "source": [
    "Implement K-means clustering to partion a set of 'points' into K distinct clusters.\n",
    "\n",
    "```\n",
    "k_means_cluster(points, K):\n",
    "    Initialization: Select K random \"centroids\" from points\n",
    "    Assignment: Each point is assigned to nearest centroid cluster using Euclidean distance\n",
    "    Update: Calculate the cluster mean to be new centroids\n",
    "    Repeat Assignment and Update to convergence of centroids at tolerance level 1e-5\n",
    "```\n",
    "\n",
    "<center><img src=\"figures/kmeans.gif\"></center>\n",
    "\n",
    "For this assignment, we have provided a dataclass Point that contains the information for each point in the 2D space where we will be clustering. This class is defined below and includes a description of how to use the class. A demo of the clustering is shown above where we have plotted the steps of k-means for the demo data provided.\n",
    "\n",
    "For this question you will implement all of k-means in the `k_means_cluster` function defined below. This function includes sub functions that you will also implement for `select_initial_centroids`, `euclidean_distance`, `assign_points`, and `define_new_centroids` that are all also defined below. These sub-functions should help you break apart the parts of the algorithm described above. I have provided a `check_converge` function that you can use to know when to stop the algorithm."
   ]
  },
  {
   "cell_type": "code",
   "execution_count": 25,
   "metadata": {},
   "outputs": [],
   "source": [
    "import random\n",
    "import math\n",
    "from dataclasses import dataclass\n",
    "import pandas as pd\n",
    "import numpy as np\n",
    "from copy import deepcopy\n",
    "\n",
    "@dataclass\n",
    "class Point:\n",
    "    ''' A dataclass provided to store points and their cluster\n",
    "    Created as:\n",
    "        new_point = Point(x_position=x, y_position=y, cluster=cluster)\n",
    "    Values can be addressed as:\n",
    "        new_point.x_position = 0\n",
    "        print(new_point.y_position)\n",
    "    '''\n",
    "    x_position: float\n",
    "    y_position: float\n",
    "    cluster: int = None\n",
    "    \n",
    "def k_means_cluster(points, k, seed=None, tolerance=1e-5):\n",
    "    ''' Algorithm for k-means clustering of point objects\n",
    "    \n",
    "    Args:\n",
    "        points (list of Point) : points in our 2D space to be clustered\n",
    "        k (int) : number of clusters to generate len(points) >= k >=1 \n",
    "        seed (int) : seed for random number generator\n",
    "        tolerance (float) : Tolerance for checking for convergence of centroid positions\n",
    "        \n",
    "    Returns:\n",
    "        points (list of Point) : points in our 2D space with Point.cluster assigned to appropriate cluster\n",
    "        centroids (list of Point) : centroid locations in order of cluster number\n",
    "    \n",
    "    '''\n",
    "    def check_converge(new_centroids, old_centroids, tolerance):\n",
    "        ''' Determines if centroids have reached convergence\n",
    "        \n",
    "        Args: \n",
    "            new_centroids (list of Point): list of new centroids\n",
    "            old_centroids (list of Point): list of old centroids\n",
    "            tolerance (float): tolerance for the comparison\n",
    "            \n",
    "        Returns:\n",
    "            bool: new_centroids and old_centroids within tolerance\n",
    "        '''\n",
    "        if np.allclose(pd.Series([x.x_position for x in new_centroids]), pd.Series([x.x_position for x in old_centroids]), atol=tolerance):\n",
    "            if np.allclose(pd.Series([x.y_position for x in new_centroids]), pd.Series([x.y_position for x in old_centroids]), atol=tolerance):\n",
    "                return True\n",
    "        return False\n",
    "\n",
    "    def select_initial_centroids(points, k, seed=seed):\n",
    "        ''' Selects k random unique points from list of Point\n",
    "        This is Initialization step of k-means\n",
    "        \n",
    "        Args:\n",
    "            points (list of Point): list of points for clustering\n",
    "            k (int): number of clusters\n",
    "            seed (int): seed for random number generator\n",
    "            \n",
    "        Returns:\n",
    "            centroids (list of Point): random centroids for starting position\n",
    "        '''\n",
    "        centroids = []  \n",
    "        #Randomly select k centroids\n",
    "        random.seed(seed)\n",
    "        centroids = random.sample(points, k)\n",
    "        return centroids\n",
    "    \n",
    "    def euclidean_distance(point1, point2):\n",
    "        ''' Calculates Euclidean distance between two Points\n",
    "        \n",
    "        Args:\n",
    "            point1 (Point): first point for comparison\n",
    "            point2 (Point): second point for comparison\n",
    "            \n",
    "        Returns:\n",
    "            distance (float): Euclidean distance between points\n",
    "        '''\n",
    "        return math.sqrt((point1.x_position - point2.x_position)**2 + (point1.y_position - point2.y_position)**2)\n",
    "    \n",
    "    def assign_points(points, centroids):\n",
    "        ''' Assign points to a cluster\n",
    "        This is Assignment step of k-means\n",
    "        \n",
    "        Args: \n",
    "            points (list of Point): list of points for clustering\n",
    "            centroids (list of Point): current cluster centroids\n",
    "            \n",
    "        Returns:\n",
    "            None but updates points list to assign clusters\n",
    "        '''\n",
    "        for i, point in enumerate(points):\n",
    "            max_dist = float('Inf')\n",
    "            for j, point2 in enumerate(centroids):\n",
    "                distance = euclidean_distance(point, point2)\n",
    "                if distance < max_dist:\n",
    "                    max_dist = distance\n",
    "                    point.cluster = j\n",
    "        pass\n",
    "            \n",
    "    def define_new_centroids(points, k):\n",
    "        ''' Create new centroids based on points clusters\n",
    "        This is Update step of k-means\n",
    "        \n",
    "        Args:\n",
    "            points (list of Point): list of points for clustering\n",
    "            k (int): number of clusters\n",
    "        \n",
    "        Returns:\n",
    "            new_centroids (list of Point): calculated new centroids of each cluster\n",
    "        '''\n",
    "        new_centroids = []\n",
    "        for j in range(k):\n",
    "            items = [item for item in points if item.cluster == j]\n",
    "            x_sum = sum([item.x_position for item in items])\n",
    "            y_sum = sum([item.y_position for item in items])\n",
    "            new_centroids.append(Point(x_position = x_sum/len(items), y_position = y_sum/len(items)))\n",
    "        return new_centroids\n",
    "        \n",
    "        \n",
    "    # Check valid k\n",
    "    assert k > 0, \"k must be greater than 0.\"\n",
    "    assert k <= len(points), \"k must be less than or equal to the number of points.\"\n",
    "    \n",
    "    # First iteration select random centroids:\n",
    "    centroids = select_initial_centroids(points, k)\n",
    "    \n",
    "    # Now until convergence we do this:\n",
    "    converged = False\n",
    "    iteration_count = 1\n",
    "    while not converged:\n",
    "        old_centroids = deepcopy(centroids)\n",
    "        \n",
    "        # Assign points\n",
    "        assign_points(points, centroids)\n",
    "        \n",
    "        centroids = define_new_centroids(points, k)\n",
    "        iteration_count += 1\n",
    "\n",
    "        if check_converge(centroids, old_centroids, tolerance):\n",
    "            converged = True\n",
    "    \n",
    "    return points, centroids"
   ]
  },
  {
   "cell_type": "code",
   "execution_count": 27,
   "metadata": {},
   "outputs": [],
   "source": [
    "# This is demo code to initialize a set of point objects similar to that in the slides from class\n",
    "demo_points_x = [3,4,4,5,5,6,6,7,7,5,6,7,8,8,8,9,11,12,13,13,17,17,18,18,18,19,21]\n",
    "demo_points_y = [7,5,3,6,7,5,7,6,5,14,15,13,16,13,12,14,13,15,15,13,7,9,5,7,9,6,8]\n",
    "list_of_points = []\n",
    "for x,y, in zip(demo_points_x, demo_points_y):\n",
    "    list_of_points.append(Point(x_position=x, y_position=y))"
   ]
  },
  {
   "cell_type": "code",
   "execution_count": 33,
   "metadata": {},
   "outputs": [
    {
     "name": "stdout",
     "output_type": "stream",
     "text": [
      "[Point(x_position=9.090909090909092, y_position=13.909090909090908, cluster=None), Point(x_position=5.222222222222222, y_position=5.666666666666667, cluster=None), Point(x_position=18.285714285714285, y_position=7.285714285714286, cluster=None)]\n"
     ]
    },
    {
     "data": {
      "image/png": "[encoded data removed]",
      "text/plain": [
       "<Figure size 432x288 with 1 Axes>"
      ]
     },
     "metadata": {
      "needs_background": "light"
     },
     "output_type": "display_data"
    }
   ],
   "source": [
    "points, centroids = k_means_cluster(list_of_points, 3, seed=2)\n",
    "print(centroids)\n"
   ]
  }
 ],
 "metadata": {
  "kernelspec": {
   "display_name": "Python 3 (ipykernel)",
   "language": "python",
   "name": "python3"
  },
  "language_info": {
   "codemirror_mode": {
    "name": "ipython",
    "version": 3
   },
   "file_extension": ".py",
   "mimetype": "text/x-python",
   "name": "python",
   "nbconvert_exporter": "python",
   "pygments_lexer": "ipython3",
   "version": "3.7.8"
  }
 },
 "nbformat": 4,
 "nbformat_minor": 4
}
