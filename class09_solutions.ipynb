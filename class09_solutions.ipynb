{
 "cells": [
  {
   "cell_type": "markdown",
   "metadata": {},
   "source": [
    "# Read Coverage and Variant Calling"
   ]
  },
  {
   "cell_type": "markdown",
   "metadata": {},
   "source": [
    "---\n",
    "## Before Class\n",
    "1. Install bowtie2, samtools, and bamnostic: `conda install bowtie2 samtools bamnostic`\n",
    "* Review bowtie2, samtools, and bamnostic documentation\n",
    "* Review Counter from collections\n",
    "---\n",
    "## Learning Objectives\n",
    "\n",
    "1. Use BWT algorithm to map reads to a genome\n",
    "* Implement 'pileup' method\n",
    "* Call variants from DNA sequencing data"
   ]
  },
  {
   "cell_type": "markdown",
   "metadata": {},
   "source": [
    "Before class:\n",
    "`conda install bowtie2 bamnostic samtools`"
   ]
  },
  {
   "cell_type": "markdown",
   "metadata": {},
   "source": [
    "---\n",
    "## Imports"
   ]
  },
  {
   "cell_type": "code",
   "execution_count": null,
   "metadata": {},
   "outputs": [],
   "source": [
    "import bamnostic as bs\n",
    "from collections import Counter\n",
    "from scipy.stats import binom_test"
   ]
  },
  {
   "cell_type": "markdown",
   "metadata": {},
   "source": [
    "---\n",
    "## Mapping to a genome\n",
    "\n",
    "In our previous class, we developed our own tool for mapping reads to a genome using the efficient BWT algorithm. Today, we will be using an existing implementation of this algorithm to align many reads to a small genome. \n",
    "\n",
    "For the next few classes, we will be working with a small genome that we will assume represents a sample from a diploid individual from a population. The genome itself is quite small at ~9kb and contains only a few genes to make analysis during class tractable. \n"
   ]
  },
  {
   "cell_type": "code",
   "execution_count": null,
   "metadata": {},
   "outputs": [],
   "source": [
    "# We can use our original get_fasta function to examine the fasta file for the genome\n",
    "from data_readers import get_fasta\n",
    "file = \"data/sample_genome.fna\"\n",
    "\n",
    "for name, seq in get_fasta(file):\n",
    "    print(seq[1:300])"
   ]
  },
  {
   "cell_type": "markdown",
   "metadata": {},
   "source": [
    "Our first step will be creating an index using BWT so that we can align reads. To accomplish this, we could use the code from class. However, because we only allow for exact matches, we wouldn't be able to identify variants in our data. Instead, we will be using an aligner that uses the same algorithm that we implemented but allows for some mismatches to the genome called Bowtie2 ( http://bowtie-bio.sourceforge.net/bowtie2/index.shtml ). Because this is building the index of the reference genome (the Burrows-Wheeler transform), you only have to do this once for our genome.\n",
    "\n",
    "First, create an index of the reference genome using `bowtie2-build`:"
   ]
  },
  {
   "cell_type": "code",
   "execution_count": null,
   "metadata": {},
   "outputs": [],
   "source": [
    "# This gives us the usage information for bowtie2-build\n",
    "! bowtie2-build"
   ]
  },
  {
   "cell_type": "code",
   "execution_count": null,
   "metadata": {},
   "outputs": [],
   "source": [
    "# From above, the correct format for building an index is:\n",
    "# bowtie2-build <our genome FASTA file> <name of the index we create>\n",
    "! bowtie2-build data/sample_genome.fna sample_genome"
   ]
  },
  {
   "cell_type": "markdown",
   "metadata": {},
   "source": [
    "Once you have created an index, you can map our reads to the genome. We have a set of simulated illumina DNA reads from this genome available in `data/sample_reads.fa`. To accomplish this, use `bowtie2` and write your files to `sample_reads.sam` using the `-S` option."
   ]
  },
  {
   "cell_type": "code",
   "execution_count": null,
   "metadata": {},
   "outputs": [],
   "source": [
    "# This gives us the usage information for bowtie2\n",
    "! bowtie2"
   ]
  },
  {
   "cell_type": "code",
   "execution_count": null,
   "metadata": {},
   "outputs": [],
   "source": [
    "# From above, the correct format for building an index is:\n",
    "# bowtie2 -f -x <name of the index we created> -U <FASTA of sequence reads> -S <name of SAM output file>\n",
    "# *We use -f because our input is a fasta file\n",
    "! bowtie2 -f -x sample_genome -U data/sample_reads.fa -S sample_reads.sam"
   ]
  },
  {
   "cell_type": "markdown",
   "metadata": {},
   "source": [
    "You will also need to convert the sam file into a bam file using samtools sort. You can read more about samtools: http://www.htslib.org/"
   ]
  },
  {
   "cell_type": "code",
   "execution_count": null,
   "metadata": {},
   "outputs": [],
   "source": [
    "# This gives us the usage information for samtools sort\n",
    "! samtools sort"
   ]
  },
  {
   "cell_type": "code",
   "execution_count": null,
   "metadata": {},
   "outputs": [],
   "source": [
    "# From above, the correct format for building the bam file is:\n",
    "# samtools sort -o <name of bam file output> <name of sam file input>\n",
    "! samtools sort -o sample_reads.bam sample_reads.sam"
   ]
  },
  {
   "cell_type": "markdown",
   "metadata": {},
   "source": [
    "You have now mapped your reads to a reference genome using the Burrows-Wheeler algorithm! You can take a look at the sample_reads.sam file to see the plain text version of the alignments and the sample_reads.bam now contains a compressed version of the same alignments.\n",
    "\n",
    "---\n",
    "## Identifying variants in the genome\n",
    "\n",
    "For the second section of today's class, we will be identifying variants in our diploid genome. We will be using the `bamnostic` package ( https://github.com/betteridiot/bamnostic ) to work with our aligned reads from a bam file.\n",
    "\n",
    "To identify variants, we will test each position for non-reference alleles and perform a binomial test to determine if there is indeed a variant or just a sequencing error at that position. This algorithm is somtimes referred to as a 'pileup'.\n",
    "\n",
    "```\n",
    "find_variants(bam_file):\n",
    "    For each position in genome:\n",
    "        count allele frequencies (pileup)\n",
    "        test for heterozygosity\n",
    "        test for homozygous alternative allele\n",
    "```\n",
    "\n",
    "Note: There are multuple ways to implement this, however we recommend using `Counter()` from `collections` that has been discussed and demonstrated multiple times on the office hours live streams. The binomial test can be implemented directly from the equation below, or you can use scipy.stats.\n",
    "\n",
    "Binomial test is calculated as: $P(X=k) = {n \\choose k}p^{k}(1-p)^{n-k}$ where $k$ is the allele count, $n$ is the total number of reads, and $p$ is 0.50."
   ]
  },
  {
   "cell_type": "code",
   "execution_count": 2,
   "metadata": {},
   "outputs": [],
   "source": [
    "import bamnostic as bs\n",
    "from collections import Counter\n",
    "from scipy.stats import binom_test\n",
    "\n",
    "def get_pileup(alignments, region_start = None, region_end = None):\n",
    "    ''' Function build a read pileup list\n",
    "        this is implemented as a list of Counter() from region_start to region_end\n",
    "        with our small genome, it is reasonable to cover the entire genome\n",
    "        but for larger genomes a smaller window is required.\n",
    "    \n",
    "    Args:\n",
    "        alignments (str): bam file of alignments\n",
    "        region_start (int): start position to build pileup\n",
    "        region_end (int): end position to build pileup\n",
    "    \n",
    "    Returns:\n",
    "        genome (list of Counter()): a list from region_start to region_end of\n",
    "            Counters of allele frequencies\n",
    "        \n",
    "    Example:\n",
    "        >>> get_pileup('sample_reads.bam') #doctest: +ELLIPSIS +NORMALIZE_WHITESPACE \n",
    "        [Counter({'G': 5}), Counter({'G': 8}), Counter({'T': 12}), ...] \n",
    "    '''\n",
    "    bam = bs.AlignmentFile(alignments, 'rb')\n",
    "\n",
    "    if(region_start == None):\n",
    "        region_start = 0\n",
    "        \n",
    "    if(region_end == None):\n",
    "        region_end = bam.header['SQ'][0]['LN']\n",
    "        \n",
    "    genome = [Counter() for _ in range(region_start, region_end)]\n",
    "    \n",
    "    for read in bam:\n",
    "        for i, base in enumerate(read.seq, read.pos):\n",
    "            print(base)\n",
    "            if i >= region_start and i <= region_end:\n",
    "                genome[i-region_start].update(base) #sets us back to 0 being the region_start.\n",
    "    \n",
    "    \n",
    "    return genome\n",
    "\n",
    "def binomial_test(major, minor):\n",
    "    ''' Function to perform binomial test\n",
    "        We will consider a Pvalue threshold of 0.10: \n",
    "        SNPs for which the P value of the binomial test < 0.10 failed the heterozygosity test.\n",
    "\n",
    "    Args:\n",
    "        major (int): count of most frequent allele\n",
    "        minor (int): count of second most frequent allele\n",
    "    \n",
    "    Returns:\n",
    "        is_above_threshold (bool): true if passes heterozygosity test, otherwise false\n",
    "        \n",
    "    Example:\n",
    "        >>> binomial_test(8, 4)\n",
    "        True\n",
    "    '''\n",
    "    p_val = binom_test(major, major+minor, 1/2)\n",
    "    if p_val >= .1:\n",
    "        return True\n",
    "\n",
    "    return False\n",
    "\n",
    "def find_variants(reference, alignments):\n",
    "    ''' Function to find variants given sequencing alignments and a reference\n",
    "        Identify variants that are heterozygous using heterozygosity test\n",
    "        Identify variants that are homozygous alternative allele\n",
    "        \n",
    "        Note: Variants are reported as 1-based coordinates\n",
    "        \n",
    "    Args:\n",
    "        reference (str): genome reference fasta file\n",
    "        alignments (str): sequence alignments\n",
    "    \n",
    "    Returns:\n",
    "        variant_list (list of tuples): list of variants as (position, allele1, allele2)\n",
    "        \n",
    "    Example:\n",
    "        >>> find_variants(reference = 'data/sample_genome.fna', alignments = 'sample_reads.bam') #doctest: +ELLIPSIS +NORMALIZE_WHITESPACE \n",
    "        [(240, 'A', 'G'), (354, 'G', 'A'), (803, 'C', 'A'), ...]\n",
    "    '''\n",
    "    \n",
    "    variant_list = []\n",
    "    \n",
    "    # Get our genome to track variants\n",
    "    genome = None\n",
    "    for name, seq in get_fasta(reference):\n",
    "        genome = seq\n",
    "\n",
    "    # Build pileup\n",
    "    genome_pileup = get_pileup(alignments, 0, len(genome))\n",
    "    \n",
    "    # Iterate through genome to identify variants\n",
    "    for i, counter in enumerate(genome_pileup, 1): # start at 1 since variants are reported as 1-based\n",
    "        ref_allele = genome[i-1] # Expected allele is our reference allele:\n",
    "        top_alleles = counter.most_common(2) # Get two top alleles\n",
    "        \n",
    "        if len(counter) > 1: #test for heterozygous alleles\n",
    "            if binomial_test(top_alleles[0][1], top_alleles[1][1]):\n",
    "                # This is a SNP:\n",
    "                variant_list.append((i, top_alleles[0][0], top_alleles[1][0]))\n",
    "        elif len(counter) == 0: #no reads here\n",
    "            next\n",
    "        else: # test for homozygous alternate site\n",
    "            if counter[ref_allele] == 0:\n",
    "                print (top_alleles)\n",
    "                variant_list.append((i, top_alleles[0][0], top_alleles[0][0]))\n",
    "\n",
    "    return variant_list"
   ]
  },
  {
   "cell_type": "code",
   "execution_count": 3,
   "metadata": {},
   "outputs": [
    {
     "ename": "NameError",
     "evalue": "name 'get_fasta' is not defined",
     "output_type": "error",
     "traceback": [
      "\u001b[0;31m---------------------------------------------------------------------------\u001b[0m",
      "\u001b[0;31mNameError\u001b[0m                                 Traceback (most recent call last)",
      "\u001b[0;32m/var/folders/f0/f31tss896y3fkq0mqk3ry0j40000gn/T/ipykernel_2153/2921316580.py\u001b[0m in \u001b[0;36m<module>\u001b[0;34m\u001b[0m\n\u001b[0;32m----> 1\u001b[0;31m \u001b[0mprint\u001b[0m\u001b[0;34m(\u001b[0m\u001b[0mfind_variants\u001b[0m\u001b[0;34m(\u001b[0m\u001b[0mreference\u001b[0m \u001b[0;34m=\u001b[0m \u001b[0;34m'data/sample_genome.fna'\u001b[0m\u001b[0;34m,\u001b[0m \u001b[0malignments\u001b[0m \u001b[0;34m=\u001b[0m \u001b[0;34m'sample_reads.bam'\u001b[0m\u001b[0;34m)\u001b[0m\u001b[0;34m)\u001b[0m\u001b[0;34m\u001b[0m\u001b[0;34m\u001b[0m\u001b[0m\n\u001b[0m",
      "\u001b[0;32m/var/folders/f0/f31tss896y3fkq0mqk3ry0j40000gn/T/ipykernel_2153/795113573.py\u001b[0m in \u001b[0;36mfind_variants\u001b[0;34m(reference, alignments)\u001b[0m\n\u001b[1;32m     89\u001b[0m     \u001b[0;31m# Get our genome to track variants\u001b[0m\u001b[0;34m\u001b[0m\u001b[0;34m\u001b[0m\u001b[0;34m\u001b[0m\u001b[0m\n\u001b[1;32m     90\u001b[0m     \u001b[0mgenome\u001b[0m \u001b[0;34m=\u001b[0m \u001b[0;32mNone\u001b[0m\u001b[0;34m\u001b[0m\u001b[0;34m\u001b[0m\u001b[0m\n\u001b[0;32m---> 91\u001b[0;31m     \u001b[0;32mfor\u001b[0m \u001b[0mname\u001b[0m\u001b[0;34m,\u001b[0m \u001b[0mseq\u001b[0m \u001b[0;32min\u001b[0m \u001b[0mget_fasta\u001b[0m\u001b[0;34m(\u001b[0m\u001b[0mreference\u001b[0m\u001b[0;34m)\u001b[0m\u001b[0;34m:\u001b[0m\u001b[0;34m\u001b[0m\u001b[0;34m\u001b[0m\u001b[0m\n\u001b[0m\u001b[1;32m     92\u001b[0m         \u001b[0mgenome\u001b[0m \u001b[0;34m=\u001b[0m \u001b[0mseq\u001b[0m\u001b[0;34m\u001b[0m\u001b[0;34m\u001b[0m\u001b[0m\n\u001b[1;32m     93\u001b[0m \u001b[0;34m\u001b[0m\u001b[0m\n",
      "\u001b[0;31mNameError\u001b[0m: name 'get_fasta' is not defined"
     ]
    }
   ],
   "source": [
    "print(find_variants(reference = 'data/sample_genome.fna', alignments = 'sample_reads.bam'))"
   ]
  },
  {
   "cell_type": "code",
   "execution_count": null,
   "metadata": {},
   "outputs": [],
   "source": [
    "import doctest\n",
    "doctest.testmod()"
   ]
  },
  {
   "cell_type": "code",
   "execution_count": null,
   "metadata": {},
   "outputs": [],
   "source": []
  },
  {
   "cell_type": "code",
   "execution_count": null,
   "metadata": {},
   "outputs": [],
   "source": []
  },
  {
   "cell_type": "code",
   "execution_count": null,
   "metadata": {},
   "outputs": [],
   "source": []
  },
  {
   "cell_type": "code",
   "execution_count": null,
   "metadata": {},
   "outputs": [],
   "source": []
  }
 ],
 "metadata": {
  "kernelspec": {
   "display_name": "Python 3 (ipykernel)",
   "language": "python",
   "name": "python3"
  },
  "language_info": {
   "codemirror_mode": {
    "name": "ipython",
    "version": 3
   },
   "file_extension": ".py",
   "mimetype": "text/x-python",
   "name": "python",
   "nbconvert_exporter": "python",
   "pygments_lexer": "ipython3",
   "version": "3.7.8"
  }
 },
 "nbformat": 4,
 "nbformat_minor": 4
}
