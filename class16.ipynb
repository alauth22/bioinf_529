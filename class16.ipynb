{
 "cells": [
  {
   "cell_type": "markdown",
   "metadata": {},
   "source": [
    "# Profile HMMs\n",
    "\n",
    "---\n",
    "## Learning Objectives\n",
    "\n",
    "1. Apply HMMs to describe PSSMs\n",
    "* Develop model structure for Profile HMM\n",
    "* Build and apply model\n",
    "\n"
   ]
  },
  {
   "cell_type": "markdown",
   "metadata": {},
   "source": [
    "---\n",
    "\n",
    "Today we will be reviewing Profile HMMs in class including a demonstration of how we can implement profile HMMs using our existing framework. \n",
    "\n",
    "This is a diagram of Hidden Markov Model used in HMMER (from the HMMER User Guide by Sean Eddy). The chain of match (M), insert (I), and deletion (D) states can be extended to match the length of the multiple sequence alignment that is used as the training set to produce a model. Individual sequences may then be aligned to the model and scored based on the probability that the model would emit that sequence."
   ]
  },
  {
   "cell_type": "markdown",
   "metadata": {},
   "source": [
    "<center><img src='./figures/HMM_Diagram.PNG'/></center>"
   ]
  },
  {
   "cell_type": "markdown",
   "metadata": {},
   "source": [
    "\n",
    "We will be implementing a Profile HMM using the BAR domain discussed in the slides.\n",
    "\n",
    "To accomplish this, we will implement two functions. First, `get_valid_states()` will provide a list of states that meet our heuristic threshold in the model (denoted as *s in the slides). Second, we will implement `build_profileHMM()` that will use our existing HMM class structure (inlcuded here in HMM.py) to develop a model in the above structure.\n",
    "\n",
    "A few caveats: Our HMM implementation requires that all possible emissions and transitions exist in the dictionary. That is, any hidden state must have probabilities of emiting the entire alphabet and the transition matrix must have a probability for every state going to every other state in the model. These probabilites can be set to 0 to create the profile HMM structure, but they must be set."
   ]
  },
  {
   "cell_type": "code",
   "execution_count": 1,
   "metadata": {},
   "outputs": [],
   "source": [
    "# Imports\n",
    "from data_readers import get_fasta\n",
    "from collections import Counter, defaultdict\n",
    "from HMM import HMM\n",
    "import json"
   ]
  },
  {
   "cell_type": "code",
   "execution_count": null,
   "metadata": {},
   "outputs": [],
   "source": [
    "def get_valid_states(fasta_file, threshold=0.7):\n",
    "    ''' \n",
    "    Function to determine which positions in an alignment are valid states in the profile HMM given a threshold\n",
    "    \n",
    "    Args: \n",
    "        fasta_file (str): fasta file containing alignments\n",
    "        threshold (float): the threshold of allowed gap characters (default = 0.7)\n",
    "\n",
    "    Returns:\n",
    "        valid_states (list of bools): list of booleans (True/False) if each position is above the threshold\n",
    "        \n",
    "    Example:\n",
    "        >>> get_valid_states(\"data/BAR.fa\", 0.7) #doctest: +ELLIPSIS\n",
    "        [True, True, True, True, False, ...]\n",
    "    '''\n",
    "    #create what is to be returned in the end. \n",
    "    #empty list for all the boolean states. \n",
    "    valid_states = []\n",
    "    \n",
    "    #fasta_file: fasta file containing all alignments \n",
    "    #we first need to grab all our alignments \n",
    "    for name, seq in get_fasta(fasta_file):\n",
    "        for pos in range(len(seq) - 1):\n",
    "            tracker = \"\"\n",
    "            #for each position, if the value at that position != \"-\" \n",
    "            if seq[pos] != \"-\" and seq[pos] > threshold:\n",
    "                tracker + \"True\"\n",
    "            else:\n",
    "                tracker + \"False\"\n",
    "    \n",
    "    valid_states.append(tracker) \n",
    "    \n",
    "    "
   ]
  },
  {
   "cell_type": "code",
   "execution_count": 4,
   "metadata": {},
   "outputs": [],
   "source": [
    "test1 = []"
   ]
  },
  {
   "cell_type": "code",
   "execution_count": 5,
   "metadata": {},
   "outputs": [],
   "source": [
    "tracker = \"True, Flase, True\""
   ]
  },
  {
   "cell_type": "code",
   "execution_count": 6,
   "metadata": {},
   "outputs": [],
   "source": [
    "test1.append(tracker)"
   ]
  },
  {
   "cell_type": "code",
   "execution_count": 7,
   "metadata": {},
   "outputs": [
    {
     "data": {
      "text/plain": [
       "['True, Flase, True']"
      ]
     },
     "execution_count": 7,
     "metadata": {},
     "output_type": "execute_result"
    }
   ],
   "source": [
    "test1"
   ]
  },
  {
   "cell_type": "code",
   "execution_count": null,
   "metadata": {},
   "outputs": [],
   "source": []
  },
  {
   "cell_type": "code",
   "execution_count": null,
   "metadata": {},
   "outputs": [],
   "source": []
  },
  {
   "cell_type": "code",
   "execution_count": null,
   "metadata": {},
   "outputs": [],
   "source": []
  },
  {
   "cell_type": "markdown",
   "metadata": {},
   "source": [
    "As mentioned in the slides, we need to update the states for the HMM using the following equations:\n",
    "\n",
    "$a_{kl} = A_{kl} / \\sum_{l'}A_{kl'}$\n",
    "\n",
    "$e_{k}(a) = E_{k}(a) / \\sum_{a'}E_{k}(a')$\n",
    "\n",
    "Where $k$ and $l$ represent state indices, $a_{kl}$ and $e_{k}$ are transition and emission probabilities, respectively, and $A_{kl}$ and $E_{k}$ are the corresponding frequencies.\n"
   ]
  },
  {
   "cell_type": "code",
   "execution_count": null,
   "metadata": {},
   "outputs": [],
   "source": [
    "#Train model using the BAR domain data in data/BAR.fa\n",
    "\n",
    "# In order to build our model, we will need to set default paramters in an \n",
    "# initialized HMM using pseudocounts and then update these values with the \n",
    "# information in the fasta file\n",
    "def build_profileHMM(alphabet, valid_states, fasta_file, pseudocount=0.01):\n",
    "    ''' \n",
    "    Function to initialize a Profile HMM structure\n",
    "    \n",
    "    Args: \n",
    "        alphabet (list): alphabet characters for the model\n",
    "        valid_states (list of bools): all positions in the alignments that are in match states\n",
    "        fasta_file (str): fasta file containing alignments\n",
    "        pseudocount (float): value to set as initial probabilities\n",
    "\n",
    "    Returns:\n",
    "        profile_HMM (HMM): HMM object\n",
    "        \n",
    "    Pseudocode:\n",
    "    Initialize full initial, emission, and transition matrix to 0s (our HMM object requires all transitions and emissions are set to at least 0)\n",
    "    Initialize possible emissions and transitons to pseudocount\n",
    "    Calculate probabilities at each position given valid_states and fasta_file\n",
    "        \n",
    "    '''\n",
    "    \n",
    "    #initialize the full initial, emission, and transition matrix to 0s. \n",
    "    np.zeros #\n",
    "    \n",
    "    \n",
    "    \n",
    "    "
   ]
  },
  {
   "cell_type": "code",
   "execution_count": null,
   "metadata": {},
   "outputs": [],
   "source": [
    "valid_states = get_valid_states(\"data/BAR_Short.fa\", 0.5)\n",
    "alphabet = list('GALMFWKQESPVICYHRNDT')\n",
    "profile = build_profileHMM(alphabet, valid_states, \"data/BAR_Short.fa\")"
   ]
  },
  {
   "cell_type": "code",
   "execution_count": null,
   "metadata": {},
   "outputs": [],
   "source": [
    "# Exact example from slides\n",
    "sequence = \"TKLDDDFKE\"\n",
    "\n",
    "print (\"Forward:\")\n",
    "f_Px, f_matrix = profile.forward(list(sequence))\n",
    "print (f_Px)\n"
   ]
  },
  {
   "cell_type": "markdown",
   "metadata": {},
   "source": [
    "Expected output:\n",
    "Forward:\n",
    "9.605647218365268e-05"
   ]
  },
  {
   "cell_type": "code",
   "execution_count": null,
   "metadata": {},
   "outputs": [],
   "source": [
    "print(profile)"
   ]
  },
  {
   "cell_type": "code",
   "execution_count": null,
   "metadata": {},
   "outputs": [],
   "source": []
  }
 ],
 "metadata": {
  "kernelspec": {
   "display_name": "Python 3 (ipykernel)",
   "language": "python",
   "name": "python3"
  },
  "language_info": {
   "codemirror_mode": {
    "name": "ipython",
    "version": 3
   },
   "file_extension": ".py",
   "mimetype": "text/x-python",
   "name": "python",
   "nbconvert_exporter": "python",
   "pygments_lexer": "ipython3",
   "version": "3.7.8"
  }
 },
 "nbformat": 4,
 "nbformat_minor": 4
}
