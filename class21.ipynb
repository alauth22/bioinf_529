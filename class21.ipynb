{
 "cells": [
  {
   "cell_type": "markdown",
   "metadata": {},
   "source": [
    "# Hierarchical Clustering - UPGMA"
   ]
  },
  {
   "cell_type": "markdown",
   "metadata": {},
   "source": [
    "---\n",
    "\n",
    "## Before Class\n",
    "This weeks class we will be implementing UPGMA for hierarchical clustering. I have provided the code from Monday's class.\n",
    "\n",
    "Prior to class, please do the following:\n",
    "1. Review the UPGMA algorithm\n",
    "2. Familiarize yourself with numpy array operations: delete, append, concatenate"
   ]
  },
  {
   "cell_type": "markdown",
   "metadata": {},
   "source": [
    "---\n",
    "## Learning Objectives\n",
    "\n",
    "1. Implement UPGMA\n",
    "* Understanding of hierarchical clustering\n",
    "* manipulation of arrays and lists in python\n"
   ]
  },
  {
   "cell_type": "markdown",
   "metadata": {},
   "source": [
    "---\n",
    "## Background\n",
    "Today we will implement a frequently used hierarchical clustering algorithm from Sokal and Michener (1958) called UPGMA - unweighted pair group method using arithmetic averages. We have previously implemented a distance matrix calculation, and so we will use those functions to implement the UPGMA algorithm below. The ultimate goal of this algorithm will be hierarchical clustering of sequence data using hamming distances. This step is often performed before multiple sequence alignment to avoid the order inconsistencies as shown in the slides for the class. The ultimate output of the algorithm will be a tree of our initial pair-wise alignments:\n",
    "\n",
    "<img src=\"figures/final_tree.png\">\n"
   ]
  },
  {
   "cell_type": "markdown",
   "metadata": {},
   "source": [
    "---\n",
    "## Imports"
   ]
  },
  {
   "cell_type": "code",
   "execution_count": 19,
   "metadata": {},
   "outputs": [],
   "source": [
    "import numpy as np"
   ]
  },
  {
   "cell_type": "markdown",
   "metadata": {},
   "source": [
    "---\n",
    "## Distance metrics for comparing sequences\n",
    "\n",
    "### Hamming Distance\n",
    "\n"
   ]
  },
  {
   "cell_type": "code",
   "execution_count": 20,
   "metadata": {},
   "outputs": [],
   "source": [
    "def hamming_distance(alignment1, alignment2): \n",
    "    ''' Function to calculate Hamming distance between two alignments\n",
    "    \n",
    "    Args: \n",
    "        alignment1 (str): first sequence that has already been aligned\n",
    "        alignment2 (str): second sequence that has already been aligned\n",
    "\n",
    "    Returns:\n",
    "        distance (int): hamming distance between the two alignment\n",
    "    \n",
    "    '''\n",
    "    \n",
    "    # Make sure that alingments are the same length\n",
    "    assert len(alignment1) == len(alignment2)\n",
    "    \n",
    "    # Initialize distance\n",
    "    distance = 0\n",
    "    \n",
    "    # Compare all locations alignments and add to distance if they are different\n",
    "    for base_1, base_2 in zip(alignment1, alignment2):\n",
    "        if base_1 != base_2:\n",
    "            distance += 1\n",
    "            \n",
    "    return distance"
   ]
  },
  {
   "cell_type": "code",
   "execution_count": 21,
   "metadata": {},
   "outputs": [],
   "source": [
    "def build_distance_matrix(alignments): \n",
    "    ''' Function to build a distance matrix from a list of alignments\n",
    "    This is a number of alignments x number of alignments matrix with \n",
    "    all pairwise distances (and 0 along the diagonal).\n",
    "    All alignments must be same length!\n",
    "    \n",
    "    Args: \n",
    "        alignments (list of strings): a list of our sequence alignments\n",
    "\n",
    "    Returns:\n",
    "        distance_matrix (np.array of floats): n x n distance matrix\n",
    "    \n",
    "    '''\n",
    "    \n",
    "    # Make sure that all alignments are the same length\n",
    "    for i in range(1, len(alignments)):\n",
    "        if len(alignments[0]) != len(alignments[i]):\n",
    "            raise ValueError(\"Undefined for alignments of unequal length\")\n",
    "       \n",
    "    #Initialize an empty matrix of floats\n",
    "    distance_matrix = np.zeros((len(alignments),len(alignments)), dtype=float)\n",
    "    \n",
    "    #Compare all of the alignments and store their distances\n",
    "    for i, alignment1 in enumerate(alignments):\n",
    "        for j, alignment2 in enumerate(alignments):\n",
    "            distance_matrix[i][j] = hamming_distance(alignment1, alignment2)\n",
    "            \n",
    "    return distance_matrix"
   ]
  },
  {
   "cell_type": "markdown",
   "metadata": {},
   "source": [
    "---\n",
    "## The UPGMA Algorithm\n",
    "\n",
    "In UPGMA, we build a tree by iteratively merging the most similar alignment clusters in our distance matrix $d$ and then updating this matrix. This starts by defining clusters as $C$ for each individual alignment as the leaf nodes and $|C|$ as the number of items in a cluster (initially this is 1).\n",
    "\n",
    "These distances are then updated using proportional averaging when merging clusters, so newly merged cluster $(C_{a} \\cup C_{b})$ and existing cluster $C_{x}$ have distances updated as:\n",
    "\n",
    "$d_{(C_{a} \\cup C_{b}),C_{x}} = \\frac{|C_{a}| \\cdot d_{C_{a},C_{x}} + |C_{b}| \\cdot d_{C_{b},C_{x}}}{|C_{a}| + |C_{b}|}$ where $d_{C_{a},C_{x}}$ refers to your distance matrix.\n",
    "\n",
    "We can also estimate branch length in a similar manner such that branch length (or height) is half the distance of the members in the cluster minus any previous branches within that cluster.\n",
    "\n",
    "```\n",
    "UPGMA(distance_matrix)\n",
    "    Initialization:\n",
    "        Assign each sequence i to its own cluster C\n",
    "        Define one leaf of T for each sequence and place its height as 0\n",
    "    Iteration:\n",
    "        Determine the two clusters i, j for which d(i,j) is min\n",
    "        Define new cluster k distances for merged i,j given the above equation\n",
    "        Define height of cluster k as d(i,j)/2\n",
    "        Add k to current matrix and remove i and j\n",
    "    Termination:\n",
    "        When only two clusters i, j remain, place root at height d(i,j)/2\n",
    "```\n",
    "\n",
    "While the algorithm is conceptually straight-forward, there may be some difficulty in conceptualizing the data structures required. In addition to the numpy array manipulations described above, consider the storage of the tree that you will be creating. Python does not have a native tree data structure so you will have to either create one using your own class or through creative use of dictionaries or lists. For my implentation, I used nested lists.\n",
    "\n",
    "In your implementation, focus on getting the clusters first and only worry about tracking the heights once you have clusters working correctly."
   ]
  },
  {
   "cell_type": "code",
   "execution_count": 7,
   "metadata": {},
   "outputs": [],
   "source": [
    "def get_min_distance(matrix):\n",
    "    ''' Function to find the smallest value off-daigonal in the distance\n",
    "    matrix provided. This is used in the UPGMA algorithm.\n",
    "    \n",
    "    Args: \n",
    "        matrix (2D numpy array): a distance matrix\n",
    "\n",
    "    Returns:\n",
    "        min (float): The smallest distance in the matrix\n",
    "        pos (tuple): The x and y position of the smallest distance\n",
    "    \n",
    "    '''\n",
    "    \n",
    "    # Set the starting minimum value to be large\n",
    "    minimum = float('inf')\n",
    "\n",
    "    # Iterate through half the matrix to find the minimum score\n",
    "    # We could do the whole matrix, but this is a bit more efficient\n",
    "    # because the matrix is symmetric\n",
    "    for i in range(0, matrix.shape[0]):\n",
    "        for j in range(i+1, matrix.shape[1]):\n",
    "            if matrix[i][j] < minimum:\n",
    "                minimum = matrix[i][j]\n",
    "                position = (i,j)\n",
    "\n",
    "    return minimum, position\n",
    "\n",
    "def UPGMA(matrix, alignments):\n",
    "    ''' UPGMA algorithm to cluster alignments given a distance matrix\n",
    "    \n",
    "    Args: \n",
    "        matrix (2D numpy array): a distance matrix\n",
    "        alignments (list of strings): a list of our sequence alignments\n",
    "\n",
    "    Returns:\n",
    "        clusters (list of lists): lists nested at each cluster level\n",
    "        heights (dict): the heights of each cluster\n",
    "    \n",
    "    '''\n",
    "    #initialization:\n",
    "    #alignments are a list of sequences. \n",
    "    #Assign each sequence i to its own cluster C\n",
    "    #want a list of lists. \n",
    "    clusters = [[index] for index in alignments]\n",
    "    #output: [['TA-TTTA'], ['TA-TTAA'], ['TA-TTTA'], ['TACTT-A'], ['TACTTAA']]\n",
    "    heights = {}\n",
    "\n",
    "    \n",
    "    \n",
    "    \n",
    "    # Initialization:\n",
    "    #     \n",
    "    #     Define one leaf of T for each sequence and place its height as 0\n",
    "   \n",
    "\n",
    "\n",
    "\n",
    "  # Iteration:\n",
    "    #     Determine the two clusters i, j for which d(i,j) is min\n",
    "    #     Define new cluster k distances for merged i,j given the above equation\n",
    "    #     Define height of cluster k as d(i,j)/2\n",
    "    #     Add k to current matrix and remove i and j\n",
    "    # Termination:\n",
    "    #     When only two clusters i, j remain, place root at height d(i,j)/2\n",
    "    \n",
    "    \n",
    "    \n",
    "    \n",
    "#     clusters = [[i] for i in alignments]\n",
    "#     heights = {}\n",
    "    \n",
    "#     while len(clusters) > 1:\n",
    "#         # Get minimum distance between any two clusters\n",
    "#         min_dist, position = get_min_distance(matrix)\n",
    "\n",
    "#         # Define new cluster distances for first row\n",
    "#         new_row = np.zeros((1,0), dtype=float)\n",
    "#         for i in range(matrix.shape[0]):\n",
    "#             if i not in position:\n",
    "#                 A_dist = matrix[position[0]][i]\n",
    "#                 B_dist = matrix[position[1]][i]\n",
    "#                 A_size = len(clusters[position[0]])\n",
    "#                 B_size = len(clusters[position[1]])\n",
    "#                 new_row = np.append(new_row, round(((A_dist * A_size) + (B_dist * B_size))/(A_size + B_size), 2))       \n",
    "        \n",
    "        \n",
    "#         # Keep track of heights\n",
    "#         height = min_dist/2\n",
    "#         heights[\" \".join(str(x) for x in clusters[position[0]])] = height\n",
    "#         heights[\" \".join(str(x) for x in clusters[position[1]])] = height\n",
    "        \n",
    "#         # Create a new cluster and put at the 0th position\n",
    "#         new_cluster = [clusters[position[0]], clusters[position[1]]]\n",
    "#         del clusters[position[0]]\n",
    "#         del clusters[position[1]-1]\n",
    "#         clusters.insert(0, new_cluster)\n",
    "        \n",
    "#         # Add an empty cluster to account for the eventual final cluster\n",
    "#         heights[\" \".join(str(x) for x in new_cluster)] = 0\n",
    "\n",
    "#         # Remove old rows and add a new one\n",
    "#         matrix = np.delete(matrix, (position), axis = 0)\n",
    "#         matrix = np.delete(matrix, (position), axis = 1)\n",
    "#         matrix = np.vstack([new_row, matrix]) \n",
    "#         new_row = np.append([0], new_row)\n",
    "#         matrix = np.concatenate((new_row[:, np.newaxis], matrix), axis=1)\n",
    "    \n",
    "    \n",
    "    \n",
    "    "
   ]
  },
  {
   "cell_type": "code",
   "execution_count": 11,
   "metadata": {},
   "outputs": [],
   "source": [
    "alignments = [\"TA-TTTA\", \"TA-TTAA\", \"TA-TTTA\", \"TACTT-A\", \"TACTTAA\"]"
   ]
  },
  {
   "cell_type": "code",
   "execution_count": null,
   "metadata": {},
   "outputs": [],
   "source": [
    "#make a list of lists. "
   ]
  },
  {
   "cell_type": "code",
   "execution_count": 12,
   "metadata": {},
   "outputs": [
    {
     "data": {
      "text/plain": [
       "[['TA-TTTA'], ['TA-TTAA'], ['TA-TTTA'], ['TACTT-A'], ['TACTTAA']]"
      ]
     },
     "execution_count": 12,
     "metadata": {},
     "output_type": "execute_result"
    }
   ],
   "source": [
    "[[index] for index in alignments]"
   ]
  },
  {
   "cell_type": "code",
   "execution_count": null,
   "metadata": {},
   "outputs": [],
   "source": []
  },
  {
   "cell_type": "code",
   "execution_count": null,
   "metadata": {},
   "outputs": [],
   "source": []
  },
  {
   "cell_type": "code",
   "execution_count": null,
   "metadata": {},
   "outputs": [],
   "source": []
  },
  {
   "cell_type": "code",
   "execution_count": 10,
   "metadata": {},
   "outputs": [
    {
     "name": "stdout",
     "output_type": "stream",
     "text": [
      "[[0. 1. 0. 2. 2.]\n",
      " [1. 0. 1. 2. 1.]\n",
      " [0. 1. 0. 2. 2.]\n",
      " [2. 2. 2. 0. 1.]\n",
      " [2. 1. 2. 1. 0.]]\n"
     ]
    }
   ],
   "source": [
    "# This will test your functions\n",
    "# alignments here are the same as from your slides on this topic\n",
    "alignments = [\"TA-TTTA\", \"TA-TTAA\", \"TA-TTTA\", \"TACTT-A\", \"TACTTAA\"]\n",
    "\n",
    "# This should be the same as the previous class:\n",
    "D = build_distance_matrix(alignments)\n",
    "print(D)\n",
    "# New generate the clusters and heights using UPGMA\n",
    "# clusters, heights = UPGMA(D, alignments)\n",
    "# print (clusters)\n"
   ]
  },
  {
   "cell_type": "raw",
   "metadata": {},
   "source": [
    "Expected output:\n",
    "[[[['TACTT-A'], ['TACTTAA']], [[['TA-TTTA'], ['TA-TTTA']], ['TA-TTAA']]]]\n"
   ]
  },
  {
   "cell_type": "markdown",
   "metadata": {},
   "source": [
    "## Plotting our trees\n",
    "\n",
    "We can plot the tree that we've build using ete3: ```$ conda install ete3```\n",
    "\n",
    "This package takes as input Newick format for trees, which for our tree looks like this:\n",
    "```(('TACTT-A':0.5, 'TACTTAA':0.5):1, (('TA-TTTA':0, 'TA-TTTA':0):0.5, 'TA-TTAA':0.5):1);```\n",
    "\n",
    "This can also be implemented without heights like this:\n",
    "```(('TACTT-A', 'TACTTAA'), (('TA-TTTA', 'TA-TTTA'), 'TA-TTAA'));```\n",
    "\n",
    "Below, implement a function to convert your tree output above into a newick tree:"
   ]
  },
  {
   "cell_type": "code",
   "execution_count": 36,
   "metadata": {},
   "outputs": [],
   "source": [
    "import ete3\n",
    "\n",
    "def nested_list_to_newick(clusters, heights = None):\n",
    "    ''' Function to convert nested lists to newick tree\n",
    "    \n",
    "    Args: \n",
    "        clusters (list of lists): Nested lists representing your cluster\n",
    "        heights (dict): dictionart of cluster names with their heights\n",
    "\n",
    "    Returns:\n",
    "        newick_tree (str): newick tree representation of clusters\n",
    "    \n",
    "    '''\n",
    "    pass"
   ]
  },
  {
   "cell_type": "code",
   "execution_count": 43,
   "metadata": {},
   "outputs": [
    {
     "name": "stdout",
     "output_type": "stream",
     "text": [
      "((TACTT-A,TACTTAA),((TA-TTTA,TA-TTTA),TA-TTAA))\n",
      "((TACTT-A:0.5,TACTTAA:0.5):0.92,((TA-TTTA:0.0,TA-TTTA:0.0):0.5,TA-TTAA:0.5):0.92):0\n"
     ]
    }
   ],
   "source": [
    "# This will test the above function\n",
    "\n",
    "alignments = [\"TA-TTTA\", \"TA-TTAA\", \"TA-TTTA\", \"TACTT-A\", \"TACTTAA\"]\n",
    "\n",
    "D = build_distance_matrix(alignments)\n",
    "clusters, heights = UPGMA(D, alignments)\n",
    "\n",
    "print(nested_list_to_newick(clusters))\n",
    "print(nested_list_to_newick(clusters, heights))"
   ]
  },
  {
   "cell_type": "raw",
   "metadata": {},
   "source": [
    "Expected output:\n",
    "((TACTT-A,TACTTAA),((TA-TTTA,TA-TTTA),TA-TTAA))\n",
    "((TACTT-A:0.5,TACTTAA:0.5):0.92,((TA-TTTA:0.0,TA-TTTA:0.0):0.5,TA-TTAA:0.5):0.92):0"
   ]
  },
  {
   "cell_type": "code",
   "execution_count": 42,
   "metadata": {},
   "outputs": [
    {
     "data": {
      "image/png": "[encoded data removed]",
      "text/plain": [
       "<IPython.core.display.Image object>"
      ]
     },
     "execution_count": 42,
     "metadata": {},
     "output_type": "execute_result"
    }
   ],
   "source": [
    "# Now we can plot the newick trees using ete3\n",
    "# The plot below should be the same as in the introduction to the algorithm\n",
    "ete3.Tree(nested_list_to_newick(clusters, heights) + ';', format=1 ).render(\"%%inline\", tree_style=ete3.TreeStyle())"
   ]
  }
 ],
 "metadata": {
  "kernelspec": {
   "display_name": "Python 3 (ipykernel)",
   "language": "python",
   "name": "python3"
  },
  "language_info": {
   "codemirror_mode": {
    "name": "ipython",
    "version": 3
   },
   "file_extension": ".py",
   "mimetype": "text/x-python",
   "name": "python",
   "nbconvert_exporter": "python",
   "pygments_lexer": "ipython3",
   "version": "3.7.8"
  }
 },
 "nbformat": 4,
 "nbformat_minor": 4
}
