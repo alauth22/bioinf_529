{
 "cells": [
  {
   "cell_type": "markdown",
   "metadata": {},
   "source": [
    "# Burrows-Wheeler Transform"
   ]
  },
  {
   "cell_type": "markdown",
   "metadata": {},
   "source": [
    "---\n",
    "\n",
    "## Before Class\n",
    "\n",
    "Prior to class, please do the following:\n",
    "\n",
    "1. Review Burrows-Wheeler Transform\n",
    "2. Familiarize yourself with sort operator"
   ]
  },
  {
   "cell_type": "markdown",
   "metadata": {},
   "source": [
    "---\n",
    "## Learning Objectives\n",
    "\n",
    "1. Implement Burrows-Wheeler Transform to calculate BWT string and suffix array.\n"
   ]
  },
  {
   "cell_type": "markdown",
   "metadata": {},
   "source": [
    "---\n",
    "## Background\n",
    "\n",
    "Today we will be building a Burrows-Wheeler transfor and a suffix array for a string as described in the lecture notes.\n",
    "\n",
    "To generate a BWT matrix, we append \\$ to a string, perform all rotations to build a matrix, sort lexographically, and return the last column:\n",
    "\n",
    "```\n",
    "BWT(T):\n",
    "    Append $ to T\n",
    "    Build matrix of all rotations of T\n",
    "    sort matrix\n",
    "    return last column of matrix\n",
    "```\n",
    "    \n",
    "We also need to calculate the suffix array for the string. This will be required for when we use BWT for string matching in the next class. To generate a suffix array for a string:\n",
    "```\n",
    "suffix_array(T):\n",
    "    Append $ to T\n",
    "    build matrix of all rotations of T with row index i\n",
    "    sort i by lexographic sorting of rotation matrix\n",
    "    return i\n",
    "```\n",
    "\n"
   ]
  },
  {
   "cell_type": "markdown",
   "metadata": {},
   "source": [
    "---\n",
    "## Burrows-Wheeler Transform\n",
    "\n"
   ]
  },
  {
   "cell_type": "markdown",
   "metadata": {},
   "source": [
    "BWT(T):\n",
    "    Append $ to T\n",
    "    Build matrix of all rotations of T\n",
    "    sort matrix\n",
    "    return last column of matrix"
   ]
  },
  {
   "cell_type": "code",
   "execution_count": 8,
   "metadata": {},
   "outputs": [],
   "source": [
    "#function to caculate BWT string\n",
    "def BWT(string):\n",
    "    ''' Function to calculate Burrows-Wheeler Transform for a given string.\n",
    "    \n",
    "    Args:\n",
    "        string (str): Input string\n",
    "    \n",
    "    Returns:\n",
    "        bwt_string (str): BWT string        \n",
    "        \n",
    "    Example:\n",
    "        >>> BWT('googol')\n",
    "        'lo$oogg'\n",
    "        \n",
    "    '''\n",
    "    #need to append a \"$\" to the end of the string. \n",
    "    new_string = string + \"$\"\n",
    "    rotated_matrix = []\n",
    "    bwt_list = []\n",
    "    #need to iterate through cyclic rotation of the matrix. \n",
    "    for pos in range(len(new_string)):\n",
    "        rotated_string = new_string[pos:] + new_string[:pos]\n",
    "        # print(rotated_string)\n",
    "        rotated_matrix.append(rotated_string)\n",
    "        print(rotated_matrix)\n",
    "        # sorted(rotated_matrix) googled how to sort a list alphabetically. \n",
    "        alph_matrix = sorted(rotated_matrix)\n",
    "        print(alph_matrix)\n",
    "        \n",
    "    #need to take the last letter in each list element. \n",
    "    for i in range(len(alph_matrix)):\n",
    "        bwt_list.append(alph_matrix[i][-1]) #for each index in the list I want to take the last letter and add it to the list. \n",
    "        final_bwt = \"\".join(bwt_list)\n",
    "        \n",
    "    # return rotated_matrix, final_bwt\n",
    "    return final_bwt  #the final result is of type str. "
   ]
  },
  {
   "cell_type": "code",
   "execution_count": 9,
   "metadata": {},
   "outputs": [
    {
     "name": "stdout",
     "output_type": "stream",
     "text": [
      "['googol$']\n",
      "['googol$']\n",
      "['googol$', 'oogol$g']\n",
      "['googol$', 'oogol$g']\n",
      "['googol$', 'oogol$g', 'ogol$go']\n",
      "['googol$', 'ogol$go', 'oogol$g']\n",
      "['googol$', 'oogol$g', 'ogol$go', 'gol$goo']\n",
      "['gol$goo', 'googol$', 'ogol$go', 'oogol$g']\n",
      "['googol$', 'oogol$g', 'ogol$go', 'gol$goo', 'ol$goog']\n",
      "['gol$goo', 'googol$', 'ogol$go', 'ol$goog', 'oogol$g']\n",
      "['googol$', 'oogol$g', 'ogol$go', 'gol$goo', 'ol$goog', 'l$googo']\n",
      "['gol$goo', 'googol$', 'l$googo', 'ogol$go', 'ol$goog', 'oogol$g']\n",
      "['googol$', 'oogol$g', 'ogol$go', 'gol$goo', 'ol$goog', 'l$googo', '$googol']\n",
      "['$googol', 'gol$goo', 'googol$', 'l$googo', 'ogol$go', 'ol$goog', 'oogol$g']\n"
     ]
    },
    {
     "data": {
      "text/plain": [
       "'lo$oogg'"
      ]
     },
     "execution_count": 9,
     "metadata": {},
     "output_type": "execute_result"
    }
   ],
   "source": [
    "BWT(\"googol\")"
   ]
  },
  {
   "cell_type": "code",
   "execution_count": 11,
   "metadata": {},
   "outputs": [
    {
     "data": {
      "text/plain": [
       "'AATTCC$'"
      ]
     },
     "execution_count": 11,
     "metadata": {},
     "output_type": "execute_result"
    }
   ],
   "source": [
    "string = \"AATTCC\"\n",
    "final_string = string + \"$\"\n",
    "final_string"
   ]
  },
  {
   "cell_type": "code",
   "execution_count": 12,
   "metadata": {},
   "outputs": [
    {
     "data": {
      "text/plain": [
       "'AATTCC$'"
      ]
     },
     "execution_count": 12,
     "metadata": {},
     "output_type": "execute_result"
    }
   ],
   "source": [
    "string = \"AATTCC\"\n",
    "string += \"$\"\n",
    "string"
   ]
  },
  {
   "cell_type": "code",
   "execution_count": 13,
   "metadata": {},
   "outputs": [
    {
     "name": "stdout",
     "output_type": "stream",
     "text": [
      "AATTCC$\n",
      "ATTCC$\n",
      "TTCC$\n",
      "TCC$\n",
      "CC$\n",
      "C$\n",
      "$\n"
     ]
    }
   ],
   "source": [
    "#this takes away \n",
    "for i in range(len(string)):\n",
    "    print(string[i:])\n",
    "    # print(string[:i])"
   ]
  },
  {
   "cell_type": "code",
   "execution_count": 14,
   "metadata": {},
   "outputs": [
    {
     "name": "stdout",
     "output_type": "stream",
     "text": [
      "\n",
      "A\n",
      "AA\n",
      "AAT\n",
      "AATT\n",
      "AATTC\n",
      "AATTCC\n"
     ]
    }
   ],
   "source": [
    "for i in range(len(string)):\n",
    "    print(string[:i])"
   ]
  },
  {
   "cell_type": "code",
   "execution_count": 16,
   "metadata": {},
   "outputs": [
    {
     "name": "stdout",
     "output_type": "stream",
     "text": [
      "AATTCC$\n",
      "ATTCC$A\n",
      "TTCC$AA\n",
      "TCC$AAT\n",
      "CC$AATT\n",
      "C$AATTC\n",
      "$AATTCC\n"
     ]
    }
   ],
   "source": [
    "for i in range(len(string)):\n",
    "    print(string[i:] + string[:i])"
   ]
  },
  {
   "cell_type": "code",
   "execution_count": 19,
   "metadata": {},
   "outputs": [
    {
     "data": {
      "text/plain": [
       "['$', 'A', 'A', 'C', 'C', 'G', 'G', 'G', 'T', 'T']"
      ]
     },
     "execution_count": 19,
     "metadata": {},
     "output_type": "execute_result"
    }
   ],
   "source": [
    "test = \"GGTTC$CGAA\"\n",
    "sorted(test)"
   ]
  },
  {
   "cell_type": "code",
   "execution_count": null,
   "metadata": {},
   "outputs": [],
   "source": []
  },
  {
   "cell_type": "code",
   "execution_count": 22,
   "metadata": {},
   "outputs": [
    {
     "name": "stdout",
     "output_type": "stream",
     "text": [
      "AATT\n",
      "ATTA\n",
      "TTAA\n",
      "TAAT\n",
      "['AATT', 'ATTA', 'TAAT', 'TTAA']\n"
     ]
    }
   ],
   "source": [
    "matrix = []\n",
    "for i in range(len(string)):\n",
    "    new_string = string[i:] + string[:i]\n",
    "    print(new_string)\n",
    "    matrix.append(new_string)\n",
    "    # print(matrix)\n",
    "sorted_matrix = sorted(matrix)\n",
    "print(sorted_matrix)"
   ]
  },
  {
   "cell_type": "code",
   "execution_count": 19,
   "metadata": {},
   "outputs": [
    {
     "data": {
      "text/plain": [
       "'AATT$'"
      ]
     },
     "execution_count": 19,
     "metadata": {},
     "output_type": "execute_result"
    }
   ],
   "source": [
    "string = \"AATT\"\n",
    "new_string = \"AATT\" + \"$\"\n",
    "string_list = new_string\n",
    "string_list"
   ]
  },
  {
   "cell_type": "code",
   "execution_count": 20,
   "metadata": {},
   "outputs": [
    {
     "data": {
      "text/plain": [
       "'A'"
      ]
     },
     "execution_count": 20,
     "metadata": {},
     "output_type": "execute_result"
    }
   ],
   "source": [
    "new_string[0] "
   ]
  },
  {
   "cell_type": "code",
   "execution_count": 21,
   "metadata": {},
   "outputs": [
    {
     "data": {
      "text/plain": [
       "'$'"
      ]
     },
     "execution_count": 21,
     "metadata": {},
     "output_type": "execute_result"
    }
   ],
   "source": [
    "new_string[-1]"
   ]
  },
  {
   "cell_type": "code",
   "execution_count": null,
   "metadata": {},
   "outputs": [],
   "source": []
  },
  {
   "cell_type": "code",
   "execution_count": null,
   "metadata": {},
   "outputs": [],
   "source": []
  },
  {
   "cell_type": "code",
   "execution_count": 69,
   "metadata": {},
   "outputs": [],
   "source": [
    "#function to caculate suffix array\n",
    "def suffix_array(string):\n",
    "    ''' Function to calculate suffix-array for a given string.\n",
    "    \n",
    "    Args:\n",
    "        string (str): Input string\n",
    "    \n",
    "    Returns:\n",
    "        sa (array of integers): suffix array\n",
    "        \n",
    "    Example:\n",
    "    >>> suffix_array('googol')\n",
    "    [6, 3, 0, 5, 2, 4, 1]\n",
    "        \n",
    "    '''\n",
    "    #I need to begin with the rotated_matrix. DONE\n",
    "    #then I need to assign an index to each line. DONE\n",
    "    #then alphabetically organize. DONE\n",
    "    #then print out BWT, but just the indecies.  \n",
    "    \n",
    "    #need to append a \"$\" to the end of the string. \n",
    "    new_string = string + \"$\"\n",
    "    rotated_matrix = []\n",
    "    suf_arr = []\n",
    "    #need to iterate through cyclic rotation of the matrix. \n",
    "    for pos in range(len(new_string)):\n",
    "        rotated_string = new_string[pos:] + new_string[:pos]\n",
    "        rotated_matrix.append(rotated_string)\n",
    "    \n",
    "    \n",
    "    #already used zip in hw_01, do this again to get a int. \n",
    "    test_zip = zip(rotated_matrix, range(len(new_string)))\n",
    "    \n",
    "    #this is a list of tuples. tuples are immutable. \n",
    "    #just index for the tuple and then index for the second element in the tuple, which will be the integer. \n",
    "    #sorted will sort the list in alphebtical order. \n",
    "    alph_matrix = sorted(test_zip)\n",
    "    \n",
    "    #now I only want the number, not the actual letter, so we need to index for each tuple, then for the second elemnt in each tuple. \n",
    "    for i in range(len(alph_matrix)):\n",
    "        suf_arr.append(alph_matrix[i][1])\n",
    "    \n",
    "\n",
    "    \n",
    "    # return rotated_matrix, alph_matrix\n",
    "    return suf_arr\n",
    "    "
   ]
  },
  {
   "cell_type": "code",
   "execution_count": 31,
   "metadata": {},
   "outputs": [
    {
     "data": {
      "text/plain": [
       "[6, 3, 0, 5, 2, 4, 1]"
      ]
     },
     "execution_count": 31,
     "metadata": {},
     "output_type": "execute_result"
    }
   ],
   "source": [
    "suffix_array(\"googol\")"
   ]
  },
  {
   "cell_type": "code",
   "execution_count": 107,
   "metadata": {},
   "outputs": [
    {
     "data": {
      "text/plain": [
       "[('A', 0), ('T', 1), ('C', 2), ('G', 3), ('T', 4), ('C', 5), ('G', 6)]"
      ]
     },
     "execution_count": 107,
     "metadata": {},
     "output_type": "execute_result"
    }
   ],
   "source": [
    "string = \"ATCGTCG\"\n",
    "# for i in range(len(string)):\n",
    "test = zip(string, range(len(string)))\n",
    "list(test)"
   ]
  },
  {
   "cell_type": "code",
   "execution_count": 103,
   "metadata": {},
   "outputs": [
    {
     "data": {
      "text/plain": [
       "[('A',), ('T',), ('C',), ('G',), ('T',), ('C',), ('G',)]"
      ]
     },
     "execution_count": 103,
     "metadata": {},
     "output_type": "execute_result"
    }
   ],
   "source": [
    "string_div = zip(string)\n",
    "list(string_div)"
   ]
  },
  {
   "cell_type": "code",
   "execution_count": 161,
   "metadata": {},
   "outputs": [
    {
     "name": "stdout",
     "output_type": "stream",
     "text": [
      "1\n",
      "2\n",
      "3\n"
     ]
    }
   ],
   "source": [
    "test = [(\"AAT\", 1), (\"GGT\", 2), (\"HHT\", 3)]\n",
    "# for i in range(len(test)):\n",
    "#     test2 = test[i][1]\n",
    "# print(test2)\n",
    "# print((len(test)))\n",
    "# len(test)\n",
    "for i in range(len(test)):\n",
    "    print(test[i][1])"
   ]
  },
  {
   "cell_type": "code",
   "execution_count": null,
   "metadata": {},
   "outputs": [],
   "source": []
  },
  {
   "cell_type": "code",
   "execution_count": 29,
   "metadata": {},
   "outputs": [
    {
     "data": {
      "text/plain": [
       "TestResults(failed=0, attempted=2)"
      ]
     },
     "execution_count": 29,
     "metadata": {},
     "output_type": "execute_result"
    }
   ],
   "source": [
    "import doctest\n",
    "doctest.testmod()"
   ]
  },
  {
   "cell_type": "markdown",
   "metadata": {},
   "source": [
    "---\n",
    "If you finish the two functions above, you can start working on another two functions we will use in the next class for string matching.\n",
    "\n",
    "## Background\n",
    "One of the key parts for string matching is to do Last-to-First column mapping (LF mapping) within the BWT matrix. With the LF property, we  need to build two dictionaries for our reference string beforehand:\n",
    "1. count: e.g.  `{'A': 0, 'C': 2, 'G': 3, 'T': 5}`\n",
    "\n",
    "Where for each character `a` in a string, `count[a]` contains the number of characters in string that are lexicographically smaller than `a`.\n",
    "\n",
    "\n",
    "2. occur: e.g. `{'$': [0, 0, 1, 1, 1], 'A': [1, 1, 1, 1, 1], 'C': [0, 0, 0, 1, 1], 'G': [0, 1, 1, 1, 2]}`\n",
    "\n",
    "For each character `a` in a bwt string, `occur[a][i]` contains the number of occurences of `a` in `bwt_string[0,i], i=1,...,len(bwt_string)` (i.e. the first i characters in bwt string)."
   ]
  },
  {
   "cell_type": "code",
   "execution_count": null,
   "metadata": {},
   "outputs": [],
   "source": []
  },
  {
   "cell_type": "markdown",
   "metadata": {},
   "source": [
    "---\n",
    "## Continuation of `cal_count` and `cal_occur` functions\n",
    "\n",
    "\n",
    "One of the key parts for string matching is to do Last-to-First column mapping (LF mapping) within the BWT matrix. With the LF property, we  need to build two dictionaries for our reference string beforehand:\n",
    "1. count: e.g.  `{'A': 0, 'C': 2, 'G': 3, 'T': 5}`\n",
    "\n",
    "Where for each character `a` in a string, `count[a]` contains the number of characters in string that are lexicographically smaller than `a`.\n",
    "\n",
    "\n",
    "2. occur: `{'$': [0, 0, 1, 1, 1], 'A': [1, 1, 1, 1, 1], 'C': [0, 0, 0, 1, 1], 'G': [0, 1, 1, 1, 2]}`\n",
    "\n",
    "Where for each character `a` in a bwt string, `occur[a][i]` contains the number of occurences of `a` in `bwt_string[0,i], i=1,...,len(bwt_string)` (i.e. the first i characters in bwt string).\n",
    "\n",
    "With those two dictionaries, we can then start matching the query string to our reference string. \n"
   ]
  },
  {
   "cell_type": "markdown",
   "metadata": {},
   "source": [
    "---\n",
    "## Imports"
   ]
  },
  {
   "cell_type": "code",
   "execution_count": 38,
   "metadata": {},
   "outputs": [],
   "source": [
    "from collections import Counter"
   ]
  },
  {
   "cell_type": "code",
   "execution_count": 70,
   "metadata": {},
   "outputs": [],
   "source": [
    "#function to build count dictionary\n",
    "def cal_count(string):\n",
    "    '''Function to count the number of characters in string that \n",
    "        are lexicographically smaller than a given character\n",
    "    \n",
    "    Args:\n",
    "        string (str): Input string\n",
    "    \n",
    "    Returns:\n",
    "        count (dict)\n",
    "    \n",
    "    Example:\n",
    "        >>> cal_count('ATGACG')\n",
    "        {'A': 0, 'C': 2, 'G': 3, 'T': 5}\n",
    "    '''\n",
    "    #may want to use the counter. \n",
    "    #need to set each new index at 0 so that it counts from 0. \n",
    "    # string_counter = Counter\n",
    "#     alph_string = sorted(string)\n",
    "    \n",
    "#     for a in range(len(alph_string)):\n",
    "#         #I want to set each new character in the string to 0. \n",
    "#         count = 0\n",
    "#         for b in range(a + 1, len(alph_string)):\n",
    "            #\n",
    "    #we have to use 'update' to update the counter. \n",
    "    #have to check each index \n",
    "    \n",
    "    # A C G T \n",
    "    # 0 2 3 5 \n",
    "    \n",
    "    #generalization here was difficult to understand. \n",
    "    \n",
    "    string_counter = Counter(string)\n",
    "    # print(string_counter) #this just gives us the number of times of occurances for each of teh characters in the string. \n",
    "    #we can use this to our advantage. \n",
    "    \n",
    "    count_tracker = 0 #this will make sure that \"A\" gets zero \n",
    "    final_count_dict = {}  #we want this to be empty. \n",
    "    \n",
    "    #now we need a loop to go through the Counter itself. \n",
    "    for elem in sorted(list(string_counter)):\n",
    "        # print(elem)\n",
    "        #below we're creating the key in the empty dictionary and setting the key equal to a value. \n",
    "        # final_count_dict[\"HI\"] = 1\n",
    "        #this is now creating the key for each dictionary entry\n",
    "        #setting each dict entry equal to a integer. \n",
    "        final_count_dict[elem] = count_tracker \n",
    "        #not every count is zero. \n",
    "        #so first iteration the count_tracker will have 2 which \"C\" will get during the second iteration. \n",
    "        count_tracker += string_counter[elem]\n",
    "    \n",
    "    return final_count_dict\n",
    "    "
   ]
  },
  {
   "cell_type": "code",
   "execution_count": 46,
   "metadata": {},
   "outputs": [
    {
     "data": {
      "text/plain": [
       "{'A': 0, 'C': 2, 'G': 3, 'T': 5}"
      ]
     },
     "execution_count": 46,
     "metadata": {},
     "output_type": "execute_result"
    }
   ],
   "source": [
    "cal_count(\"ATGACG\")"
   ]
  },
  {
   "cell_type": "code",
   "execution_count": 42,
   "metadata": {},
   "outputs": [
    {
     "data": {
      "text/plain": [
       "Counter({'A': 1, 'G': 3, 'T': 2, 'C': 1})"
      ]
     },
     "execution_count": 42,
     "metadata": {},
     "output_type": "execute_result"
    }
   ],
   "source": [
    "test_string = \"AGTCGGT\"\n",
    "count_test = Counter(test_string)\n",
    "count_test"
   ]
  },
  {
   "cell_type": "code",
   "execution_count": null,
   "metadata": {},
   "outputs": [],
   "source": []
  },
  {
   "cell_type": "code",
   "execution_count": 99,
   "metadata": {},
   "outputs": [
    {
     "data": {
      "text/plain": [
       "{'Amelia': 20}"
      ]
     },
     "execution_count": 99,
     "metadata": {},
     "output_type": "execute_result"
    }
   ],
   "source": [
    "#test of empty_dict. \n",
    "empty_dict = {}\n",
    "empty_dict[\"Amelia\"] = 20\n",
    "empty_dict"
   ]
  },
  {
   "cell_type": "code",
   "execution_count": 83,
   "metadata": {},
   "outputs": [
    {
     "data": {
      "text/plain": [
       "['A', 'T', 'G', 'C']"
      ]
     },
     "execution_count": 83,
     "metadata": {},
     "output_type": "execute_result"
    }
   ],
   "source": [
    "count_test = Counter(string)\n",
    "count_test\n",
    "list(count_test)"
   ]
  },
  {
   "cell_type": "code",
   "execution_count": 42,
   "metadata": {},
   "outputs": [
    {
     "data": {
      "text/plain": [
       "['A', 'A', 'C', 'G', 'G', 'T']"
      ]
     },
     "execution_count": 42,
     "metadata": {},
     "output_type": "execute_result"
    }
   ],
   "source": [
    "string = \"ATGACG\"\n",
    "sorted(string)"
   ]
  },
  {
   "cell_type": "code",
   "execution_count": 36,
   "metadata": {},
   "outputs": [
    {
     "data": {
      "text/plain": [
       "Counter({'A': 2, 'T': 1, 'G': 2, 'C': 1})"
      ]
     },
     "execution_count": 36,
     "metadata": {},
     "output_type": "execute_result"
    }
   ],
   "source": [
    "counter = Counter()\n",
    "counter.update(string)\n",
    "counter"
   ]
  },
  {
   "cell_type": "code",
   "execution_count": 38,
   "metadata": {},
   "outputs": [
    {
     "data": {
      "text/plain": [
       "6"
      ]
     },
     "execution_count": 38,
     "metadata": {},
     "output_type": "execute_result"
    }
   ],
   "source": [
    "num_string = len(string)\n",
    "num_string"
   ]
  },
  {
   "cell_type": "code",
   "execution_count": null,
   "metadata": {},
   "outputs": [],
   "source": [
    "#I want each char to have a starting number of 0\n",
    "for i in range(len(string)):\n",
    "    count = 0\n",
    "    for k in "
   ]
  },
  {
   "cell_type": "code",
   "execution_count": 33,
   "metadata": {},
   "outputs": [
    {
     "data": {
      "text/plain": [
       "['$', 'A', 'A', 'C', 'C', 'T', 'T']"
      ]
     },
     "execution_count": 33,
     "metadata": {},
     "output_type": "execute_result"
    }
   ],
   "source": [
    "new_string = sorted(string)\n",
    "new_string"
   ]
  },
  {
   "cell_type": "code",
   "execution_count": 34,
   "metadata": {},
   "outputs": [
    {
     "name": "stdout",
     "output_type": "stream",
     "text": [
      "False\n"
     ]
    }
   ],
   "source": [
    "#so when you sort lexicographically, you automatically increase going from left to right. \n",
    "if new_string[2] < new_string[0]:\n",
    "    print(\"True\")\n",
    "else:\n",
    "    print(\"False\")"
   ]
  },
  {
   "cell_type": "code",
   "execution_count": 66,
   "metadata": {},
   "outputs": [
    {
     "name": "stdout",
     "output_type": "stream",
     "text": [
      "4\n",
      "0\n",
      "0\n",
      "2\n",
      "1\n",
      "0\n"
     ]
    }
   ],
   "source": [
    "string = \"ATGACG\"\n",
    "for a in range(len(string)):\n",
    "    #it was very long \n",
    "    count = 0\n",
    "    for b in range(a + 1, len(string)):\n",
    "        if (string[b] > string[a]):\n",
    "            count += 1\n",
    "    print(count)"
   ]
  },
  {
   "cell_type": "code",
   "execution_count": 70,
   "metadata": {},
   "outputs": [
    {
     "data": {
      "text/plain": [
       "['A', 'A', 'C', 'G', 'G', 'T']"
      ]
     },
     "execution_count": 70,
     "metadata": {},
     "output_type": "execute_result"
    }
   ],
   "source": [
    "count = Counter(string)\n",
    "alph_string = sorted(string)\n",
    "alph_string\n",
    "\n",
    "\n",
    "for char in alph_string:\n",
    "    alph_string[char] = 0\n",
    "\n",
    "    "
   ]
  },
  {
   "cell_type": "code",
   "execution_count": 72,
   "metadata": {},
   "outputs": [
    {
     "data": {
      "text/plain": [
       "dict"
      ]
     },
     "execution_count": 72,
     "metadata": {},
     "output_type": "execute_result"
    }
   ],
   "source": [
    "test = {}\n",
    "type(test)"
   ]
  },
  {
   "cell_type": "code",
   "execution_count": null,
   "metadata": {},
   "outputs": [],
   "source": []
  },
  {
   "cell_type": "markdown",
   "metadata": {},
   "source": [
    "2. occur: e.g. `{'$': [0, 0, 1, 1, 1], 'A': [1, 1, 1, 1, 1], 'C': [0, 0, 0, 1, 1], 'G': [0, 1, 1, 1, 2]}`\n",
    "\n",
    "For each character `a` in a bwt string, `occur[a][i]` contains the number of occurences of `a` in `bwt_string[0,i], i=1,...,len(bwt_string)` (i.e. the first i characters in bwt string)."
   ]
  },
  {
   "cell_type": "code",
   "execution_count": 110,
   "metadata": {},
   "outputs": [
    {
     "data": {
      "text/plain": [
       "'GG$ACTA'"
      ]
     },
     "execution_count": 110,
     "metadata": {},
     "output_type": "execute_result"
    }
   ],
   "source": [
    "BWT(\"ATGACG\")"
   ]
  },
  {
   "cell_type": "code",
   "execution_count": null,
   "metadata": {},
   "outputs": [],
   "source": [
    "#example, the bwt_string is AG$CG"
   ]
  },
  {
   "cell_type": "code",
   "execution_count": 71,
   "metadata": {},
   "outputs": [],
   "source": [
    "# #function to build occur dictionary\n",
    "# def cal_occur(bwt_string):\n",
    "#     '''Function to calculate number of occurrences of each character \n",
    "#         in bwt [0,i], i=1,...,len(bwt_string)\n",
    "    \n",
    "#     Args:\n",
    "#         b (str): BWT string\n",
    "    \n",
    "#     Returns:\n",
    "#         occur (dict of arrays)\n",
    "    \n",
    "#     Example:\n",
    "#         >>> cal_occur('AG$CG')\n",
    "#         {'$': [0, 0, 1, 1, 1], 'A': [1, 1, 1, 1, 1], 'C': [0, 0, 0, 1, 1], 'G': [0, 1, 1, 1, 2]}\n",
    "#     '''\n",
    "#     #want to create an emtpy dictionary that I'll ultimately return \n",
    "#     cal_occur_dict = {}\n",
    "#     sorted_bwt_str = bwt_string #just set it equal to a variable here. \n",
    "    \n",
    "#     for elem in sorted_bwt_str:\n",
    "#         #so for each element in bwt_string I need it to start with zeros. \n",
    "#         cal_occur_dict[elem] = [0]*len(bwt_string)\n",
    "#         # print(cal_occur_dict)\n",
    "#         #we need to see where each element occurs in the original bwt string. \n",
    "#         for char_index in range(len(sorted_bwt_str)): #need to get an index for each element. \n",
    "#             for elem in sorted_bwt_str: #needs to be bwt_str and not cal_occur_dict since you only want the elements. \n",
    "#                 #doing cal_occur_dict[elem] won't work since that is giving the value of the key, not the key itself.\n",
    "#                 if elem == sorted_bwt_str[char_index]: #if that index has that same element in the string.  \n",
    "#                     cal_occur_dict[elem][char_index] = cal_occur_dict[elem][char_index] + 1  #then we need to add a number to that key value\n",
    "#                     #the return dict. which key [elem] and then which position in the key value [index] \n",
    "#                     #now we need to add a 1               \n",
    "#                 else:\n",
    "#                     cal_occur_dict[elem][char_index] = cal_occur_dict[elem][char_index] #based off of the slides. \n",
    "#                     #keep the current number. \n",
    "                    \n",
    "#     return cal_occur_dict\n",
    "        \n",
    "    #WILL REDO "
   ]
  },
  {
   "cell_type": "code",
   "execution_count": 8,
   "metadata": {},
   "outputs": [],
   "source": [
    "#function to build occur dictionary\n",
    "def cal_occur(bwt_string):\n",
    "    '''Function to calculate number of occurrences of each character \n",
    "        in bwt [0,i], i=1,...,len(bwt_string)\n",
    "    \n",
    "    Args:\n",
    "        b (str): BWT string\n",
    "    \n",
    "    Returns:\n",
    "        occur (dict of arrays)\n",
    "    \n",
    "    Example:\n",
    "        >>> cal_occur('AG$CG')\n",
    "        {'$': [0, 0, 1, 1, 1], 'A': [1, 1, 1, 1, 1], 'C': [0, 0, 0, 1, 1], 'G': [0, 1, 1, 1, 2]}\n",
    "    '''\n",
    "    obs_dict = {}\n",
    "    elements = sorted(set(bwt_string))\n",
    "    \n",
    "    for elem in elements:\n",
    "        obs = 0\n",
    "        obs_tracker = []\n",
    "        for pos in bwt_string:\n",
    "            if pos == elem:\n",
    "                obs = obs + 1\n",
    "                obs_tracker.append(obs)\n",
    "            else:\n",
    "                obs_tracker.append(obs) #will keep the obs value the way it was in the if statement. Won't be a zero since it's \n",
    "                                        #not directly under the for loop. \n",
    "        obs_dict[elem] = obs_tracker\n",
    "    return obs_dict\n",
    "    "
   ]
  },
  {
   "cell_type": "code",
   "execution_count": 9,
   "metadata": {},
   "outputs": [
    {
     "data": {
      "text/plain": [
       "{'$': [0, 0, 0, 1, 1, 1, 1, 1],\n",
       " 'A': [1, 2, 2, 2, 2, 2, 2, 2],\n",
       " 'C': [0, 0, 0, 0, 1, 1, 1, 1],\n",
       " 'G': [0, 0, 1, 1, 1, 2, 3, 4]}"
      ]
     },
     "execution_count": 9,
     "metadata": {},
     "output_type": "execute_result"
    }
   ],
   "source": [
    "cal_occur(\"AAG$CGGG\")"
   ]
  },
  {
   "cell_type": "code",
   "execution_count": null,
   "metadata": {},
   "outputs": [],
   "source": []
  },
  {
   "cell_type": "code",
   "execution_count": null,
   "metadata": {},
   "outputs": [],
   "source": []
  },
  {
   "cell_type": "code",
   "execution_count": null,
   "metadata": {},
   "outputs": [],
   "source": []
  },
  {
   "cell_type": "code",
   "execution_count": null,
   "metadata": {},
   "outputs": [],
   "source": []
  },
  {
   "cell_type": "code",
   "execution_count": null,
   "metadata": {},
   "outputs": [],
   "source": []
  },
  {
   "cell_type": "code",
   "execution_count": 3,
   "metadata": {},
   "outputs": [
    {
     "data": {
      "text/plain": [
       "5"
      ]
     },
     "execution_count": 3,
     "metadata": {},
     "output_type": "execute_result"
    }
   ],
   "source": [
    "bwt_string = \"AG$CG\"\n",
    "len(bwt_string)"
   ]
  },
  {
   "cell_type": "code",
   "execution_count": 122,
   "metadata": {},
   "outputs": [
    {
     "data": {
      "text/plain": [
       "['$', 'A', 'C', 'G', 'G']"
      ]
     },
     "execution_count": 122,
     "metadata": {},
     "output_type": "execute_result"
    }
   ],
   "source": [
    "sorted(bwt_string)"
   ]
  },
  {
   "cell_type": "code",
   "execution_count": 124,
   "metadata": {},
   "outputs": [
    {
     "data": {
      "text/plain": [
       "list"
      ]
     },
     "execution_count": 124,
     "metadata": {},
     "output_type": "execute_result"
    }
   ],
   "source": [
    "type(sorted(bwt_string))"
   ]
  },
  {
   "cell_type": "code",
   "execution_count": 174,
   "metadata": {},
   "outputs": [
    {
     "name": "stdout",
     "output_type": "stream",
     "text": [
      "$\n",
      "A\n",
      "C\n",
      "G\n"
     ]
    }
   ],
   "source": [
    "test_dict = {}\n",
    "for x in sorted(bwt_string):\n",
    "    test_dict[x] = [0]*len(bwt_string)\n",
    "test_dict\n",
    "test_dict\n",
    "for elem in test_dict:\n",
    "    print(elem)"
   ]
  },
  {
   "cell_type": "code",
   "execution_count": 47,
   "metadata": {},
   "outputs": [
    {
     "data": {
      "text/plain": [
       "[0, 0, 0, 0, 0, 0, 0, 0, 0, 0]"
      ]
     },
     "execution_count": 47,
     "metadata": {},
     "output_type": "execute_result"
    }
   ],
   "source": [
    "lst_zeros = [0]*10\n",
    "lst_zeros"
   ]
  },
  {
   "cell_type": "code",
   "execution_count": 173,
   "metadata": {},
   "outputs": [
    {
     "data": {
      "text/plain": [
       "[0, 0, 0, 0, 0]"
      ]
     },
     "execution_count": 173,
     "metadata": {},
     "output_type": "execute_result"
    }
   ],
   "source": [
    "test = [0]*len(bwt_string)\n",
    "test"
   ]
  },
  {
   "cell_type": "code",
   "execution_count": null,
   "metadata": {},
   "outputs": [],
   "source": []
  },
  {
   "cell_type": "code",
   "execution_count": 119,
   "metadata": {},
   "outputs": [
    {
     "data": {
      "text/plain": [
       "Counter({'A': 1, 'G': 2, '$': 1, 'C': 1})"
      ]
     },
     "execution_count": 119,
     "metadata": {},
     "output_type": "execute_result"
    }
   ],
   "source": [
    "count = Counter(bwt_string)\n",
    "count"
   ]
  },
  {
   "cell_type": "code",
   "execution_count": null,
   "metadata": {},
   "outputs": [],
   "source": []
  },
  {
   "cell_type": "code",
   "execution_count": null,
   "metadata": {},
   "outputs": [],
   "source": [
    "import doctest\n",
    "doctest.testmod()"
   ]
  },
  {
   "cell_type": "code",
   "execution_count": null,
   "metadata": {},
   "outputs": [],
   "source": []
  },
  {
   "cell_type": "markdown",
   "metadata": {},
   "source": [
    "## Alignments using BWT\n",
    "\n",
    "We now want to use our BWT and helper functions to perform alignments. This is performed using a pair of functions.\n",
    "\n",
    "We want to find the rows of BWT matrix beginning wtih the query string. Notice that the way we sort the BWT matrix will ensure those rows being together, so we need to find out the range of those matched rows. \n",
    "\n",
    "\n",
    "1. We initialize the range with the first and the last row of BWT matrix:\n",
    "\n",
    "`lower = 0`\n",
    "\n",
    "`upper = len(reference)`\n",
    "\n",
    "\n",
    "2. Then we update the range as we go through each character `a` of the query string in reverse order: \n",
    "\n",
    "`lower_new = count[a] + occur[a][lower_old-1] + 1`\n",
    "\n",
    "`upper_new = count[a] + occur[a][upper_old]`\n",
    "\n",
    "(we define `occur[a][-1] = 0`)\n",
    "\n",
    "As long as `lower_new <= upper_new`, we will find at least one matching.\n",
    "\n",
    "3. After we go through the entire query string and get the final range (i.e. the indexes of rows of BWT matrix with query string as prefix), we can map it to the reference string with suffix array `sa` to get the matched position(s) (start position(s) of query string within reference string):\n",
    "\n",
    "`matched_positions = sa[lower_final,upper_final+1]`"
   ]
  },
  {
   "cell_type": "code",
   "execution_count": 86,
   "metadata": {},
   "outputs": [],
   "source": [
    "def find_match(query, reference):\n",
    "    '''Function to find exact matching by applying Burrows-Wheeler Transform\n",
    "    \n",
    "    Args:\n",
    "        query (str): query string\n",
    "        reference (str): reference string\n",
    "    \n",
    "    Returns:\n",
    "        matched_positions (array of integers): start position(s) of query string within reference string\n",
    "    \n",
    "    Example:\n",
    "    >>> find_match('ana','banana')\n",
    "    [1, 3]\n",
    "    \n",
    "    '''\n",
    "    \n",
    "    #initialize the range with the first and last row in the BWT matrix. \n",
    "    lower_row = 0 \n",
    "    upper_row = len(reference)\n",
    "    \n",
    "    #gather all the helper functions so far. \n",
    "    \n",
    "    #build the BWT matrix\n",
    "    bwt_matrix = BWT(reference)\n",
    "    #suffix array \n",
    "    suff_array = suffix_array(reference)\n",
    "    #count dict\n",
    "    count = cal_count(reference)\n",
    "    #occur dict \n",
    "    occur = cal_occur(bwt_matrix)\n",
    "    \n",
    "    #for char starting with the last letter in the query \n",
    "    for char in query[::-1]:\n",
    "        if lower_row > upper_row:\n",
    "            break \n",
    "        else:\n",
    "            lower_row, upper_row = update_range(lower_row, upper_row, count, occur, char)\n",
    "    \n",
    "    #we want to return numbers. so it would be from the suffix array. \n",
    "    #we have our indecies from our lower and upper\n",
    "    return sorted(suff_array[lower_row:upper_row + 1]) #it's due to the 0-index based python. \n",
    "    \n",
    "    "
   ]
  },
  {
   "cell_type": "code",
   "execution_count": 7,
   "metadata": {},
   "outputs": [],
   "source": [
    "# find_match(\"ana\", \"banana\")"
   ]
  },
  {
   "cell_type": "code",
   "execution_count": null,
   "metadata": {},
   "outputs": [],
   "source": []
  },
  {
   "cell_type": "code",
   "execution_count": null,
   "metadata": {},
   "outputs": [],
   "source": []
  },
  {
   "cell_type": "code",
   "execution_count": null,
   "metadata": {},
   "outputs": [],
   "source": []
  },
  {
   "cell_type": "code",
   "execution_count": 87,
   "metadata": {},
   "outputs": [],
   "source": [
    "def update_range(lower,upper,count,occur,a):\n",
    "    '''Function to update range given character a, define occur[a][-1] = 0\n",
    "    \n",
    "    Args:\n",
    "        lower (int): the lower boundary of range\n",
    "        upper (int): the upper boundary of range\n",
    "        count (dict)\n",
    "        occur (dict)\n",
    "        a (char)\n",
    "    Returns:\n",
    "        lower_new (int): the updated lower boundary of range\n",
    "        upper_new (int): the updated upper boundary of range\n",
    "    \n",
    "    '''\n",
    "    if lower == 0:\n",
    "        lower_new = count[a] + 0 + 1\n",
    "    else:\n",
    "        lower_new = count[a] + occur[a][lower - 1] + 1\n",
    "    upper_new = count[a] + occur[a][upper] #need to indent out of the if statement cuz it doesn't pertaining to the upper_new\n",
    "    \n",
    "    return lower_new, upper_new\n",
    "    "
   ]
  },
  {
   "cell_type": "code",
   "execution_count": 88,
   "metadata": {},
   "outputs": [
    {
     "name": "stdout",
     "output_type": "stream",
     "text": [
      "[1, 3]\n"
     ]
    }
   ],
   "source": [
    "matched_positions = find_match('ana','banana')\n",
    "print (matched_positions)"
   ]
  },
  {
   "cell_type": "code",
   "execution_count": 89,
   "metadata": {},
   "outputs": [
    {
     "data": {
      "text/plain": [
       "TestResults(failed=0, attempted=5)"
      ]
     },
     "execution_count": 89,
     "metadata": {},
     "output_type": "execute_result"
    }
   ],
   "source": [
    "import doctest\n",
    "doctest.testmod()"
   ]
  },
  {
   "cell_type": "code",
   "execution_count": null,
   "metadata": {},
   "outputs": [],
   "source": []
  }
 ],
 "metadata": {
  "kernelspec": {
   "display_name": "Python 3 (ipykernel)",
   "language": "python",
   "name": "python3"
  },
  "language_info": {
   "codemirror_mode": {
    "name": "ipython",
    "version": 3
   },
   "file_extension": ".py",
   "mimetype": "text/x-python",
   "name": "python",
   "nbconvert_exporter": "python",
   "pygments_lexer": "ipython3",
   "version": "3.7.8"
  }
 },
 "nbformat": 4,
 "nbformat_minor": 4
}
