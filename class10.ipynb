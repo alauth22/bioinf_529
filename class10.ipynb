{
 "cells": [
  {
   "cell_type": "markdown",
   "metadata": {},
   "source": [
    "# RNA expression levels"
   ]
  },
  {
   "cell_type": "markdown",
   "metadata": {},
   "source": [
    "---\n",
    "## Before Class\n",
    "1. Review code from previous class\n",
    "\n",
    "---\n",
    "## Learning Objectives\n",
    "\n",
    "1. Use BWT algorithm to map RNA reads to a genome\n",
    "* Estimate RNA expression levels from RNA-seq data using RPKM\n",
    "* Identify allele-specific expression"
   ]
  },
  {
   "cell_type": "markdown",
   "metadata": {},
   "source": [
    "---\n",
    "## Imports"
   ]
  },
  {
   "cell_type": "code",
   "execution_count": 46,
   "metadata": {},
   "outputs": [],
   "source": [
    "import bamnostic as bs\n",
    "from collections import Counter\n",
    "from scipy.stats import binom_test"
   ]
  },
  {
   "cell_type": "markdown",
   "metadata": {},
   "source": [
    "---\n",
    "## Quantifying RNA expression levels\n",
    "\n",
    "Calculating the relative expression of RNA involves mapping RNA sequence reads to a reference and then counting the relative abundance of each transcript. Tools doing this typically build a reference assembly out of known transcripts to speed processing and avoid complications of reads crossing splice junctions. However, it is also the case that reads can be mapped to a genome assembly directly to identify novel transcripts or when there are no concerns with intervening intronic sequence. In our class today, we will be implementing RNA-seq analysis for our sample genome that has no introns, and so we will use the reference assembly that was generated in the previous class.\n"
   ]
  },
  {
   "cell_type": "code",
   "execution_count": 2,
   "metadata": {},
   "outputs": [
    {
     "name": "stdout",
     "output_type": "stream",
     "text": [
      "GTCTCTCTGGTTAGACCAGATCTGAGCCTGGGAGCTCTCTGGCTAACTAGGGAACCCACTGCTTAAGCCTCAATAAAGCTTGCCTTGAGTGCTTCAAGTAGTGTGTGCCCGTCTGTTGTGTGACTCTGGTAACTAGAGATCCCTCAGACCCTTTTAGTCAGTGTGGAAAATCTCTAGCAGTGGCGCCCGAACAGGGACCTGAAAGCGAAAGGGAAACCAGAGGAGCTCTCTCGACGCAGGACTCGGCTTGCTGAAGCGCGCACGGCAAGAGGCGAGGGGCGGCGACTGGTGAGTACGCC\n"
     ]
    }
   ],
   "source": [
    "# We can use our original get_fasta function to examine the fasta file for the genome\n",
    "from data_readers import get_fasta\n",
    "file = \"../class_09/data/sample_genome.fna\"\n",
    "\n",
    "for name, seq in get_fasta(file):\n",
    "    print(seq[1:300])"
   ]
  },
  {
   "cell_type": "markdown",
   "metadata": {},
   "source": [
    "Similarly to the last class, we can map our RNA-seq reads to the reference using `bowtie2` and convert these to a bam file using `samtools`. Today we will also be creating an index of our alignment file so that we can randomly access the file"
   ]
  },
  {
   "cell_type": "code",
   "execution_count": 3,
   "metadata": {},
   "outputs": [
    {
     "name": "stdout",
     "output_type": "stream",
     "text": [
      "6167 reads; of these:\n",
      "  6167 (100.00%) were unpaired; of these:\n",
      "    0 (0.00%) aligned 0 times\n",
      "    6148 (99.69%) aligned exactly 1 time\n",
      "    19 (0.31%) aligned >1 times\n",
      "100.00% overall alignment rate\n"
     ]
    }
   ],
   "source": [
    "! bowtie2 -f -x ../class_09/sample_genome -U data/sample_RNA_reads.fa -S sample_RNA_reads.sam\n",
    "! samtools sort -o sample_RNA_reads.bam sample_RNA_reads.sam\n",
    "! samtools index sample_RNA_reads.bam"
   ]
  },
  {
   "cell_type": "markdown",
   "metadata": {},
   "source": [
    "You have now mapped your reads to a reference genome using the Burrows-Wheeler algorithm! You can take a look at the sample_RNA_reads.sam file to see the plain text version of the alignments and the sample_RNA_reads.bam now contains a compressed version of the same alignments.\n",
    "\n",
    "---\n",
    "## Calculate read depth on intervals\n",
    "\n",
    "Today we will be implementing an RPKM (Reads Per Kilobase of transcript, per Million mapped reads) calculation, which is essentially just counting reads on a genomic interval. To accomplish this, we will use the gff file of gene annotations for our genome and estimate RPKM as: \n",
    "\n",
    "RPKM = $ R_{G} / ( L_{G}/1000 * D/1000000)$\n",
    "\n",
    "Where, $R_{G}$ are the number of reads $R$ mapping to gene $G$, $L_{G}$ is then length of gene $G$, and $D$ is the total read count.\n",
    "\n",
    "As a practical note, because we are dealing with a tiny genome and very few reads, the RPKM values will be significantly higher than a typical RNA-seq experiment.\n",
    "\n",
    "\n",
    "```\n",
    "get_transcript_levels(bam_file, gene_annotations):\n",
    "    For gene in genome:\n",
    "        calculate RPKM\n",
    "```\n"
   ]
  },
  {
   "cell_type": "code",
   "execution_count": 57,
   "metadata": {},
   "outputs": [],
   "source": [
    "import bamnostic as bs\n",
    "from data_readers import get_gff\n",
    "\n",
    "def calculate_RPKM(gene_reads, gene_length, sequence_depth):\n",
    "    ''' Calculate RPKM value \n",
    "        RPKM = 𝑅𝐺/(𝐿𝐺/1000∗𝐷/1000000)\n",
    "        Where, 𝑅𝐺 are the number of reads 𝑅 mapping to gene 𝐺, 𝐿𝐺 is then length of gene 𝐺, and 𝐷 is the total read count.\n",
    "        \n",
    "    Args:\n",
    "        gene_reads (int): number of reads overlapping a gene\n",
    "        gene_length (int): size of the gene\n",
    "        sequence_depth (int): total number of reads in our sample\n",
    "    \n",
    "    Returns:\n",
    "        rpkm (int): rpkm value\n",
    "        \n",
    "    Example:\n",
    "        >>> calculate_RPKM(1953, 1301, 6167) #doctest: +ELLIPSIS\n",
    "        243417.05...\n",
    "    '''\n",
    "    \n",
    "    #need to calculate the RPKM value. \n",
    "    rpkm = (gene_reads)/(gene_length/1000*(sequence_depth)/1000000)\n",
    "    \n",
    "    #tested this and it's good. \n",
    "    return rpkm\n",
    "\n",
    "    \n",
    "def get_read_count(rna_alignments, seqid, start_position, end_position):\n",
    "    ''' Calculates the read depth of a bam in a region\n",
    "    \n",
    "    Args:\n",
    "        rna_alignments (str): bam file of aligned reads (requires a bai file to have been created)\n",
    "        seqid (str): name of the contig for region (ie. chromosome or 'sample')\n",
    "        start_position (int): start position of region\n",
    "        end_position (int): end position of region\n",
    "        \n",
    "    Returns:\n",
    "        read_count (int): total number of reads overlapping region\n",
    "        \n",
    "    Example:\n",
    "        >>> get_read_count('sample_RNA_reads.bam', 'sample', 336, 1637)\n",
    "        1953\n",
    "    '''\n",
    "    \n",
    "    #use bam fetch and enumerate. \n",
    "    \n",
    "    #we are opening the bam file but looking at a very specific region of the genome (start_pos and start_end) to calculate the \n",
    "    bam = bs.AlignmentFile(rna_alignments, \"rb\")\n",
    "    # first_read = next(bam)\n",
    "    #first_read.seq, first_read.pos, first_read.read_name \n",
    "    # return first_read.pos\n",
    "    read_count_lst = []\n",
    "    #you want random access. \n",
    "    #we would want to use bam.fetch \n",
    "    for i, read in enumerate(bam.fetch(seqid, start_position, end_position)):\n",
    "        read_count_lst.append(read)\n",
    "        read_count = len(read_count_lst)\n",
    "    \n",
    "    return read_count\n",
    "        \n",
    "            \n",
    "def get_transcript_levels(rna_alignments, gff_file):\n",
    "    ''' Gets RPKM values for all genes in a gff_file\n",
    "    \n",
    "    Args:\n",
    "        rna_alignments (str): bam file of aligned reads\n",
    "        gff_file (str): gff formatted gene annotation file\n",
    "        \n",
    "    Returns:\n",
    "        transcript_expression (list of tuples): list of tuples containing contig name, \n",
    "            start position of gene, end position of gene, and RPKM for that gene\n",
    "            \n",
    "    Example:\n",
    "        >>> get_transcript_levels('sample_RNA_reads.bam', 'data/sample_genomic.gff')  #doctest: +ELLIPSIS\n",
    "        [('sample', 336, 1637, 243417.05...\n",
    "    '''\n",
    "    \n",
    "    #output: needs to be a list of tuples (contig name, start_pos, end_pos, RPKM)\n",
    "    transcript_expression = [] \n",
    "    \n",
    "    #sequence_depth = total number of reads in our bam sample. \n",
    "    \n",
    "    for entry in get_gff(gff_file):  #need to get the entry \n",
    "        if entry.type == \"CDS\": #if the entry is a coding sequence, want to calculate the RPKM\n",
    "            #the entire read depth for a certain region in the genome. \n",
    "            #need to have values for gene_reads and sequence_depth. \n",
    "            \n",
    "            #gene_reads: number of reads overlapping the gene in that specific region. \n",
    "            gene_reads = get_read_count(rna_alignments, entry.seqid, entry.start, entry.end)\n",
    "            \n",
    "            #sequence_depth: number of reads total in the file. \n",
    "            bam = bs.AlignmentFile(rna_alignments, \"rb\")\n",
    "            sequence_depth_ls = []\n",
    "            for i, read in enumerate(bam):\n",
    "                sequence_depth_ls.append(read)\n",
    "                sequence_depth = len(sequence_depth_ls)\n",
    "            \n",
    "            #now you can calcualte the rpkm for each entry in the gff file. \n",
    "            entry_rpkm = calculate_RPKM(gene_reads, entry.end - entry.start, sequence_depth)  \n",
    "        \n",
    "            #WANT: list of tuples: contig name, start position of gene, end position of gene, RPKM for that gene. \n",
    "            transcript_expression.append((entry.seqid, entry.start, entry.end, entry_rpkm))\n",
    "    \n",
    "    return transcript_expression\n",
    "        \n"
   ]
  },
  {
   "cell_type": "code",
   "execution_count": 58,
   "metadata": {},
   "outputs": [
    {
     "data": {
      "text/plain": [
       "[('sample', 336, 1637, 243417.05193158844),\n",
       " ('sample', 4587, 5165, 405944.5772032523),\n",
       " ('sample', 5516, 5591, 492946.3272255554),\n",
       " ('sample', 6919, 7488, 365343.8578202537),\n",
       " ('sample', 8343, 8963, 324829.8697018993)]"
      ]
     },
     "execution_count": 58,
     "metadata": {},
     "output_type": "execute_result"
    }
   ],
   "source": [
    "get_transcript_levels('sample_RNA_reads.bam', 'data/sample_genomic.gff')"
   ]
  },
  {
   "cell_type": "code",
   "execution_count": 50,
   "metadata": {},
   "outputs": [
    {
     "data": {
      "text/plain": [
       "int"
      ]
     },
     "execution_count": 50,
     "metadata": {},
     "output_type": "execute_result"
    }
   ],
   "source": [
    "get_read_count(\"sample_RNA_reads.bam\", \"sample\", 336, 1637)"
   ]
  },
  {
   "cell_type": "code",
   "execution_count": 12,
   "metadata": {},
   "outputs": [
    {
     "data": {
      "text/plain": [
       "243417.05193158844"
      ]
     },
     "execution_count": 12,
     "metadata": {},
     "output_type": "execute_result"
    }
   ],
   "source": [
    "calculate_RPKM(1953, 1301, 6167)"
   ]
  },
  {
   "cell_type": "code",
   "execution_count": 48,
   "metadata": {},
   "outputs": [
    {
     "name": "stdout",
     "output_type": "stream",
     "text": [
      "A\n",
      "B\n",
      "C\n"
     ]
    }
   ],
   "source": [
    "lst = [\"A\", \"B\", \"C\"]\n",
    "for i, read in enumerate(lst):\n",
    "    print(read)"
   ]
  },
  {
   "cell_type": "code",
   "execution_count": null,
   "metadata": {},
   "outputs": [],
   "source": []
  },
  {
   "cell_type": "markdown",
   "metadata": {},
   "source": [
    "---\n",
    "## Allele-specific expression\n",
    "\n",
    "Combining the last class with todays class, we can also identify locations where the genotype of the sample is heterozygous, but the RNA preferentially comes from one allele. This is called allele-specific expression and is often cause by a transcriptional regulatory effect on the gene. For this section, we will be testing each of the genes for allele-specific expression by using our previously calculated genotypes and testing if there is any bias in the RNA-seq data at these same positions. We can utilize two functions from the previous class to help this calculation.\n",
    "\n",
    "```\n",
    "calculate_allelic_ratio(genotype, bam_file, gene_annotations):\n",
    "    For gene in genome:\n",
    "        Build pileup for gene regions\n",
    "        for each known heterozygous variant overlapping region:\n",
    "            Calculate allelic ratio (min allele / sum of alleles)\n",
    "            test for heterozygosity \n",
    "```\n"
   ]
  },
  {
   "cell_type": "code",
   "execution_count": 127,
   "metadata": {},
   "outputs": [],
   "source": [
    "from genotyper import get_pileup, binomial_test\n",
    "\n",
    "def calculate_allelic_ratio(genotype, rna_alignments, gff_file):\n",
    "    ''' Calculates allelic ratio for all genes in a gff_file\n",
    "        We will perform this test at every heterozygous variant and report the average allelic ratio\n",
    "        and the result of heterozygosity tests at each variant.\n",
    "    \n",
    "    Args:\n",
    "        genotype (list of tuples): list of variants as (position, allele1, allele2)\n",
    "        rna_alignments (str): bam file of aligned reads\n",
    "        gff_file (str): gff formatted gene annotation file\n",
    "        \n",
    "    Returns:\n",
    "        gene_allelic_ratios (list of tuples): list of tuples containing contig name, \n",
    "            start position of gene, end position of gene, average allelic ratio for that gene,\n",
    "            and a list of results from heterozygosity tests at each variant in that gene\n",
    "            \n",
    "    Example:\n",
    "    >>> variant_list = [(240, 'A', 'G'), (354, 'G', 'A')]\n",
    "    >>> calculate_allelic_ratio(variant_list, 'sample_RNA_reads.bam', 'data/sample_genomic.gff')\n",
    "    [('sample', 336, 1637, 0.3684210526315789, [True])]\n",
    "    '''\n",
    "    \n",
    "    #must return an empty list containing: contig name, start_pos, end_pos, average ellelic ratio, a list of heterozygosity tests \n",
    "    gene_allelic_ratios = []\n",
    "   \n",
    "    \n",
    "    #we have get_pileup and binomial_test functions\n",
    "    \n",
    "    for entry in get_gff(gff_file):  #for gene in the genome. \n",
    "        if entry.type == \"CDS\": #needs to be a coding sequence.\n",
    "            allele_ratio_lst = []\n",
    "            binomial_tests = []\n",
    "            ratio_average = None #for each gene, it will automatically have \"None\", but if there is at least one variant, then we'll have the ratio_average. \n",
    "            #first need to create the pileup to build a read pileup list. \n",
    "            #this returns a list of Counters for each position of how many bases are there. \n",
    "            #builds the pileup for gene regions. \n",
    "            allele_pileup = get_pileup(rna_alignments, entry.start, entry.end) \n",
    "            # print(entry.start)\n",
    "            # print(entry.end)\n",
    "            \n",
    "            #now we need to test heterozygous variant overlapping region. \n",
    "            #need to have an actual position to figure out where we're at in the genome. \n",
    "            for i, read in enumerate(genotype):\n",
    "                position, allele1, allele2 = read \n",
    "                # print(position, allele1, allele2) \n",
    "                # print(genotype)\n",
    "            \n",
    "            #the position must be within the start and the end \n",
    "                if position >= entry.start and position <= entry.end:\n",
    "                    #so if our position is in the right region, now we're going to gather all the alleles there in the pileup.\n",
    "                    all_alleles = allele_pileup[position - entry.start - 1] #sets us back to the zero index. by convention, the genome is 1-index, so position variable is 1-indexed. \n",
    "                    #to work with a python list, you must subtract 1 to make it 0-indexed, which python is based off of. We're subtracting entry.start due to our python list starting at the \n",
    "                    #gene of interest, NOT at the beginning of the entire genome. \n",
    "                    # print(all_alleles)\n",
    "                    # Calculate allelic ratio (min allele / sum of alleles)\n",
    "                    #need to index at that certain position to tell which allele you want. \n",
    "                    # print(all_alleles[allele1])\n",
    "                    # print(all_alleles[allele2])\n",
    "                \n",
    "                    \n",
    "                    allele_ratio = min(all_alleles[allele1], all_alleles[allele2])/(all_alleles[allele1] + all_alleles[allele2])\n",
    "                    \n",
    "                    \n",
    "                    allele_ratio_lst.append(allele_ratio) \n",
    "                    #we want to do this for every single read. so need to append to an empty list. \n",
    "\n",
    "                    #need binomial test which will return True or False. \n",
    "                    allele_binomial_test = binomial_test(all_alleles[allele1], all_alleles[allele2])\n",
    "                    #probably need to add this to an empty list too to account for the iterations. \n",
    "                    binomial_tests.append(allele_binomial_test)\n",
    "            \n",
    "            \n",
    "            #first, does a position must have more than 1 counter entry. \n",
    "            if len(allele_ratio_lst) > 0: #prevents me from dividing by 0 in case of no variants. \n",
    "                #now we need the average allelic ratio for that gene. sum/len\n",
    "                \n",
    "                ratio_average = sum(allele_ratio_lst)/len(allele_ratio_lst)\n",
    "            \n",
    "            \n",
    "            gene_allelic_ratios.append((entry.seqid, entry.start, entry.end, ratio_average, binomial_tests)) \n",
    "                \n",
    "    \n",
    "    return gene_allelic_ratios \n",
    "    "
   ]
  },
  {
   "cell_type": "markdown",
   "metadata": {},
   "source": [
    "[('sample', 336, 1637, 0.3684210526315789, [True])]"
   ]
  },
  {
   "cell_type": "code",
   "execution_count": 128,
   "metadata": {},
   "outputs": [
    {
     "data": {
      "text/plain": [
       "[('sample', 336, 1637, 0.3684210526315789, [True]),\n",
       " ('sample', 4587, 5165, None, []),\n",
       " ('sample', 5516, 5591, None, []),\n",
       " ('sample', 6919, 7488, None, []),\n",
       " ('sample', 8343, 8963, None, [])]"
      ]
     },
     "execution_count": 128,
     "metadata": {},
     "output_type": "execute_result"
    }
   ],
   "source": [
    "variant_list = [(240, 'A', 'G'), (354, 'G', 'A')]\n",
    "calculate_allelic_ratio(variant_list, 'sample_RNA_reads.bam', 'data/sample_genomic.gff')"
   ]
  },
  {
   "cell_type": "code",
   "execution_count": null,
   "metadata": {},
   "outputs": [],
   "source": []
  },
  {
   "cell_type": "code",
   "execution_count": 121,
   "metadata": {},
   "outputs": [
    {
     "data": {
      "text/plain": [
       "[('sample', 336, 1637, 0.4087547299621603, [True, True, True]),\n",
       " ('sample', 4587, 5165, 0.09736648282501408, [False, False, False]),\n",
       " ('sample', 5516, 5591, 0.4119047619047619, [True, True]),\n",
       " ('sample', 6919, 7488, 0.4762833008447043, [True, True, True]),\n",
       " ('sample', 8343, 8963, 0.20277935337492908, [False, False])]"
      ]
     },
     "execution_count": 121,
     "metadata": {},
     "output_type": "execute_result"
    }
   ],
   "source": [
    "variant_list = [(240, 'A', 'G'), (354, 'G', 'A'), (803, 'C', 'A'), (1411, 'A', 'G'), (1799, 'C', 'G'), (1829, 'G', 'C'), (1910, 'T', 'C'), (1958, 'A', 'T'), (2119, 'A', 'G'), (2327, 'G', 'A'), (2404, 'A', 'G'), (2425, 'T', 'A'), (2605, 'C', 'T'), (2678, 'G', 'A'), (2788, 'A', 'T'), (2965, 'A', 'C'), (3017, 'T', 'G'), (3141, 'G', 'T'), (3383, 'G', 'C'), (3536, 'G', 'A'), (3779, 'G', 'T'), (3822, 'C', 'A'), (3908, 'G', 'C'), (4497, 'C', 'T'), (4548, 'A', 'C'), (4737, 'G', 'A'), (4823, 'G', 'A'), (5144, 'C', 'G'), (5275, 'G', 'T'), (5313, 'T', 'C'), (5522, 'A', 'G'), (5586, 'G', 'A'), (5624, 'T', 'A'), (5652, 'A', 'C'), (5910, 'C', 'A'), (6013, 'A', 'T'), (6303, 'A', 'G'), (6632, 'G', 'C'), (6734, 'A', 'C'), (7099, 'C', 'T'), (7376, 'A', 'C'), (7466, 'C', 'T'), (7970, 'C', 'G'), (8116, 'G', 'T'), (8294, 'T', 'C'), (8545, 'T', 'C'), (8788, 'C', 'A'), (8981, 'G', 'C')]\n",
    "calculate_allelic_ratio(variant_list, 'sample_RNA_reads.bam', 'data/sample_genomic.gff')"
   ]
  },
  {
   "cell_type": "code",
   "execution_count": 94,
   "metadata": {},
   "outputs": [
    {
     "data": {
      "text/plain": [
       "7"
      ]
     },
     "execution_count": 94,
     "metadata": {},
     "output_type": "execute_result"
    }
   ],
   "source": [
    "min(12,7)"
   ]
  },
  {
   "cell_type": "code",
   "execution_count": null,
   "metadata": {},
   "outputs": [],
   "source": []
  },
  {
   "cell_type": "code",
   "execution_count": 96,
   "metadata": {},
   "outputs": [
    {
     "data": {
      "text/plain": [
       "19"
      ]
     },
     "execution_count": 96,
     "metadata": {},
     "output_type": "execute_result"
    }
   ],
   "source": [
    "(12 + 7)"
   ]
  },
  {
   "cell_type": "code",
   "execution_count": null,
   "metadata": {},
   "outputs": [],
   "source": []
  },
  {
   "cell_type": "code",
   "execution_count": null,
   "metadata": {},
   "outputs": [],
   "source": []
  },
  {
   "cell_type": "code",
   "execution_count": null,
   "metadata": {},
   "outputs": [],
   "source": []
  },
  {
   "cell_type": "code",
   "execution_count": null,
   "metadata": {},
   "outputs": [],
   "source": []
  },
  {
   "cell_type": "code",
   "execution_count": 122,
   "metadata": {},
   "outputs": [
    {
     "name": "stdout",
     "output_type": "stream",
     "text": [
      "**********************************************************************\n",
      "File \"__main__\", line 20, in __main__.calculate_allelic_ratio\n",
      "Failed example:\n",
      "    calculate_allelic_ratio(variant_list, 'sample_RNA_reads.bam', 'data/sample_genomic.gff')\n",
      "Expected:\n",
      "    [('sample', 336, 1637, 0.3684210526315789, [True])]\n",
      "Got:\n",
      "    [('sample', 336, 1637, 0.3684210526315789, [True]), ('sample', 4587, 5165, None, []), ('sample', 5516, 5591, None, []), ('sample', 6919, 7488, None, []), ('sample', 8343, 8963, None, [])]\n",
      "**********************************************************************\n",
      "1 items had failures:\n",
      "   1 of   2 in __main__.calculate_allelic_ratio\n",
      "***Test Failed*** 1 failures.\n"
     ]
    },
    {
     "data": {
      "text/plain": [
       "TestResults(failed=1, attempted=5)"
      ]
     },
     "execution_count": 122,
     "metadata": {},
     "output_type": "execute_result"
    }
   ],
   "source": [
    "import doctest\n",
    "doctest.testmod()"
   ]
  },
  {
   "cell_type": "code",
   "execution_count": null,
   "metadata": {},
   "outputs": [],
   "source": []
  },
  {
   "cell_type": "code",
   "execution_count": 59,
   "metadata": {},
   "outputs": [],
   "source": [
    "lst = [(\"A\", 1, \"1.2\"), (\"B\", 2, \"2.2\"), (\"C\", 3, \"3.3\")]"
   ]
  },
  {
   "cell_type": "code",
   "execution_count": 63,
   "metadata": {},
   "outputs": [
    {
     "name": "stdout",
     "output_type": "stream",
     "text": [
      "1.2\n",
      "2.2\n",
      "3.3\n"
     ]
    }
   ],
   "source": [
    "for i, read in enumerate(lst):\n",
    "    seqid, num, phrase = read \n",
    "    print(phrase)"
   ]
  },
  {
   "cell_type": "code",
   "execution_count": 35,
   "metadata": {},
   "outputs": [],
   "source": [
    "def get_pileup(alignments, region_start = None, region_end = None):\n",
    "    ''' Function build a read pileup list\n",
    "        this is implemented as a list of Counter() from region_start to region_end\n",
    "        with our small genome, it is reasonable to cover the entire genome\n",
    "        but for larger genomes a smaller window is required.\n",
    "    \n",
    "    Args:\n",
    "        alignments (str): bam file of alignments\n",
    "        region_start (int): start position to build pileup\n",
    "        region_end (int): end position to build pileup\n",
    "    \n",
    "    Returns:\n",
    "        genome (list of Counter()): a list from region_start to region_end of\n",
    "            Counters of allele frequencies\n",
    "        \n",
    "    Example:\n",
    "        >>> get_pileup('sample_reads.bam') #doctest: +ELLIPSIS +NORMALIZE_WHITESPACE \n",
    "        [Counter({'G': 5}), Counter({'G': 8}), Counter({'T': 12}), ...] \n",
    "    '''\n",
    "    bam = bs.AlignmentFile(alignments, 'rb')\n",
    "\n",
    "    if(region_start == None):\n",
    "        region_start = 0\n",
    "        \n",
    "    if(region_end == None):\n",
    "        region_end = bam.header['SQ'][0]['LN']\n",
    "        \n",
    "    genome = [Counter() for _ in range(region_start, region_end)]\n",
    "    \n",
    "    for read in bam:\n",
    "        for i, base in enumerate(read.seq, read.pos):\n",
    "            if i >= region_start and i <= region_end:\n",
    "                genome[i-region_start].update(base)\n",
    "  \n",
    "    return genome"
   ]
  },
  {
   "cell_type": "code",
   "execution_count": 66,
   "metadata": {},
   "outputs": [
    {
     "data": {
      "text/plain": [
       "Counter({'G': 5})"
      ]
     },
     "execution_count": 66,
     "metadata": {},
     "output_type": "execute_result"
    }
   ],
   "source": [
    "test1 = get_pileup('sample_reads.bam')\n",
    "test1[0]"
   ]
  },
  {
   "cell_type": "code",
   "execution_count": null,
   "metadata": {},
   "outputs": [],
   "source": []
  },
  {
   "cell_type": "code",
   "execution_count": null,
   "metadata": {},
   "outputs": [],
   "source": []
  }
 ],
 "metadata": {
  "kernelspec": {
   "display_name": "Python 3 (ipykernel)",
   "language": "python",
   "name": "python3"
  },
  "language_info": {
   "codemirror_mode": {
    "name": "ipython",
    "version": 3
   },
   "file_extension": ".py",
   "mimetype": "text/x-python",
   "name": "python",
   "nbconvert_exporter": "python",
   "pygments_lexer": "ipython3",
   "version": "3.7.8"
  }
 },
 "nbformat": 4,
 "nbformat_minor": 4
}
