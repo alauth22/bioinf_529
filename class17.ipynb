{
 "cells": [
  {
   "cell_type": "markdown",
   "metadata": {},
   "source": [
    "# Pairwise alignments"
   ]
  },
  {
   "cell_type": "markdown",
   "metadata": {},
   "source": [
    "---\n",
    "\n",
    "## Before Class\n",
    "In class today we will be implementing the Smith-Waterman algorithm to identify optimal local alignments of two sequences.\n",
    "\n",
    "Prior to class, please do the following:\n",
    "1. Review slides on sequence alignments in detail\n",
    "* Focus on how to conceptually translate the algorithm to code\n"
   ]
  },
  {
   "cell_type": "markdown",
   "metadata": {},
   "source": [
    "---\n",
    "## Learning Objectives\n",
    "\n",
    "1. Conceptually undersand dynamic programming and sequence alignment\n",
    "1. Implement Smith-Waterman algorithm for local alignment\n"
   ]
  },
  {
   "cell_type": "markdown",
   "metadata": {},
   "source": [
    "---\n",
    "## Background"
   ]
  },
  {
   "cell_type": "markdown",
   "metadata": {},
   "source": [
    "Today we will be implementing Smith-Waterman. This is a dynamic programming algorithm used for local sequence alignment. For today's class, we have provided the basic implementation of the algorithm but have not populated the functions for 1) scoring the alignment in the or for 2) traceback through the matrix. You will implement these portions of the algorithm in class today.\n",
    "\n",
    "As a reminder from the slides, the scoring for Smith-Waterman only uses the scores from the positions above, left, and above-left of the current position in the matrix as below:\n",
    "\n",
    "<center><img src=\"figures/Smith-Waterman_scoring.png\"></center>\n",
    "\n",
    "For traceback, you will need to keep track of the direction of the arrows in a matrix and then begin traceback from the maximum value."
   ]
  },
  {
   "cell_type": "markdown",
   "metadata": {},
   "source": [
    "---\n",
    "## Imports"
   ]
  },
  {
   "cell_type": "code",
   "execution_count": 1,
   "metadata": {},
   "outputs": [],
   "source": [
    "import numpy as np"
   ]
  },
  {
   "cell_type": "markdown",
   "metadata": {},
   "source": [
    "---\n",
    "## Implement Smith-Waterman algorithm\n"
   ]
  },
  {
   "cell_type": "markdown",
   "metadata": {},
   "source": [
    "```\n",
    "SmithWaterman(seq1, seq2, match, mismatch, gap)\n",
    "    Initialize [len(seq1)+1] x [len(seq2)+1] numpy array as scoring matrix with first column and row equal to 0\n",
    "    \n",
    "    Fill scoring matrix (score_matrix) and Traceback matrix, record the position with max score (max_pos):\n",
    "    for i in each row number:\n",
    "        for j in each column number:\n",
    "            S[i][j] = max( S[i-1][j-1] + compute_diag_score, S[i-1][j] + gap_score, H[i][j-1] + gap_score, 0 )\n",
    "            T[i][j] = direction of max( S[i-1][j-1] + compute_diag_score, S[i-1][j] + gap_score, S[i][j-1] + gap_score, 0 )\n",
    "    \n",
    "    Traceback. Find the optimal path through scoring matrix starting at max_pos\n",
    "    \n",
    "```"
   ]
  },
  {
   "cell_type": "code",
   "execution_count": 19,
   "metadata": {},
   "outputs": [],
   "source": [
    "def smith_waterman(seq1, seq2, match=1, mismatch=-1, gap=-1):\n",
    "    '''Smith-Waterman algorithm for local alignment\n",
    "    \n",
    "    Args:\n",
    "        seq1 (str): input seq 1\n",
    "        seq2 (str): input seq 2\n",
    "        match: default = +1\n",
    "        mismatch: default = -1\n",
    "        gap: default = -1\n",
    "    \n",
    "    Returns:\n",
    "        aligned_seq1 (str)\n",
    "        aligned_seq2 (str)\n",
    "        score_matrix (numpy array): scoring matrix\n",
    "    '''\n",
    "    \n",
    "    #for local gap alignments. \n",
    "    #match score, mismatch score, and gap score. \n",
    "    \n",
    "    #Initialize Matrix for our future calculations:\n",
    "    num_rows = len(seq1) + 1\n",
    "    num_cols = len(seq2) + 1\n",
    "    score_matrix = np.zeros(shape=(num_rows,num_cols), dtype=int)\n",
    "    traceback_matrix = np.zeros(shape=(num_rows,num_cols), dtype=int)\n",
    "    max_score = 0\n",
    "    max_pos = (0,0)\n",
    "\n",
    "    #Create scoring matrix\n",
    "    for i in range(1,num_rows):\n",
    "        for j in range(1,num_cols): #iteration starts from position (1,1)\n",
    "            score_matrix[i][j], traceback_matrix[i][j] = cal_score(score_matrix, seq1, seq2, i, j, match, mismatch, gap)\n",
    "            \n",
    "            # Keep track of maximum position for trackback\n",
    "            if score_matrix[i][j] > max_score:\n",
    "                max_score = score_matrix[i][j]\n",
    "                max_pos = (i,j)\n",
    "    \n",
    "    #Traceback the optimal path through scoring matrix\n",
    "    aligned_seq1, aligned_seq2 = traceback(seq1, seq2, traceback_matrix, max_pos)\n",
    "    \n",
    "    return aligned_seq1, aligned_seq2, score_matrix"
   ]
  },
  {
   "cell_type": "code",
   "execution_count": 20,
   "metadata": {},
   "outputs": [],
   "source": [
    "def cal_score(matrix, seq1, seq2, i, j, match, mismatch, gap):\n",
    "    '''Calculate score for position (i,j) in scoring matrix, also record move to trace back\n",
    "    \n",
    "    Args:\n",
    "        matrix (numpy array): scoring matrix\n",
    "        seq1 (str): sequence 1\n",
    "        seq2 (str): sequence 2\n",
    "        i (int): current row number\n",
    "        j (int): current column number\n",
    "        \n",
    "    Returns:\n",
    "        score in position (i,j)    \n",
    "        move to trace back: 0-END, 1-DIAG, 2-UP, 3-LEFT\n",
    "        \n",
    "    Pseudocode:\n",
    "        Calculate scores based on upper-left, up, and left neighbors:\n",
    "            diag_score = upper-left + (match or mismatch)\n",
    "            up_score = up + gap\n",
    "            left_score = left + gap\n",
    "        score = max(0, diag_score, up_score, left_score)\n",
    "        traceback = maximum direction or end\n",
    "        \n",
    "    '''\n",
    "    \n",
    "    #initialize the score and current_state since we want to return this. \n",
    "    score = 0\n",
    "    move_tracker = 0 \n",
    "    \n",
    "    \n",
    "    #look at image at the top of this notebook. \n",
    "    up_score = matrix[i-1][j] + gap \n",
    "    left_score = matrix[i][j-1] + gap \n",
    "    diag_score = matrix[i-1][j-1] + diag_score_compute(seq1[i-1], seq2[j-1], match, mismatch) \n",
    "    \n",
    "    #find the max score and take that. \n",
    "    score = max(0, diag_score, up_score, left_score) #we need 0 to get the correct indecies. \n",
    "    \n",
    "    #move to trace back: 0-END, 1-DIAG, 2-UP, 3-LEFT\n",
    "    #just use the np.argmax to find the index of the max value. \n",
    "    #make sure they are in the same order. \n",
    "    move_tracker = np.argmax([0, diag_score, up_score, left_score])\n",
    "    \n",
    "    return score, move_tracker \n"
   ]
  },
  {
   "cell_type": "code",
   "execution_count": 21,
   "metadata": {},
   "outputs": [],
   "source": [
    "#this allows us to calculate the match score so that we can use it in the diag_score equation. \n",
    "def diag_score_compute(alph1, alph2, match, mismatch):\n",
    "    if alph1 == alph2:\n",
    "        return match\n",
    "    if alph1 != alph2:\n",
    "        return mismatch \n",
    "    "
   ]
  },
  {
   "cell_type": "code",
   "execution_count": 22,
   "metadata": {},
   "outputs": [],
   "source": [
    "def traceback(seq1, seq2, traceback_matrix, maximum_position):\n",
    "    '''Find the optimal path through scoring matrix\n",
    "        \n",
    "        diagonal: match/mismatch\n",
    "        up: gap in seq1\n",
    "        left: gap in seq2\n",
    "        \n",
    "    Args:\n",
    "        seq1 (str) : First sequence being aligned\n",
    "        seq2 (str) : Second sequence being aligned\n",
    "        traceback_matrix (numpy array): traceback matrix\n",
    "        maximum_position (tuple): starting position to trace back from\n",
    "        \n",
    "    Returns:\n",
    "        aligned_seq1 (str): e.g. GTTGAC\n",
    "        aligned_seq2 (str): e.g. GTT-AC\n",
    "        \n",
    "    Pseudocode:\n",
    "        while current_move != END:\n",
    "            current_move = traceback_matrix[current_row][current_col]\n",
    "            if current_move == DIAG:\n",
    "                ...\n",
    "            elif current_move == UP:\n",
    "                ...\n",
    "            elif current_move == LEFT:\n",
    "                ...\n",
    "            \n",
    "    '''\n",
    "    \n",
    "    #initialize parameters \n",
    "    aligned_seq1 = []\n",
    "    aligned_seq2 = []\n",
    "    gap = \"-\"\n",
    "    \n",
    "    #this is going to tell us where we're. Set it equal to the very beginning. \n",
    "    #you want to be at the bottom right corner because you're tracing back. \n",
    "    current_row = maximum_position[0]\n",
    "    current_col = maximum_position[0]\n",
    "    current_move = None \n",
    "    # current_move = 0\n",
    "    \n",
    "    \n",
    "    #map the numbers of the move:\n",
    "    END, DIAG, UP, LEFT = range(4) #0, 1, 2, 3 pretty cool!!\n",
    "    # print(END)\n",
    "    # print(DIAG)\n",
    "    # print(UP)\n",
    "    # print(LEFT) \n",
    "    \n",
    "    while current_move != END: #which it is since it's set equal to None \n",
    "        current_move = traceback_matrix[current_row][current_col]  #we're going to pull the value from there. \n",
    "        #and now we're going to check that value. \n",
    "        # while current_move != END:\n",
    "        #     current_move = traceback_matrix[current_row][current_col]\n",
    "        #     if current_move == DIAG:\n",
    "        #         ...\n",
    "        #     elif current_move == UP:\n",
    "        #         ...\n",
    "        #     elif current_move == LEFT:\n",
    "        \n",
    "        if current_move == DIAG: #if current_move equals 1. \n",
    "            #we're going to want to \n",
    "            aligned_seq1.append(seq1[current_row - 1]) \n",
    "            aligned_seq2.append(seq2[current_col - 1]) \n",
    "            \n",
    "            current_row = current_row - 1 #need to move back and reset our current_row\n",
    "            current_col = current_col - 1 #need to reset our current_col \n",
    "            \n",
    "        elif current_move == UP: \n",
    "            aligned_seq1.append(seq1[current_row - 1])\n",
    "            aligned_seq2.append(gap) \n",
    "            \n",
    "            #moving again and updating it. \n",
    "            #we're only moving up a row, not a column \n",
    "            #so don't adjust the column \n",
    "            current_row = current_row - 1\n",
    "            \n",
    "        elif current_move == LEFT:\n",
    "            aligned_seq1.append(gap)\n",
    "            aligned_seq2.append(seq2[current_col - 1]) \n",
    "            \n",
    "            #moving again and updating it. \n",
    "            #we're only moving across a row to the left. so don't adjust the row \n",
    "            current_col = current_col - 1\n",
    "            \n",
    "    \n",
    "    #they are lists and we need strings. \n",
    "    aligned_seq1_final = \"\".join(aligned_seq1)[::-1]\n",
    "    aligned_seq2_final = \"\".join(aligned_seq2)[::-1]\n",
    "    \n",
    "    return aligned_seq1_final, aligned_seq2_final\n",
    "    \n",
    "    \n",
    "            "
   ]
  },
  {
   "cell_type": "code",
   "execution_count": 7,
   "metadata": {},
   "outputs": [
    {
     "data": {
      "text/plain": [
       "'adcg'"
      ]
     },
     "execution_count": 7,
     "metadata": {},
     "output_type": "execute_result"
    }
   ],
   "source": [
    "test = [\"g\", \"c\", \"d\", \"a\"]\n",
    "\"\".join(test)[::-1]"
   ]
  },
  {
   "cell_type": "code",
   "execution_count": null,
   "metadata": {},
   "outputs": [],
   "source": []
  },
  {
   "cell_type": "code",
   "execution_count": 23,
   "metadata": {},
   "outputs": [
    {
     "name": "stdout",
     "output_type": "stream",
     "text": [
      "AC-TTA\n",
      "ACATT-\n",
      "[[0 0 0 0 0 0 0 0 0]\n",
      " [0 0 0 0 0 1 1 0 0]\n",
      " [0 0 1 0 1 0 0 2 1]\n",
      " [0 1 0 2 1 0 0 1 1]\n",
      " [0 0 0 1 1 2 1 0 0]\n",
      " [0 0 0 0 0 2 3 2 1]\n",
      " [0 0 1 0 1 1 2 4 3]\n",
      " [0 0 0 0 0 0 1 3 3]]\n"
     ]
    }
   ],
   "source": [
    "# Example from slides\n",
    "seq1 = 'TACTTAG'\n",
    "seq2 = 'CACATTAA'\n",
    "\n",
    "aligned_seq1, aligned_seq2, score_matrix = smith_waterman(seq1,seq2)\n",
    "\n",
    "print (aligned_seq1)\n",
    "print (aligned_seq2)\n",
    "print (score_matrix)\n"
   ]
  },
  {
   "cell_type": "raw",
   "metadata": {},
   "source": [
    "Expected output:\n",
    "\n",
    "AC-TTA\n",
    "ACATTA\n",
    "[[0 0 0 0 0 0 0 0 0]\n",
    " [0 0 0 0 0 1 1 0 0]\n",
    " [0 0 1 0 1 0 0 2 1]\n",
    " [0 1 0 2 1 0 0 1 1]\n",
    " [0 0 0 1 1 2 1 0 0]\n",
    " [0 0 0 0 0 2 3 2 1]\n",
    " [0 0 1 0 1 1 2 4 3]\n",
    " [0 0 0 0 0 0 1 3 3]]"
   ]
  },
  {
   "cell_type": "code",
   "execution_count": null,
   "metadata": {},
   "outputs": [],
   "source": []
  }
 ],
 "metadata": {
  "kernelspec": {
   "display_name": "Python 3 (ipykernel)",
   "language": "python",
   "name": "python3"
  },
  "language_info": {
   "codemirror_mode": {
    "name": "ipython",
    "version": 3
   },
   "file_extension": ".py",
   "mimetype": "text/x-python",
   "name": "python",
   "nbconvert_exporter": "python",
   "pygments_lexer": "ipython3",
   "version": "3.7.8"
  }
 },
 "nbformat": 4,
 "nbformat_minor": 4
}
