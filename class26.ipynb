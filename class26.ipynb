{
 "cells": [
  {
   "cell_type": "markdown",
   "metadata": {},
   "source": [
    "# Boolean Systems"
   ]
  },
  {
   "cell_type": "markdown",
   "metadata": {},
   "source": [
    "---\n",
    "## Before Class\n",
    "1. Review slides on boolean and differential equation models.\n",
    "\n",
    "\n",
    "---\n",
    "## Learning Objectives\n",
    "\n",
    "1. Run and plot simulation on oscillatory behavior from simple boolean system.  \n",
    "* Run and plot simulation on oscillatory behavior from differential equation models."
   ]
  },
  {
   "cell_type": "markdown",
   "metadata": {},
   "source": [
    "---\n",
    "## Background\n",
    "\n",
    "Today we will be implementing two models for oscillatory behavior: simple boolean system and differential equation models, which have been successfully applied in the context of cell-cycle regulation modeling. \n",
    "\n",
    "Reference: [Ferrell JE et al., Cell, vol 144, 2011](https://www.sciencedirect.com/science/article/pii/S0092867411002431?via%3Dihub)"
   ]
  },
  {
   "cell_type": "markdown",
   "metadata": {},
   "source": [
    "---\n",
    "## Simple Boolean System Simulation\n",
    "As an example in slide,\n",
    "\n",
    "<img src=\"figures/Boolean_Model.png\" width=\"150\">\n",
    "\n",
    "There are three nodes in this boolean model: `A, B and C`, and each node has a rule when being updated in each time step: `A: not B, B: not C, C: A`.\n",
    "\n",
    "Start with the initial states `A: 1, B: 1, C: 1`, we will get the simulation results as below:\n",
    "\n",
    "<img src=\"figures/Simulation.png\" width=\"400\">\n",
    "\n",
    "Hint: you can use `eval()` for the boolean rules"
   ]
  },
  {
   "cell_type": "code",
   "execution_count": 14,
   "metadata": {},
   "outputs": [],
   "source": [
    "class Boolean_Model:\n",
    "    ''' Class for boolean models\n",
    "    \n",
    "    Class for holding boolean model parameters and to do simulation\n",
    "    \n",
    "    Private Attributes:\n",
    "        _intial (dict): The initial states for nodes\n",
    "        _rules (dict): The regulatory rules of boolean model \n",
    "    '''\n",
    "    \n",
    "    def __init__(self, initial, rules):\n",
    "        self._initial = initial  #these are the initial values \n",
    "        self._rules = rules  #these are the rules that we can use the eval() to tell if a rule is true or false \n",
    "    \n",
    "    @property\n",
    "    def nodes(self):\n",
    "        return self._initial.keys() #returns just A, B, C\n",
    "        \n",
    "    def simulation(self,step=10):\n",
    "        '''Funtion for simulation on boolean model\n",
    "        \n",
    "        Args:\n",
    "            step (int): Number of steps for simulation\n",
    "            \n",
    "        Returns:\n",
    "            results (int, list of dict): A dictionary of nodes containing their state in each simulation step\n",
    "        \n",
    "        Examples:\n",
    "            #Create the boolean model\n",
    "            >>> initial = {'A': 1, 'B': 1, 'C': 1}\n",
    "            >>> rules = {'A': 'not B', 'B': 'not C', 'C': 'A'}\n",
    "            \n",
    "            >>> boolean_model = Boolean_Model(initial, rules)\n",
    "            >>> boolean_model.simulation() #doctest: +NORMALIZE_WHITESPACE\n",
    "            {'A': [1, 0, 1, 1, 0, 1, 1, 0, 1, 1, 0],\n",
    "             'B': [1, 0, 0, 1, 0, 0, 1, 0, 0, 1, 0],\n",
    "             'C': [1, 1, 0, 1, 1, 0, 1, 1, 0, 1, 1]}\n",
    "            \n",
    "        '''\n",
    "        #initialize the results dict\n",
    "        results = {} \n",
    "        \n",
    "        #need to go through each node. \n",
    "        for node in self.nodes:  #A, B, or C\n",
    "            results[node] = [self._initial[node]] #start with the initial values for the stimulation \n",
    "            \n",
    "        #one way to assign local variables from dict keys and will keep this updated. \n",
    "        #wil update the lcoal variables using the local function in python \n",
    "        #local function doesn't take any parameters, but will update your variables. \n",
    "        locals().update(self._initial) \n",
    "        \n",
    "        #second dictionary to keep track of our progress\n",
    "        node_update = {}\n",
    "        #we don't want to include the first step so we exclude the first step. \n",
    "        for i in range(1, step + 1):\n",
    "            #now need to take the rules for each step \n",
    "            for node in self._rules:\n",
    "                node_update[node] = int(eval(self._rules[node]))\n",
    "                #now update the results dict \n",
    "                results[node].append(node_update[node])\n",
    "            \n",
    "            #now need to update the locals function again \n",
    "            locals().update(node_update) #int values have changed so need to keep record. \n",
    "    \n",
    "        return results \n",
    "             "
   ]
  },
  {
   "cell_type": "code",
   "execution_count": null,
   "metadata": {},
   "outputs": [],
   "source": []
  },
  {
   "cell_type": "code",
   "execution_count": null,
   "metadata": {},
   "outputs": [],
   "source": []
  },
  {
   "cell_type": "code",
   "execution_count": 15,
   "metadata": {},
   "outputs": [],
   "source": [
    "#Build the boolean model with initial states and the regulatory rules for each node\n",
    "initial = {'A': 1, 'B': 1, 'C': 1}\n",
    "rules = {'A': 'not B', 'B': 'not C', 'C': 'A'}\n",
    "\n",
    "boolean_model = Boolean_Model(initial, rules)"
   ]
  },
  {
   "cell_type": "code",
   "execution_count": 16,
   "metadata": {},
   "outputs": [
    {
     "data": {
      "text/plain": [
       "{'A': [1, 0, 1, 1, 0, 1, 1, 0, 1, 1, 0],\n",
       " 'B': [1, 0, 0, 1, 0, 0, 1, 0, 0, 1, 0],\n",
       " 'C': [1, 1, 0, 1, 1, 0, 1, 1, 0, 1, 1]}"
      ]
     },
     "execution_count": 16,
     "metadata": {},
     "output_type": "execute_result"
    }
   ],
   "source": [
    "#Perform simulation on the boolean model\n",
    "results = boolean_model.simulation()\n",
    "results"
   ]
  },
  {
   "cell_type": "code",
   "execution_count": 25,
   "metadata": {},
   "outputs": [],
   "source": [
    "#Reference for ploting heatmap with matplotlib:\n",
    "#https://matplotlib.org/gallery/images_contours_and_fields/image_annotated_heatmap.html\n",
    "import matplotlib.pyplot as plt\n",
    "import numpy as np\n",
    "def plot_simulation(results):\n",
    "    '''Plot the simulation results as a heatmap:\n",
    "    \n",
    "    Args: \n",
    "        results (int, list of dict): A dictionary of nodes containing their state in each simulation step\n",
    "    '''\n",
    "\n",
    "    nodes = results.keys()\n",
    "    states = np.array([k for k in results.values()])\n",
    "    \n",
    "    fig, ax = plt.subplots()\n",
    "    image = ax.imshow(states)\n",
    "    \n",
    "    ax.set_xticks(np.arange(states.shape[1]))\n",
    "    ax.set_yticks(np.arange(states.shape[0]))\n",
    "    ax.set_yticklabels(nodes)\n",
    "    \n",
    "    plt.xlabel('Steps')\n",
    "    \n",
    "    for i in range(states.shape[0]):\n",
    "        for j in range(states.shape[1]):\n",
    "            text = ax.text(j,i,states[i,j],ha=\"center\",va=\"center\",color=\"w\")\n",
    "    plt.show()\n"
   ]
  },
  {
   "cell_type": "code",
   "execution_count": 26,
   "metadata": {},
   "outputs": [
    {
     "data": {
      "text/plain": [
       "dict_values([[1, 0, 1, 1, 0, 1, 1, 0, 1, 1, 0], [1, 0, 0, 1, 0, 0, 1, 0, 0, 1, 0], [1, 1, 0, 1, 1, 0, 1, 1, 0, 1, 1]])"
      ]
     },
     "execution_count": 26,
     "metadata": {},
     "output_type": "execute_result"
    }
   ],
   "source": [
    "results.values()"
   ]
  },
  {
   "cell_type": "code",
   "execution_count": 27,
   "metadata": {},
   "outputs": [
    {
     "data": {
      "text/plain": [
       "dict_keys(['A', 'B', 'C'])"
      ]
     },
     "execution_count": 27,
     "metadata": {},
     "output_type": "execute_result"
    }
   ],
   "source": [
    "results.keys()"
   ]
  },
  {
   "cell_type": "code",
   "execution_count": 28,
   "metadata": {},
   "outputs": [
    {
     "data": {
      "image/png": "[encoded data removed]",
      "text/plain": [
       "<Figure size 432x288 with 1 Axes>"
      ]
     },
     "metadata": {
      "needs_background": "light"
     },
     "output_type": "display_data"
    }
   ],
   "source": [
    "plot_simulation(results)"
   ]
  },
  {
   "cell_type": "code",
   "execution_count": null,
   "metadata": {},
   "outputs": [],
   "source": [
    "#Or just doing a line ploting..."
   ]
  },
  {
   "cell_type": "code",
   "execution_count": 29,
   "metadata": {},
   "outputs": [],
   "source": [
    "import matplotlib.pyplot as plt\n",
    "def plot_simulation(results):\n",
    "    '''Plot the simulation results\n",
    "\n",
    "    Args: \n",
    "        results (int, list of dict): A dictionary of nodes containing their state in each simulation step\n",
    "\n",
    "    '''\n",
    "    for node in results.keys():\n",
    "        plt.plot(results[node],label=node)\n",
    "        \n",
    "    plt.xlabel('Steps')\n",
    "    plt.ylabel('State')\n",
    "    plt.yticks([0,1])\n",
    "    plt.legend()\n",
    "    plt.show()\n"
   ]
  },
  {
   "cell_type": "code",
   "execution_count": 30,
   "metadata": {},
   "outputs": [
    {
     "data": {
      "image/png": "[encoded data removed]",
      "text/plain": [
       "<Figure size 432x288 with 1 Axes>"
      ]
     },
     "metadata": {
      "needs_background": "light"
     },
     "output_type": "display_data"
    }
   ],
   "source": [
    "plot_simulation(results)"
   ]
  },
  {
   "cell_type": "markdown",
   "metadata": {},
   "source": [
    "### Differential Equation Models Simulation\n",
    "\n",
    "Instead of modeling discrete activity states and time steps with boolean system (which could be oversimplified), we could apply differential equations (or more specifically ordinary differential equations in our case) to model the rate of the change of activation in continuous time."
   ]
  },
  {
   "cell_type": "code",
   "execution_count": 33,
   "metadata": {},
   "outputs": [],
   "source": [
    "#You will need these imports\n",
    "import numpy as np\n",
    "from scipy.integrate import odeint\n",
    "import matplotlib.pyplot as plt"
   ]
  },
  {
   "cell_type": "markdown",
   "metadata": {},
   "source": [
    "An example of simulating and ploting an one-ODE model from\n",
    "[Ferrell JE et al., Cell, vol 144, 2011](https://www.sciencedirect.com/science/article/pii/S0092867411002431?via%3Dihub) (Fig. 3) is shown as below:\n",
    "\n",
    "The negative feedback loop of CDK1 regulation is model by the following ODE:\n",
    "\n",
    "<img src=\"figures/One-ODE.png\" width=\"400\">\n",
    "\n",
    "The constant variables were:\n",
    "$\\alpha_{1}=0.1, \\beta_{1}=1, K_{1}=0.5, n_{1}=8$"
   ]
  },
  {
   "cell_type": "code",
   "execution_count": 34,
   "metadata": {},
   "outputs": [],
   "source": [
    "#Define ODE:\n",
    "def eq_ODE1(y, t, alpha, beta, K, n):\n",
    "    \"\"\" Equation for integration of CDK1 ODE\n",
    "    \n",
    "    Args:\n",
    "        y (int): last y-value\n",
    "        t (int): time value\n",
    "        alpha, beta, K, n (args): parameters for the model\n",
    "        \n",
    "    Returns:\n",
    "        y_out (float): result of equation\n",
    "        \n",
    "    Example:\n",
    "    >>> eq_ODE1(0, 0, .1, 1, .5, 8)\n",
    "    0.1\n",
    "    \n",
    "    \"\"\"\n",
    "    \n",
    "    y_out = alpha - beta*y*(y**n)/(K**n + y**n)\n",
    "    return y_out \n",
    "    "
   ]
  },
  {
   "cell_type": "code",
   "execution_count": 35,
   "metadata": {},
   "outputs": [],
   "source": [
    "def integrate_and_plot_ODE(equation, y_init, t_out, alpha, beta, K, n, legend):\n",
    "    \"\"\" This function performs integration of the ODE and plots it\n",
    "    \n",
    "    Note that we use the scipy odeint funtion to perform the integration\n",
    "    \n",
    "    Args:\n",
    "        equation (func): The function name of the equation that we are integrating over\n",
    "                        This is expected to be a list of the equations in the ODE\n",
    "        y_init (list): The initial y values for the model\n",
    "        t_out (np array): array of time points to integrate over\n",
    "        alpha, beta, K, n: model parameters to pass to equation\n",
    "        legend (tuple): Names of items to add to legend\n",
    "    \n",
    "    \"\"\"\n",
    "    y_out = odeint(equation, y_init, t_out, args = (alpha, beta, K, n))\n",
    "\n",
    "    #plotting rules \n",
    "    plt.xlabel(\"Time\")\n",
    "    plt.ylabel(\"Activity\") \n",
    "    plt.plot(t_out, y_out) \n",
    "    plt.legend(legend, loc = \"upper right\") \n",
    "    \n",
    "    return y_out\n",
    "    "
   ]
  },
  {
   "cell_type": "code",
   "execution_count": null,
   "metadata": {},
   "outputs": [],
   "source": []
  },
  {
   "cell_type": "code",
   "execution_count": null,
   "metadata": {},
   "outputs": [],
   "source": []
  },
  {
   "cell_type": "code",
   "execution_count": null,
   "metadata": {},
   "outputs": [],
   "source": []
  },
  {
   "cell_type": "code",
   "execution_count": 36,
   "metadata": {},
   "outputs": [
    {
     "data": {
      "image/png": "[encoded data removed]",
      "text/plain": [
       "<Figure size 432x288 with 1 Axes>"
      ]
     },
     "metadata": {
      "needs_background": "light"
     },
     "output_type": "display_data"
    }
   ],
   "source": [
    "#Define constant variables in ODE:\n",
    "alpha = 0.1\n",
    "beta = 1\n",
    "K = 0.5\n",
    "n = 8\n",
    "\n",
    "#Define initial point and interval for ploting\n",
    "y = [0]\n",
    "t_out = np.linspace(0,20,1000)\n",
    "\n",
    "y_out = integrate_and_plot_ODE(eq_ODE1, y, t_out, alpha, beta, K, n, legend=('CDK1', '...'))"
   ]
  },
  {
   "cell_type": "markdown",
   "metadata": {},
   "source": [
    "Now try simulating and ploting a three-ODE model from [Ferrell JE et al., Cell, vol 144, 2011](https://www.sciencedirect.com/science/article/pii/S0092867411002431?via%3Dihub) (Fig. 5):\n",
    "\n",
    "<img src=\"figures/Three-ODE.png\" width=\"400\">\n"
   ]
  },
  {
   "cell_type": "markdown",
   "metadata": {},
   "source": [
    "The constant variables were $\\alpha_{1}=0.1,\\alpha_{2}=3, \\alpha_{3}=3, \\beta_{1}=3, \\beta_{2}=1, \\beta_{3}=1, K_{1}=0.5, K_{2}=0.5, K_{3}=0.5, n_{1}=8, n_{2}=8, n_{3}=8$"
   ]
  },
  {
   "cell_type": "code",
   "execution_count": 41,
   "metadata": {},
   "outputs": [],
   "source": [
    "#Three-ODE Model\n",
    "def eq_ODE3(y, t, alpha, beta, K, n):\n",
    "    \"\"\" Equation for integration of CDK1, APC, and PLK1 ODE\n",
    "    \n",
    "    Args:\n",
    "        y (int): last y-value\n",
    "        t (int): time value\n",
    "        alpha, beta, K, n (args): parameters for the model\n",
    "        \n",
    "    Returns:\n",
    "        y_out (float): result of equation\n",
    "        \n",
    "    Example:\n",
    "    >>> eq_ODE3([0,0,0], [0,0,0], [0.1,3,3], [3,1,1], [0.5,0.5,0.5], [8,8,8])\n",
    "    [0.1, 0.0, 0.0]\n",
    "    \n",
    "    \"\"\"\n",
    "    \n",
    "    y_out = []  #[CDK1, Plk1, APC]\n",
    "    y_out.append(alpha[0] - beta[0]*y[0]*(y[2]**n[0])/(K[0]**n[0] + y[2]**n[0]))\n",
    "    y_out.append(alpha[1]*(1-y[1])*(y[0]**n[1]/(K[1]**n[1] + y[0]**n[1])) - beta[1]*y[1])\n",
    "    y_out.append(alpha[2]*(1-y[2])*(y[1]**n[2]/(K[2]**n[2] + y[2]**n[2])) - beta[2]*y[2])\n",
    "\n",
    "    return y_out \n"
   ]
  },
  {
   "cell_type": "code",
   "execution_count": 42,
   "metadata": {},
   "outputs": [
    {
     "data": {
      "image/png": "[encoded data removed]",
      "text/plain": [
       "<Figure size 432x288 with 1 Axes>"
      ]
     },
     "metadata": {
      "needs_background": "light"
     },
     "output_type": "display_data"
    }
   ],
   "source": [
    "# Set parameters\n",
    "\n",
    "alpha = [0.1, 3, 3]\n",
    "beta = [3, 1, 1]\n",
    "K = [0.5, 0.5, 0.5]\n",
    "n = [8, 8, 8]\n",
    "\n",
    "y_init = [0,0,0]\n",
    "tout = np.linspace(0,25,10000)\n",
    "\n",
    "y_out = integrate_and_plot_ODE(eq_ODE3, y_init, t_out, alpha, beta, K, n, legend=('CDK1', 'PLK1', 'APC'))"
   ]
  },
  {
   "cell_type": "markdown",
   "metadata": {},
   "source": [
    "Now try simulating and ploting a two-ODE model from [Ferrell JE et al., Cell, vol 144, 2011](https://www.sciencedirect.com/science/article/pii/S0092867411002431?via%3Dihub) (Fig. 4):\n",
    "\n",
    "<img src=\"figures/Two-ODE.png\">\n"
   ]
  },
  {
   "cell_type": "markdown",
   "metadata": {},
   "source": [
    "The constant variables were: $\\alpha_{1}=0.1, \\alpha_{2}=3, \\beta_{1}=3, \\beta_{2}=1, K_{1}=0.5, K_{2}=0.5, n_{1}=8, n_{2}=8$"
   ]
  },
  {
   "cell_type": "code",
   "execution_count": 46,
   "metadata": {},
   "outputs": [],
   "source": [
    "def eq_ODE2(y, t, alpha, beta, K, n):\n",
    "    \"\"\" Equation for integration of CDK1 + APC ODE\n",
    "    \n",
    "    Args:\n",
    "        y (int): last y-value\n",
    "        t (int): time value\n",
    "        alpha, beta, K, n (args): parameters for the model\n",
    "        \n",
    "    Returns:\n",
    "        y_out (float): result of equation\n",
    "        \n",
    "    Example:\n",
    "    >>> eq_ODE2([0,0], [0,0], [0.1,3], [3,1], [0.5,0.5], [8,8])\n",
    "    [0.1, 0.0]\n",
    "    \n",
    "    \"\"\"\n",
    "    y_out = []  #[CDK1, APC]\n",
    "    y_out.append(alpha[0] - beta[0]*y[0]*(y[1]**n[0])/(K[0]**n[0] + y[1]**n[0]))\n",
    "    y_out.append(alpha[1]*(1-y[1])*(y[0]**n[1]/(K[1]**n[1] + y[0]**n[1]))-beta[1]*y[1])\n",
    "    \n",
    "    return y_out \n"
   ]
  },
  {
   "cell_type": "code",
   "execution_count": 47,
   "metadata": {},
   "outputs": [
    {
     "data": {
      "image/png": "[encoded data removed]",
      "text/plain": [
       "<Figure size 432x288 with 1 Axes>"
      ]
     },
     "metadata": {
      "needs_background": "light"
     },
     "output_type": "display_data"
    }
   ],
   "source": [
    "# Set parameters for Two-ODE model\n",
    "alpha = [0.1, 3]\n",
    "beta = [3, 1]\n",
    "K = [0.5, 0.5]\n",
    "n = [8, 8]\n",
    "\n",
    "y_init = [0,0]\n",
    "tout = np.linspace(0,10000)\n",
    "\n",
    "y_out = integrate_and_plot_ODE(eq_ODE2, y_init, t_out, alpha, beta, K, n, legend=('CDK1', 'APC'))"
   ]
  },
  {
   "cell_type": "code",
   "execution_count": 48,
   "metadata": {},
   "outputs": [
    {
     "data": {
      "text/plain": [
       "TestResults(failed=0, attempted=7)"
      ]
     },
     "execution_count": 48,
     "metadata": {},
     "output_type": "execute_result"
    }
   ],
   "source": [
    "import doctest\n",
    "doctest.testmod()"
   ]
  },
  {
   "cell_type": "code",
   "execution_count": null,
   "metadata": {},
   "outputs": [],
   "source": []
  }
 ],
 "metadata": {
  "kernelspec": {
   "display_name": "Python 3 (ipykernel)",
   "language": "python",
   "name": "python3"
  },
  "language_info": {
   "codemirror_mode": {
    "name": "ipython",
    "version": 3
   },
   "file_extension": ".py",
   "mimetype": "text/x-python",
   "name": "python",
   "nbconvert_exporter": "python",
   "pygments_lexer": "ipython3",
   "version": "3.7.8"
  }
 },
 "nbformat": 4,
 "nbformat_minor": 4
}
