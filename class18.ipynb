{
 "cells": [
  {
   "cell_type": "markdown",
   "metadata": {},
   "source": [
    "# Multiple sequence alignment"
   ]
  },
  {
   "cell_type": "markdown",
   "metadata": {},
   "source": [
    "---\n",
    "\n",
    "## Before Class\n",
    "In class today we will be implementing a genearlized version of Smith-Waterman algorithm to identify optimal local alignments of multiple.\n",
    "\n",
    "Prior to class, please do the following:\n",
    "1. Review slides on sequence alignments in detail\n",
    "* Focus on how to conceptually translate the algorithm to code"
   ]
  },
  {
   "cell_type": "markdown",
   "metadata": {},
   "source": [
    "---\n",
    "Today we will be implementing a generalized form of Smith-Waterman from our previous class. This is a dynamic programming algorithm used for multiple local sequence alignments. For today's class, we have provided the basic implementation of the algorithm but have not populated the functions for 1) scoring the alignment in the or for 2) traceback through the matrix. You will implement these portions of the algorithm in class today.\n",
    "\n",
    "As a reminder from the slides, the scoring for Smith-Waterman only uses the scores from the positions above, left, and above-left of the current position in the matrix. The main difference today will be dealing with multiple string and the scoring function for the diagonal matrix which is the average of the possible scores given all sequences.\n",
    "\n",
    "For traceback, you will need to keep track of the direction of the arrows in a matrix and then begin traceback from the maximum value."
   ]
  },
  {
   "cell_type": "markdown",
   "metadata": {},
   "source": [
    "---\n",
    "## Imports"
   ]
  },
  {
   "cell_type": "code",
   "execution_count": 1,
   "metadata": {},
   "outputs": [],
   "source": [
    "import numpy as np\n",
    "from itertools import product #iterate bases in two alignments\n",
    "#this is what you want "
   ]
  },
  {
   "cell_type": "markdown",
   "metadata": {},
   "source": [
    "---\n",
    "## Implement progressive alignment for multiple sequence alignment"
   ]
  },
  {
   "cell_type": "code",
   "execution_count": 1,
   "metadata": {},
   "outputs": [],
   "source": [
    "#Define the calultation of diag (substitution) score for alignment of a pair of alignments\n",
    "def compute_diag_score(aln1_chars, aln2_chars, match, mismatch): #treat mismatch & gap as same\n",
    "    '''\n",
    "    Calculate diag score by averaging over all base combinations in alignment 1 and alignment 2\n",
    "    \n",
    "    Args:\n",
    "        aln1_chars (str): bases in alignment 1\n",
    "        aln2_chars (str): bases in alignment 2\n",
    "    \n",
    "    Returns:\n",
    "        diag_score (float): diag score\n",
    "    '''\n",
    "    diag_score_temp = 0\n",
    "    \n",
    "    #generates all the possible combinations, sets it equal to one variable. \n",
    "    combo_generator = product(aln1_chars, aln2_chars) \n",
    "    \n",
    "    #for loop to check match vs mismatch\n",
    "    for char1, char2 in combo_generator:\n",
    "        if char1 == char2:\n",
    "            #want to continually add to that one variable to finally take the average. \n",
    "            diag_score_temp += match \n",
    "        if char1 != char2:\n",
    "            diag_score_temp += mismatch \n",
    "            \n",
    "    #final diag score calculation \n",
    "    #taking the average here. \n",
    "    #need the total number of chars for each alignment. \n",
    "    diag_score = diag_score_temp / (len(aln1_chars) + len(aln2_chars))\n",
    "    \n",
    "    return diag_score \n",
    "                      "
   ]
  },
  {
   "cell_type": "code",
   "execution_count": 2,
   "metadata": {},
   "outputs": [],
   "source": [
    "test1 = [1,2,3,4,5,6,7,8,9,10]\n",
    "test2 = [11,12,13,14,15,16,17,18,19,20]"
   ]
  },
  {
   "cell_type": "code",
   "execution_count": 80,
   "metadata": {},
   "outputs": [],
   "source": [
    "# final = product(test1, test2)\n",
    "# for test1, test2 in final:\n",
    "#     if test1 == test2:\n",
    "#         print(\"True\")\n",
    "#     if test1 != test2:\n",
    "#         print(\"False\")"
   ]
  },
  {
   "cell_type": "code",
   "execution_count": 81,
   "metadata": {},
   "outputs": [],
   "source": [
    "# final = product(test1, test2)\n",
    "# list(final)"
   ]
  },
  {
   "cell_type": "code",
   "execution_count": 3,
   "metadata": {},
   "outputs": [],
   "source": [
    "#Modify score calculation function from previous class: \n",
    "def cal_score(matrix, aln1, aln2, i, j, match, mismatch, gap):\n",
    "    '''Calculate score for position (i,j) in scoring matrix, also record move to trace back\n",
    "    \n",
    "    Args:\n",
    "        matrix (numpy array): scoring matrix\n",
    "        i (int): row number\n",
    "        j (int): column number\n",
    "        \n",
    "    Returns:\n",
    "        score in position (i,j)    \n",
    "        move to trace back: 0-END, 1-DIAG, 2-UP, 3-LEFT\n",
    "    Pseudocode:\n",
    "        aln1_chars = bases of all seqs in alignment 1 in position (i,j)\n",
    "        aln2_chars = bases of all seqs in alignment 2 in position (i,j)\n",
    "        calculate scores based on upper-left, up, left neighbors:\n",
    "        diag_score = compute_diag_score(aln1_chars,aln2_chars)\n",
    "        up_score = ...\n",
    "        left_score = ...\n",
    "        take the maximum:\n",
    "        score = max(0, diag_score, up_score, left_score)\n",
    "        move = ...\n",
    "        \n",
    "    '''\n",
    "    score = 0\n",
    "    move = 0\n",
    "    \n",
    "    #aln1_chars = bases of all seqs in alignment 1 in position (i,j)\n",
    "    #aln2_chars = bases of all seqs in alignment 2 in position (i,j)\n",
    "    \n",
    "    for seq in aln1:\n",
    "        #put it into a list and then join into a string. \n",
    "        aln1_temp = [seq[i-1]]\n",
    "        aln1_chars = \"\".join(aln1_temp) \n",
    "    \n",
    "    for seq in aln2:\n",
    "        #put this into a list and join into a string. \n",
    "        aln2_temp = [seq[j - 1]]\n",
    "        aln2_chars = \"\".join(aln2_temp)\n",
    "        \n",
    "    #now calculate each respective score \n",
    "    diag_score = matrix[i-1][j-1] + compute_diag_score(aln1_chars, aln2_chars, match, mismatch)\n",
    "    up_score = matrix[i-1][j] + gap \n",
    "    left_score = matrix[i][j-1] + gap \n",
    "    \n",
    "    \n",
    "    #will take the max of all three scores. \n",
    "    score = max(0, diag_score, up_score, left_score) \n",
    "    \n",
    "    #finally do same thing with move. make sure they're the same order and an index will be assigned to each element in the list. \n",
    "    move = np.argmax([0, diag_score, up_score, left_score]) \n",
    "    \n",
    "    return score, move \n",
    "    \n",
    "    "
   ]
  },
  {
   "cell_type": "code",
   "execution_count": 4,
   "metadata": {},
   "outputs": [
    {
     "data": {
      "text/plain": [
       "'abc'"
      ]
     },
     "execution_count": 4,
     "metadata": {},
     "output_type": "execute_result"
    }
   ],
   "source": [
    "test = [\"a\", \"b\", \"c\"]\n",
    "test2 = \"\".join(test)\n",
    "test2"
   ]
  },
  {
   "cell_type": "code",
   "execution_count": null,
   "metadata": {},
   "outputs": [],
   "source": []
  },
  {
   "cell_type": "code",
   "execution_count": 70,
   "metadata": {},
   "outputs": [
    {
     "data": {
      "text/plain": [
       "['a', 'b', 'c']"
      ]
     },
     "execution_count": 70,
     "metadata": {},
     "output_type": "execute_result"
    }
   ],
   "source": [
    "test"
   ]
  },
  {
   "cell_type": "code",
   "execution_count": 71,
   "metadata": {},
   "outputs": [
    {
     "data": {
      "text/plain": [
       "2"
      ]
     },
     "execution_count": 71,
     "metadata": {},
     "output_type": "execute_result"
    }
   ],
   "source": [
    "test3 = np.argmax(test) #assigns an index to each variable and returns the max numerical value. \n",
    "test3"
   ]
  },
  {
   "cell_type": "code",
   "execution_count": 72,
   "metadata": {},
   "outputs": [
    {
     "name": "stdout",
     "output_type": "stream",
     "text": [
      "2\n"
     ]
    }
   ],
   "source": [
    "test22 = np.argmax([0, \"hi\", \"you\", \"me\", \"bye\"])\n",
    "print(test22)"
   ]
  },
  {
   "cell_type": "code",
   "execution_count": 26,
   "metadata": {},
   "outputs": [
    {
     "data": {
      "text/plain": [
       "[(1, 2), (2, 3), (3, 4), (4, 5), (5, 6)]"
      ]
     },
     "execution_count": 26,
     "metadata": {},
     "output_type": "execute_result"
    }
   ],
   "source": [
    "test1 = [1,2,3,4,5]\n",
    "test2 = [2,3,4,5,6]\n",
    "final = zip(test1, test2)\n",
    "list(final)"
   ]
  },
  {
   "cell_type": "code",
   "execution_count": 30,
   "metadata": {},
   "outputs": [
    {
     "data": {
      "text/plain": [
       "[[], [], [], [], []]"
      ]
     },
     "execution_count": 30,
     "metadata": {},
     "output_type": "execute_result"
    }
   ],
   "source": [
    "aligned_test1 = [[] for index in range(len(test1))]\n",
    "aligned_test1"
   ]
  },
  {
   "cell_type": "code",
   "execution_count": 32,
   "metadata": {},
   "outputs": [
    {
     "data": {
      "text/plain": [
       "[[], [], [], [], []]"
      ]
     },
     "execution_count": 32,
     "metadata": {},
     "output_type": "execute_result"
    }
   ],
   "source": [
    "aligned_test2 = [[] for index in range(len(test2))]\n",
    "aligned_test2"
   ]
  },
  {
   "cell_type": "code",
   "execution_count": 33,
   "metadata": {},
   "outputs": [],
   "source": [
    "aln1 = [\"A\", \"T\", \"C\", \"G\", \"R\"]"
   ]
  },
  {
   "cell_type": "code",
   "execution_count": 37,
   "metadata": {},
   "outputs": [
    {
     "data": {
      "text/plain": [
       "[([], 'A'), ([], 'T'), ([], 'C'), ([], 'G'), ([], 'R')]"
      ]
     },
     "execution_count": 37,
     "metadata": {},
     "output_type": "execute_result"
    }
   ],
   "source": [
    "test = zip(aligned_test1, aln1)\n",
    "list(test)"
   ]
  },
  {
   "cell_type": "code",
   "execution_count": 41,
   "metadata": {},
   "outputs": [
    {
     "name": "stdout",
     "output_type": "stream",
     "text": [
      "[[], [], [], [], []]\n"
     ]
    }
   ],
   "source": [
    "for x, j in test:\n",
    "    aligned_test1.append(j)\n",
    "print(aligned_test1)"
   ]
  },
  {
   "cell_type": "code",
   "execution_count": null,
   "metadata": {},
   "outputs": [],
   "source": []
  },
  {
   "cell_type": "code",
   "execution_count": null,
   "metadata": {},
   "outputs": [],
   "source": []
  },
  {
   "cell_type": "code",
   "execution_count": null,
   "metadata": {},
   "outputs": [],
   "source": []
  },
  {
   "cell_type": "code",
   "execution_count": null,
   "metadata": {},
   "outputs": [],
   "source": []
  },
  {
   "cell_type": "code",
   "execution_count": null,
   "metadata": {},
   "outputs": [],
   "source": []
  },
  {
   "cell_type": "code",
   "execution_count": null,
   "metadata": {},
   "outputs": [],
   "source": []
  },
  {
   "cell_type": "code",
   "execution_count": 44,
   "metadata": {},
   "outputs": [],
   "source": [
    "#Hint: use zip()\n",
    "def traceback(aln1, aln2, traceback_matrix, maximum_position):\n",
    "    '''Find the opmital path through scoring matrix\n",
    "        \n",
    "        diagonal: match/mismatch\n",
    "        up: gap in aln1\n",
    "        left: gap in aln2\n",
    "        \n",
    "    Args:\n",
    "        score_matrix (numpy array): scoring matrix\n",
    "        start_row, start_col: starting position (i.e. max_pos) to trace back\n",
    "        \n",
    "    Returns:\n",
    "        aln_final (array of str): results of multiple sequence alignment (e.g. ['GTTGAC','GTT-AC','GTTG-C'])\n",
    "        \n",
    "    Pseudocode:\n",
    "        #Initialize alignment results for aln1 and aln2\n",
    "        aligned_aln1 = [[] for i in range(len(aln1))]\n",
    "        aligned_aln2 = [[] for i in range(len(aln2))]\n",
    "        while current_move != END:\n",
    "            current_move = traceback_matrix[current_row][current_col]\n",
    "            if current_move == DIAG:\n",
    "                for each element \n",
    "                ...\n",
    "            elif current_move == UP:\n",
    "                ...\n",
    "            elif current_move == LEFT:\n",
    "                ...\n",
    "            \n",
    "    '''\n",
    "    \n",
    "    #initialize alignment results for aln1 and aln2\n",
    "    #basically for each index in the range of the length of aln1, place an emtpy list within this one large list. \n",
    "    aligned_aln1 = [[] for index in range(len(aln1))]\n",
    "    aligned_aln2 = [[] for index in range(len(aln2))]\n",
    "    gap = \"-\"\n",
    "    aln_final = []\n",
    "    test = zip(aligned_aln1, aln1)\n",
    "    print(aligned_aln2)\n",
    "    # list(test)\n",
    "    \n",
    "    #need to define current_row and current_col \n",
    "    current_row = maximum_position[0]\n",
    "    current_col = maximum_position[0]\n",
    "    current_move = None #this will keep track of where we're at when we do the if statements\n",
    "    \n",
    "    #map the numbers of the move:\n",
    "    END, DIAG, UP, LEFT = range(4) #0, 1, 2, 3 pretty cool!! \n",
    "    \n",
    "    while current_move != END:\n",
    "        #setting the current_move to equal the (0,0) position in the traceback_matrix \n",
    "        current_move = traceback_matrix[current_row][current_col]\n",
    "        if current_move == DIAG:\n",
    "            for aligned_seq, actual_seq in zip(aligned_aln1, aln1): #putting each alinged seq base next to the empty dictionary. ([], A), ([], C) \n",
    "                aligned_aln1.append(actual_seq[current_row - 1]) #obviously \n",
    "            for alinged_seq, actual_seq in zip(aligned_aln2, aln2):\n",
    "                aligned_aln2.append(actual_seq[current_col - 1]) \n",
    "            \n",
    "            #update the current_moves\n",
    "            current_row = current_row - 1\n",
    "            current_col = current_col - 1\n",
    "            \n",
    "        elif current_move == UP:\n",
    "            for alinged_seq, actual_seq in zip(aligned_aln1, aln1):\n",
    "                aligned_aln1.append(actual_seq[current_row - 1]) \n",
    "            for aligned_seq, actual_seq in zip(aligned_aln2, aln2):\n",
    "                aligned_aln2.append(gap) \n",
    "            \n",
    "            #update the current_moves \n",
    "            current_row = current_row = 1\n",
    "            #current_col does not change so leave it be. \n",
    "            \n",
    "        elif current_move == LEFT:\n",
    "            for aligned_seq, actual_seq in zip(aligned_aln1, aln1):\n",
    "                aligned_aln1.append(gap) \n",
    "            for aligned_seq, actual_seq in zip(aligned_aln2, aln2):\n",
    "                aligned_aln2.append(actual_seq[current_col - 1]) \n",
    "            \n",
    "            #update current moves \n",
    "            current_col = current_col - 1\n",
    "            #leave current_row alone. \n",
    "            \n",
    "        aligned_aln1 = [\"\".join(aligned_seq[::-1]) for aligned_seq in aligned_aln1]\n",
    "        aligned_aln2 = [\"\".join(aligned_seq[::-1]) for aligned_seq in aligned_aln2]\n",
    "        \n",
    "        for char1 in aligned_aln1:\n",
    "            aln_final.append(char1)\n",
    "        for char2 in aligned_aln2:\n",
    "            aln_final.append(char2) \n",
    "            \n",
    "    \n",
    "    return aln_final \n",
    "            "
   ]
  },
  {
   "cell_type": "code",
   "execution_count": 45,
   "metadata": {},
   "outputs": [],
   "source": [
    "#Generalize Smith-Waterman algorithm for a pair of alignments\n",
    "def SmithWaterman_generalized(aln1, aln2, match=3, mismatch=-3, gap=-2):\n",
    "    '''Smith-Waterman algorithm for local alignment, generalized for a pair of alignments\n",
    "    \n",
    "    Args:\n",
    "        seq1 (array of strs): input alingment 1 (e.g. ['GTTGAC','GTT-AC'])\n",
    "        seq2 (array of strs): input alingment 2 (e.g. ['GTTGAC','GTT-AC'])\n",
    "        match: default = 3\n",
    "        mismatch: default = -3\n",
    "        gap: default = -2\n",
    "    \n",
    "    Returns:\n",
    "        results of multiple sequence alignment (array of strs) \n",
    "        score_matrix (numpy array): scoring matrix\n",
    "    '''\n",
    "    \n",
    "    \n",
    "    num_rows = len(aln1[0]) +1\n",
    "    num_cols = len(aln2[0]) +1\n",
    "    score_matrix = np.zeros(shape=(num_rows,num_cols), dtype=float) #diag scores can be float\n",
    "    traceback_matrix = np.zeros(shape=(num_rows,num_cols), dtype=int)\n",
    "    max_score = 0\n",
    "    max_pos = (0,0)\n",
    "\n",
    "    #Create scoring matrix\n",
    "    for i in range(1,num_rows):\n",
    "        for j in range(1,num_cols): #iteration starts from position (1,1)\n",
    "            score_matrix[i][j], traceback_matrix[i][j] = cal_score(score_matrix, aln1, aln2, i, j, match, mismatch, gap)\n",
    "            \n",
    "            # Keep track of maximum position for trackback\n",
    "            if score_matrix[i][j] > max_score:\n",
    "                max_score = score_matrix[i][j]\n",
    "                max_pos = (i,j)\n",
    "    \n",
    "    #Traceback the optimal path through scoring matrix\n",
    "    aln_final = traceback(aln1, aln2, traceback_matrix, max_pos)\n",
    "    \n",
    "    return aln_final, score_matrix"
   ]
  },
  {
   "cell_type": "code",
   "execution_count": 46,
   "metadata": {},
   "outputs": [],
   "source": [
    "aligned_seq1 = 'GTTGAC'\n",
    "aligned_seq2 = 'GTT-AC'\n",
    "aln1 = ['GTTGAC', 'GTT-AC']\n",
    "aln2 = ['AGTTGCG']"
   ]
  },
  {
   "cell_type": "code",
   "execution_count": 47,
   "metadata": {},
   "outputs": [
    {
     "name": "stdout",
     "output_type": "stream",
     "text": [
      "[[]]\n"
     ]
    },
    {
     "data": {
      "text/plain": [
       "(['', '', 'T', 'T', '', 'T', '', '', 'T', 'T', '', 'T'],\n",
       " array([[0. , 0. , 0. , 0. , 0. , 0. , 0. , 0. ],\n",
       "        [0. , 0. , 1.5, 0. , 0. , 1.5, 0. , 1.5],\n",
       "        [0. , 0. , 0. , 3. , 1.5, 0. , 0. , 0. ],\n",
       "        [0. , 0. , 0. , 1.5, 4.5, 2.5, 0.5, 0. ],\n",
       "        [0. , 0. , 0. , 0. , 2.5, 3. , 1. , 0. ],\n",
       "        [0. , 1.5, 0. , 0. , 0.5, 1. , 1.5, 0. ],\n",
       "        [0. , 0. , 0. , 0. , 0. , 0. , 2.5, 0.5]]))"
      ]
     },
     "execution_count": 47,
     "metadata": {},
     "output_type": "execute_result"
    }
   ],
   "source": [
    "SmithWaterman_generalized(aln1, aln2)"
   ]
  },
  {
   "cell_type": "raw",
   "metadata": {},
   "source": [
    "Expected output:\n",
    "(['GTTGAC', 'GTT-AC', 'GTTG-C'],\n",
    " array([[ 0.,  0.,  0.,  0.,  0.,  0.,  0.,  0.],\n",
    "        [ 0.,  0.,  3.,  1.,  0.,  3.,  1.,  3.],\n",
    "        [ 0.,  0.,  1.,  6.,  4.,  2.,  0.,  1.],\n",
    "        [ 0.,  0.,  0.,  4.,  9.,  7.,  5.,  3.],\n",
    "        [ 0.,  0.,  0.,  2.,  7.,  9.,  7.,  5.],\n",
    "        [ 0.,  3.,  1.,  0.,  5.,  7.,  6.,  4.],\n",
    "        [ 0.,  1.,  0.,  0.,  3.,  5., 10.,  8.]]))"
   ]
  }
 ],
 "metadata": {
  "kernelspec": {
   "display_name": "Python 3 (ipykernel)",
   "language": "python",
   "name": "python3"
  },
  "language_info": {
   "codemirror_mode": {
    "name": "ipython",
    "version": 3
   },
   "file_extension": ".py",
   "mimetype": "text/x-python",
   "name": "python",
   "nbconvert_exporter": "python",
   "pygments_lexer": "ipython3",
   "version": "3.7.8"
  }
 },
 "nbformat": 4,
 "nbformat_minor": 4
}
