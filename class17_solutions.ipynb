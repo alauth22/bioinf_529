{
 "cells": [
  {
   "cell_type": "markdown",
   "metadata": {},
   "source": [
    "# Pairwise alignments"
   ]
  },
  {
   "cell_type": "markdown",
   "metadata": {},
   "source": [
    "---\n",
    "\n",
    "## Before Class\n",
    "In class today we will be implementing the Smith-Waterman algorithm to identify optimal local alignments of two sequences.\n",
    "\n",
    "Prior to class, please do the following:\n",
    "1. Review slides on sequence alignments in detail\n",
    "* Focus on how to conceptually translate the algorithm to code\n"
   ]
  },
  {
   "cell_type": "markdown",
   "metadata": {},
   "source": [
    "---\n",
    "## Learning Objectives\n",
    "\n",
    "1. Conceptually undersand dynamic programming and sequence alignment\n",
    "1. Implement Smith-Waterman algorithm for local alignment\n"
   ]
  },
  {
   "cell_type": "markdown",
   "metadata": {},
   "source": [
    "---\n",
    "## Background"
   ]
  },
  {
   "cell_type": "markdown",
   "metadata": {},
   "source": [
    "Today we will be implementing Smith-Waterman. This is a dynamic programming algorithm used for local sequence alignment. For today's class, we have provided the basic implementation of the algorithm but have not populated the functions for 1) scoring the alignment in the or for 2) traceback through the matrix. You will implement these portions of the algorithm in class today.\n",
    "\n",
    "As a reminder from the slides, the scoring for Smith-Waterman only uses the scores from the positions above, left, and above-left of the current position in the matrix as below:\n",
    "\n",
    "<center><img src=\"figures/Smith-Waterman_scoring.png\"></center>\n",
    "\n",
    "For traceback, you will need to keep track of the direction of the arrows in a matrix and then begin traceback from the maximum value."
   ]
  },
  {
   "cell_type": "markdown",
   "metadata": {},
   "source": [
    "---\n",
    "## Imports"
   ]
  },
  {
   "cell_type": "code",
   "execution_count": null,
   "metadata": {},
   "outputs": [],
   "source": [
    "import numpy as np"
   ]
  },
  {
   "cell_type": "markdown",
   "metadata": {},
   "source": [
    "---\n",
    "## Implement Smith-Waterman algorithm\n"
   ]
  },
  {
   "cell_type": "markdown",
   "metadata": {},
   "source": [
    "```\n",
    "SmithWaterman(seq1, seq2, match, mismatch, gap)\n",
    "    Initialize [len(seq1)+1] x [len(seq2)+1] numpy array as scoring matrix with first column and row equal to 0\n",
    "    \n",
    "    Fill scoring matrix (score_matrix) and Traceback matrix, record the position with max score (max_pos):\n",
    "    for i in each row number:\n",
    "        for j in each column number:\n",
    "            S[i][j] = max( S[i-1][j-1] + compute_diag_score, S[i-1][j] + gap_score, H[i][j-1] + gap_score, 0 )\n",
    "            T[i][j] = direction of max( S[i-1][j-1] + compute_diag_score, S[i-1][j] + gap_score, S[i][j-1] + gap_score, 0 )\n",
    "    \n",
    "    Traceback. Find the optimal path through scoring matrix starting at max_pos\n",
    "    \n",
    "```"
   ]
  },
  {
   "cell_type": "code",
   "execution_count": null,
   "metadata": {},
   "outputs": [],
   "source": [
    "def smith_waterman(seq1, seq2, match=1, mismatch=-1, gap=-1):\n",
    "    '''Smith-Waterman algorithm for local alignment\n",
    "    \n",
    "    Args:\n",
    "        seq1 (str): input seq 1\n",
    "        seq2 (str): input seq 2\n",
    "        match: default = +1\n",
    "        mismatch: default = -1\n",
    "        gap: default = -1\n",
    "    \n",
    "    Returns:\n",
    "        aligned_seq1 (str)\n",
    "        aligned_seq2 (str)\n",
    "        score_matrix (numpy array): scoring matrix\n",
    "    '''\n",
    "    \n",
    "    #Initialize Matrix for our future calculations:\n",
    "    num_rows = len(seq1) +1\n",
    "    num_cols = len(seq2) +1\n",
    "    score_matrix = np.zeros(shape=(num_rows,num_cols), dtype=int)\n",
    "    traceback_matrix = np.zeros(shape=(num_rows,num_cols), dtype=int)\n",
    "    max_score = 0\n",
    "    max_pos = (0,0)\n",
    "\n",
    "    #Create scoring matrix\n",
    "    for i in range(1,num_rows):\n",
    "        for j in range(1,num_cols): #iteration starts from position (1,1)\n",
    "            score_matrix[i][j], traceback_matrix[i][j] = cal_score(score_matrix, seq1, seq2, i, j, match, mismatch, gap)\n",
    "            \n",
    "            # Keep track of maximum position for trackback\n",
    "            if score_matrix[i][j] > max_score:\n",
    "                max_score = score_matrix[i][j]\n",
    "                max_pos = (i,j)\n",
    "    \n",
    "    #Traceback the optimal path through scoring matrix\n",
    "    aligned_seq1, aligned_seq2 = traceback(seq1, seq2, traceback_matrix, max_pos)\n",
    "    \n",
    "    return aligned_seq1, aligned_seq2, score_matrix"
   ]
  },
  {
   "cell_type": "code",
   "execution_count": null,
   "metadata": {},
   "outputs": [],
   "source": [
    "def cal_score(matrix, seq1, seq2, i, j, match, mismatch, gap):\n",
    "    '''Calculate score for position (i,j) in scoring matrix, also record move to trace back\n",
    "    \n",
    "    Args:\n",
    "        matrix (numpy array): scoring matrix\n",
    "        i (int): current row number\n",
    "        j (int): current column number\n",
    "        \n",
    "    Returns:\n",
    "        score in position (i,j)    \n",
    "        move to trace back: 0-END, 1-DIAG, 2-UP, 3-LEFT\n",
    "        \n",
    "    Pseudocode:\n",
    "        Calculate scores based on upper-left, up, and left neighbors:\n",
    "            diag_score = upper-left + (match or mismatch)\n",
    "            up_score = up + gap\n",
    "            left_score = left + gap\n",
    "        score = max(0, diag_score, up_score, left_score)\n",
    "        traceback = maximum direction or end\n",
    "        \n",
    "    '''\n",
    "    \n",
    "    #Initialize scores\n",
    "    score = 0\n",
    "    move = 0\n",
    "    \n",
    "    #Calculate diagonal score for match or mismatch\n",
    "    diag_score = matrix[i-1][j-1] + compute_diag_score(seq1[i-1], seq2[j-1], match, mismatch)\n",
    "    \n",
    "    #Calculate from above position\n",
    "    up_score = matrix[i-1][j] + gap\n",
    "    \n",
    "    #Calculate from left position\n",
    "    left_score = matrix[i][j-1] + gap\n",
    "    \n",
    "    #Final score is the max of moves or 0\n",
    "    score = max(0, diag_score, up_score, left_score)\n",
    "    \n",
    "    #move: 0-END, 1-DIAG, 2-UP, 3-LEFT\n",
    "    move = np.argmax([0, diag_score, up_score, left_score])  #tie cases will be ambiguous\n",
    "    \n",
    "    return score, move"
   ]
  },
  {
   "cell_type": "code",
   "execution_count": null,
   "metadata": {},
   "outputs": [],
   "source": [
    "def compute_diag_score(char1, char2, match, mismatch):\n",
    "    '''\n",
    "        Calculate score for a diagonal shift for the matrix:\n",
    "        if the sequences align, return match\n",
    "        otherwise, return mismatch\n",
    "        \n",
    "        Args:\n",
    "            char1 (str): base in alignment 1\n",
    "            char2 (str): base in alignment 2\n",
    "    \n",
    "        Returns:\n",
    "            diag_score (int): diag score\n",
    "    '''\n",
    "    if char1 == char2:\n",
    "        return match\n",
    "    else:\n",
    "        return mismatch"
   ]
  },
  {
   "cell_type": "code",
   "execution_count": 1,
   "metadata": {},
   "outputs": [],
   "source": [
    "def traceback(seq1, seq2, traceback_matrix, maximum_position):\n",
    "    '''Find the opmital path through scoring marix\n",
    "        \n",
    "        diagonal: match/mismatch\n",
    "        up: gap in seq1\n",
    "        left: gap in seq2\n",
    "        \n",
    "    Args:\n",
    "        seq1 (str) : First sequence being aligned\n",
    "        seq2 (str) : Second sequence being aligned\n",
    "        traceback_matrix (numpy array): traceback matrix\n",
    "        maximum_position (tuple): starting position to trace back from\n",
    "        \n",
    "    Returns:\n",
    "        aligned_seq1 (str): e.g. GTTGAC\n",
    "        aligned_seq2 (str): e.g. GTT-AC\n",
    "        \n",
    "    Pseudocode:\n",
    "        while current_move != END:\n",
    "            current_move = traceback_matrix[current_row][current_col]\n",
    "            if current_move == DIAG:\n",
    "                ...\n",
    "            elif current_move == UP:\n",
    "                ...\n",
    "            elif current_move == LEFT:\n",
    "                ...\n",
    "            \n",
    "    '''\n",
    "    #Initialize our parameters\n",
    "    aligned_seq1 = []\n",
    "    aligned_seq2 = []\n",
    "    gap = '-'\n",
    "    current_row = maximum_position[0]\n",
    "    current_col = maximum_position[1]\n",
    "    current_move = None\n",
    "    \n",
    "    # We use this instead of the numbers for directions for readability\n",
    "    END, DIAG, UP, LEFT = range(4)\n",
    "    \n",
    "    while current_move != END:\n",
    "        current_move = traceback_matrix[current_row][current_col]\n",
    "       \n",
    "        if current_move == DIAG:\n",
    "            aligned_seq1.append(seq1[current_row-1])\n",
    "            aligned_seq2.append(seq2[current_col-1])\n",
    "            current_row -= 1\n",
    "            current_col -= 1\n",
    "        elif current_move == UP:\n",
    "            aligned_seq1.append(seq1[current_row-1])\n",
    "            aligned_seq2.append(gap)\n",
    "            current_row -= 1\n",
    "        elif current_move == LEFT:\n",
    "            aligned_seq1.append(gap)\n",
    "            aligned_seq2.append(seq2[current_col-1])\n",
    "            current_col -= 1\n",
    "\n",
    "    #reverse alignment seqs\n",
    "    aligned_seq1 = ''.join(aligned_seq1[::-1])\n",
    "    aligned_seq2 = ''.join(aligned_seq2[::-1])\n",
    "    \n",
    "    return aligned_seq1, aligned_seq2"
   ]
  },
  {
   "cell_type": "code",
   "execution_count": null,
   "metadata": {},
   "outputs": [],
   "source": [
    "# Example from slides\n",
    "seq1 = 'TACTTAG'\n",
    "seq2 = 'CACATTAA'\n",
    "\n",
    "aligned_seq1, aligned_seq2, score_matrix = smith_waterman(seq1,seq2)\n",
    "\n",
    "print (aligned_seq1)\n",
    "print (aligned_seq2)\n",
    "print (score_matrix)\n"
   ]
  },
  {
   "cell_type": "raw",
   "metadata": {},
   "source": [
    "Expected output:\n",
    "\n",
    "AC-TTA\n",
    "ACATTA\n",
    "[[0 0 0 0 0 0 0 0 0]\n",
    " [0 0 0 0 0 1 1 0 0]\n",
    " [0 0 1 0 1 0 0 2 1]\n",
    " [0 1 0 2 1 0 0 1 1]\n",
    " [0 0 0 1 1 2 1 0 0]\n",
    " [0 0 0 0 0 2 3 2 1]\n",
    " [0 0 1 0 1 1 2 4 3]\n",
    " [0 0 0 0 0 0 1 3 3]]"
   ]
  }
 ],
 "metadata": {
  "kernelspec": {
   "display_name": "Python 3 (ipykernel)",
   "language": "python",
   "name": "python3"
  },
  "language_info": {
   "codemirror_mode": {
    "name": "ipython",
    "version": 3
   },
   "file_extension": ".py",
   "mimetype": "text/x-python",
   "name": "python",
   "nbconvert_exporter": "python",
   "pygments_lexer": "ipython3",
   "version": "3.7.8"
  }
 },
 "nbformat": 4,
 "nbformat_minor": 4
}
