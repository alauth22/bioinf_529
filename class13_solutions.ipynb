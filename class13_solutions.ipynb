{
 "cells": [
  {
   "cell_type": "markdown",
   "metadata": {},
   "source": [
    "# Viterbi"
   ]
  },
  {
   "cell_type": "markdown",
   "metadata": {},
   "source": [
    "---\n",
    "\n",
    "## Before Class\n",
    "In class today we will be implementing the Viterbi algorithm to identify the most likely path through states given model parameters.\n",
    "Prior to class, please do the following:\n",
    "1. Review slides on Hidden Markov models in detail\n",
    "* Focus on how to conceptually translate the algorithm to code\n",
    "* Understand what argmax versus max means\n",
    "* How does one implement a max function? argmax?\n",
    "* Take a look at what arithmetic underflow is."
   ]
  },
  {
   "cell_type": "markdown",
   "metadata": {},
   "source": [
    "---\n",
    "## Learning Objectives\n",
    "\n",
    "1. Conceptually understand Hidden Markov Models\n",
    "* Implement a basic HMM\n",
    "* Implement the Viterbi algorithm"
   ]
  },
  {
   "cell_type": "markdown",
   "metadata": {},
   "source": [
    "---\n",
    "## Background"
   ]
  },
  {
   "cell_type": "markdown",
   "metadata": {},
   "source": [
    "In the last class we described Markov chains. Here we expand this idea to the concept of a hidden state variable along with observed emissions from the model. We will be using the example of CpG islands from the lecture slides. I have provided the class structure of a simple HMM below. All parameters to this model must be provided as inputs, so essentially this is a class containing the parameters described below:\n",
    "\n",
    "We define a categorical Hidden Markov Model as $M = (\\Sigma, Q, \\Theta)$ with the following parameters:\n",
    "\n",
    "$\\Sigma$ : Finite alphabet of symbols (eg. A, C, G, T)\n",
    "\n",
    "$Q$ : Finite discrete hidden states\n",
    "\n",
    "$\\Theta$: set of probabilities containing: $A$ as transition probabilites $a_{kl}$ for all $k,l \\in Q$ and $E$ as emission probabilities $e_k(\\sigma)$ for all $k \\in Q$ and $\\sigma \\in \\Sigma$ and $B$ as starting probabilities $b_k$ for all $k \\in Q$.\n",
    "\n",
    "We also define a number of $T$ emissions as $y_t = 1 \\dots T$ that are drawn from $\\Sigma$ and hidden states as $\\pi_t = 1 \\dots T$ that are drawn from $Q$."
   ]
  },
  {
   "cell_type": "markdown",
   "metadata": {},
   "source": [
    "The goal today will be to estimate $\\pi^*$, the most probable path through the hidden states $Q$ when a HMM $M$ is provided.\n",
    "\n",
    "We will be following the definition described in the slides as described below:\n"
   ]
  },
  {
   "cell_type": "markdown",
   "metadata": {},
   "source": [
    "---\n",
    "## Imports"
   ]
  },
  {
   "cell_type": "code",
   "execution_count": 1,
   "metadata": {},
   "outputs": [],
   "source": [
    "import numpy as np"
   ]
  },
  {
   "cell_type": "markdown",
   "metadata": {},
   "source": [
    "---\n",
    "## Viterbi algorithm\n",
    "\n",
    "To estimate $\\pi^*$, the most probable path through the hidden states, we will use the Viterbi algorithm, which is a dynamic programming exercise. Calculate viterbi algorithm $v()$ as:\n",
    "\n",
    "Initialization ($i = 0$): $v_{k}(i) = e_{k}(\\sigma)b_{k}$.\n",
    "\n",
    "Recursion ($i = 1 \\dots T$): \n",
    "$v_{l}(i) = e_{l}(x_{i})$ max$_{k}(v_{k}(i-1)a_{kl})$;  ptr$_{i}(l) = $ argmax$_{k}(v_{k}(i-1)a_{kl})$.\n",
    "\n",
    "Termination: $P(x, \\pi^{*}) =$ max$_{k}(v_{k}(l)a_{k0})$; $\\pi^{*}_{l} = $ argmax$_{k}(v_{k}(l)a_{k0})$.\n",
    "\n",
    "Traceback: ($i = T\\dots1$): $\\pi^{*}_{i-1} = $ ptr$_{i}(\\pi^{*}_{i})$.\n",
    "\n",
    "A few implementation notes:\n",
    "1. Break the code up into each of the above phases of the algorithm!\n",
    "2. You will probably want to move all of your probabilities into log space so that you don't get underflow errors!"
   ]
  },
  {
   "cell_type": "code",
   "execution_count": 2,
   "metadata": {},
   "outputs": [],
   "source": [
    "class HMM(object):\n",
    "    \"\"\"Main class for HMM objects\n",
    "    \n",
    "    Class for holding HMM parameters and to allow for implementation of\n",
    "    functions associated with HMMs\n",
    "    \n",
    "    Private Attributes:\n",
    "        _alphabet (set): The alphabet of emissions\n",
    "        _hidden_states (set): Hidden states in the model\n",
    "        _transitions (dict(dict)): A dictionary of transition probabilities\n",
    "        _emissions (dict(dict)): A dictionary of emission probabilities\n",
    "        _initial (dict): A dictionary of initial state probabilities\n",
    "\n",
    "    \"\"\"\n",
    "\n",
    "    def __init__(self, alphabet, hidden_states, A=None, E=None, B=None):\n",
    "        self._alphabet = set(alphabet)\n",
    "        self._hidden_states = set(hidden_states)\n",
    "        self._transitions = A\n",
    "        self._emissions = E\n",
    "        self._initial = B\n",
    "        \n",
    "    def _emit(self, cur_state, symbol):\n",
    "        return self._emissions[cur_state][symbol]\n",
    "    \n",
    "    def _transition(self, cur_state, next_state):\n",
    "        return self._transitions[cur_state][next_state]\n",
    "    \n",
    "    def _init(self, cur_state):\n",
    "        return self._initial[cur_state]\n",
    "\n",
    "    def _states(self):\n",
    "        for k in self._hidden_states:\n",
    "            yield k\n",
    "        \n",
    "    def viterbi(self, sequence):\n",
    "        \"\"\" The viterbi algorithm for decoding a string using a HMM\n",
    "\n",
    "        Args:\n",
    "            sequence (list): a list of valid emissions from the HMM\n",
    "\n",
    "        Returns:\n",
    "            result (list): optimal path through HMM given the model parameters\n",
    "                           using the Viterbi algorithm\n",
    "        \n",
    "        Pseudocode for Viterbi:\n",
    "            Initialization (𝑖=0): 𝑣𝑘(𝑖)=𝑒𝑘(𝜎)𝑏𝑘.\n",
    "            Recursion (𝑖=1…𝑇): 𝑣𝑙(𝑖)=𝑒𝑙(𝑥𝑖) max𝑘(𝑣𝑘(𝑖−1)𝑎𝑘𝑙); \n",
    "                                ptr𝑖(𝑙)= argmax𝑘(𝑣𝑘(𝑖−1)𝑎𝑘𝑙).\n",
    "            Termination: 𝑃(𝑥,𝜋∗)= max𝑘(𝑣𝑘(𝑙)𝑎𝑘0); \n",
    "                             𝜋∗𝑙= argmax𝑘(𝑣𝑘(𝑙)𝑎𝑘0).\n",
    "            Traceback: (𝑖=𝑇…1): 𝜋∗𝑖−1= ptr𝑖(𝜋∗𝑖).\n",
    "        \"\"\"\n",
    "\n",
    "        # Initialization (𝑖=0): 𝑣𝑘(𝑖)=𝑒𝑘(𝜎)𝑏𝑘.\n",
    "        # Initialize trellis and traceback matrices\n",
    "        # trellis will hold the vi data as defined by Durbin et al.\n",
    "        # and trackback will hold back pointers\n",
    "        trellis = {} # This only needs to keep the previous column probabilities\n",
    "        traceback = [] # This will need to hold all of the traceback data so will be a list of dicts()\n",
    "        for state in self._states():\n",
    "            trellis[state] = np.log10(self._init(state)) + np.log10(self._emit(state, sequence[0])) # b * e(0) for all k\n",
    "            \n",
    "        # Next we do the recursion step:\n",
    "        # Recursion (𝑖=1…𝑇): 𝑣𝑙(𝑖)=𝑒𝑙(𝑥𝑖) max𝑘(𝑣𝑘(𝑖−1)𝑎𝑘𝑙); \n",
    "        #                 ptr𝑖(𝑙)= argmax𝑘(𝑣𝑘(𝑖−1)𝑎𝑘𝑙).\n",
    "        for t in range(1, len(sequence)):  # For each position in the sequence\n",
    "            trellis_next = {}\n",
    "            traceback_next = {}\n",
    "\n",
    "            for next_state in self._states():    # Calculate maxk and argmaxk\n",
    "                k={}\n",
    "                for cur_state in self._states():\n",
    "                    k[cur_state] = trellis[cur_state] + np.log10(self._transition(cur_state, next_state)) # k(t-1) * a\n",
    "                argmaxk = max(k, key=k.get) #get all the keys from the dictionary. I get all the keys and among the keys I want the max. \n",
    "                trellis_next[next_state] =  np.log10(self._emit(next_state, sequence[t])) + k[argmaxk] # k * e(t)\n",
    "                traceback_next[next_state] = argmaxk\n",
    "                \n",
    "            #Overwrite trellis \n",
    "            trellis = trellis_next\n",
    "            #Keep trackback pointer matrix\n",
    "            traceback.append(traceback_next)\n",
    "            \n",
    "        # Termination: 𝑃(𝑥,𝜋∗)= max𝑘(𝑣𝑘(𝑙)𝑎𝑘0); \n",
    "        #                  𝜋∗𝑙= argmax𝑘(𝑣𝑘(𝑙)𝑎𝑘0).\n",
    "        max_final_state = max(trellis, key=trellis.get)\n",
    "        max_final_prob = trellis[max_final_state]\n",
    "        print(max_final_state)\n",
    "                \n",
    "        # Traceback: (𝑖=𝑇…1): 𝜋∗𝑖−1= ptr𝑖(𝜋∗𝑖).\n",
    "        result = [max_final_state]\n",
    "        for t in reversed(range(len(sequence)-1)):\n",
    "            result.append(traceback[t][max_final_state])\n",
    "            max_final_state = traceback[t][max_final_state]\n",
    "            \n",
    "        return result[::-1]\n",
    "        "
   ]
  },
  {
   "cell_type": "code",
   "execution_count": 3,
   "metadata": {},
   "outputs": [],
   "source": [
    "# This section of code will initialize your HMM with parameters as defined in the lecture slides\n",
    "# for the identification of CpG Islands.\n",
    "# All of this should be able to run whether or not you implement the Viterbi function!\n",
    "\n",
    "hidden_states = ('I', 'G') # CpG Island or Genome\n",
    "alphabet = ('A', 'C', 'G', 'T') # DNA Alphabet\n",
    "\n",
    "# These are the initial probabilities as defined in the lecture slides\n",
    "initial_probabilities = {\n",
    "    'I' : 0.1,\n",
    "    'G' : 0.9\n",
    "}\n",
    "\n",
    "# These are the probabilities of transitioning from outer state to inner state\n",
    "#  as defined in the lecture slides\n",
    "transition_probabilities = {\n",
    "    'I': { 'I' : 0.6, 'G' : 0.4 },\n",
    "    'G': { 'I' : 0.1, 'G' : 0.9 }\n",
    "}\n",
    "\n",
    "# These are the probabilites of each state emmitting each alphabet character\n",
    "emission_probabilities = {\n",
    "    'I': { 'A' : 0.1, 'C' : 0.4, 'G' : 0.4, 'T' : 0.1 },\n",
    "    'G': { 'A' : 0.4, 'C' : 0.1, 'G' : 0.1, 'T' : 0.4 }\n",
    "}\n",
    "\n",
    "# Build the model\n",
    "model = HMM(alphabet, hidden_states, transition_probabilities, emission_probabilities, initial_probabilities)"
   ]
  },
  {
   "cell_type": "code",
   "execution_count": 4,
   "metadata": {},
   "outputs": [
    {
     "name": "stdout",
     "output_type": "stream",
     "text": [
      "ACGCGATC\n",
      "G\n",
      "GIIIIGGG\n",
      "ACGCGATCATACTATATTAGCTAAATAGATACGCGCGCGCGCGCGATATATATATATAGCTAATGATCGATTACCCCCCCCCCCAATTA\n",
      "G\n",
      "GIIIIGGGGGGGGGGGGGGGGGGGGGGGGGGIIIIIIIIIIIIIIGGGGGGGGGGGGGGGGGGGGGGGGGGGGIIIIIIIIIIIGGGGG\n"
     ]
    }
   ],
   "source": [
    "# Exact example from slides\n",
    "sequence = \"ACGCGATC\"\n",
    "print(sequence)\n",
    "print (''.join(model.viterbi(list(sequence))))\n",
    "\n",
    "# A slightly more complex example\n",
    "sequence = \"ACGCGATCATACTATATTAGCTAAATAGATACGCGCGCGCGCGCGATATATATATATAGCTAATGATCGATTACCCCCCCCCCCAATTA\"\n",
    "print(sequence)\n",
    "print (''.join(model.viterbi(list(sequence))))"
   ]
  },
  {
   "cell_type": "raw",
   "metadata": {},
   "source": [
    "Expected output:\n",
    "ACGCGATC\n",
    "GIIIIGGG\n",
    "ACGCGATCATACTATATTAGCTAAATAGATACGCGCGCGCGCGCGATATATATATATAGCTAATGATCGATTACCCCCCCCCCCAATTA\n",
    "GIIIIGGGGGGGGGGGGGGGGGGGGGGGGGGIIIIIIIIIIIIIIGGGGGGGGGGGGGGGGGGGGGGGGGGGGIIIIIIIIIIIGGGGG"
   ]
  },
  {
   "cell_type": "code",
   "execution_count": 9,
   "metadata": {},
   "outputs": [],
   "source": [
    "hidden_states = ('Ai', 'Ci', 'Gi', 'Ti', 'Ag', 'Cg', 'Gg', 'Tg')\n",
    "alphabet = ('A', 'C', 'G', 'T')\n",
    "\n",
    "initial_probabilities = {\n",
    "    'Ai' : 0.125,\n",
    "    'Ci' : 0.125,\n",
    "    'Gi' : 0.125,\n",
    "    'Ti' : 0.125,\n",
    "    'Ag' : 0.125,\n",
    "    'Cg' : 0.125,\n",
    "    'Gg' : 0.125,\n",
    "    'Tg' : 0.125\n",
    "}\n",
    "\n",
    "transition_probabilities = {\n",
    "    'Ai': { 'Ai' : 0.2, 'Ci' : 0.36, 'Gi' : 0.2, 'Ti' : 0.2, 'Ag' : 0.01, 'Cg' : 0.01, 'Gg' : 0.01, 'Tg' : 0.01 },\n",
    "    'Ci': { 'Ai' : 0.1, 'Ci' : 0.1, 'Gi' : 0.66, 'Ti' : 0.1, 'Ag' : 0.01, 'Cg' : 0.01, 'Gg' : 0.01, 'Tg' : 0.01 },\n",
    "    'Gi': { 'Ai' : 0.1, 'Ci' : 0.39, 'Gi' : 0.1, 'Ti' : 0.1, 'Ag' : 0.1, 'Cg' : 0.01, 'Gg' : 0.1, 'Tg' : 0.1 },\n",
    "    'Ti': { 'Ai' : 0.2, 'Ci' : 0.36, 'Gi' : 0.2, 'Ti' : 0.2, 'Ag' : 0.01, 'Cg' : 0.01, 'Gg' : 0.01, 'Tg' : 0.01 },\n",
    "    'Ag': { 'Ai' : 0.01, 'Ci' : 0.1, 'Gi' : 0.01, 'Ti' : 0.01, 'Ag' : 0.2175, 'Cg' : 0.2175, 'Gg' : 0.2175, 'Tg' : 0.2175 },\n",
    "    'Cg': { 'Ai' : 0.01, 'Ci' : 0.1, 'Gi' : 0.01, 'Ti' : 0.01, 'Ag' : 0.2175, 'Cg' : 0.2175, 'Gg' : 0.2175, 'Tg' : 0.2175 },\n",
    "    'Gg': { 'Ai' : 0.01, 'Ci' : 0.1, 'Gi' : 0.01, 'Ti' : 0.01, 'Ag' : 0.2175, 'Cg' : 0.2175, 'Gg' : 0.2175, 'Tg' : 0.2175 },\n",
    "    'Tg': { 'Ai' : 0.01, 'Ci' : 0.1, 'Gi' : 0.01, 'Ti' : 0.01, 'Ag' : 0.2175, 'Cg' : 0.2175, 'Gg' : 0.2175, 'Tg' : 0.2175 }\n",
    "}\n",
    "\n",
    "emission_probabilities = {\n",
    "    'Ai': { 'A' : 1, 'C' : 0.001, 'G' : 0.001, 'T' : 0.001 },\n",
    "    'Ci': { 'A' : 0.001, 'C' : 1, 'G' : 0.001, 'T' : 0.001 },\n",
    "    'Gi': { 'A' : 0.001, 'C' : 0.001, 'G' : 1, 'T' : 0.001 },\n",
    "    'Ti': { 'A' : 0.001, 'C' : 0.001, 'G' : 0.001, 'T' : 1 },\n",
    "    'Ag': { 'A' : 1, 'C' : 0.001, 'G' : 0.001, 'T' : 0.001 },\n",
    "    'Cg': { 'A' : 0.001, 'C' : 1, 'G' : 0.001, 'T' : 0.001 },\n",
    "    'Gg': { 'A' : 0.001, 'C' : 0.001, 'G' : 1, 'T' : 0.001 },\n",
    "    'Tg': { 'A' : 0.001, 'C' :0.0010, 'G' : 0.001, 'T' : 1 }\n",
    "}\n",
    "\n",
    "model = HMM(alphabet, hidden_states, transition_probabilities, emission_probabilities, initial_probabilities)"
   ]
  },
  {
   "cell_type": "code",
   "execution_count": 10,
   "metadata": {},
   "outputs": [
    {
     "name": "stdout",
     "output_type": "stream",
     "text": [
      "ACGCGATCATACTATATTAGCTAAATAGATACGCGCGCGCGCGCGATATATATATATAGCTAATGATCGATTACCCCCCCCCCCAATTA\n",
      "IIIIIggggggggggggggggggggggggggIIIIIIIIIIIIIIgggggggggggggggggggggggggggggggggggggggggggg\n"
     ]
    }
   ],
   "source": [
    "sequence = \"ACGCGATCATACTATATTAGCTAAATAGATACGCGCGCGCGCGCGATATATATATATAGCTAATGATCGATTACCCCCCCCCCCAATTA\"\n",
    "\n",
    "print(sequence)\n",
    "\n",
    "result = ''.join(model.viterbi(sequence))\n",
    "result = result.replace(\"A\", \"\")\n",
    "result = result.replace(\"C\", \"\")\n",
    "result = result.replace(\"G\", \"\")\n",
    "result = result.replace(\"T\", \"\")\n",
    "result = result.replace(\"i\", \"I\")\n",
    "\n",
    "print(result)"
   ]
  },
  {
   "cell_type": "raw",
   "metadata": {},
   "source": [
    "Expected output:\n",
    "ACGCGATCATACTATATTAGCTAAATAGATACGCGCGCGCGCGCGATATATATATATAGCTAATGATCGATTACCCCCCCCCCCAATTA\n",
    "IIIIIggggggggggggggggggggggggggIIIIIIIIIIIIIIgggggggggggggggggggggggggggggggggggggggggggg"
   ]
  },
  {
   "cell_type": "code",
   "execution_count": null,
   "metadata": {},
   "outputs": [],
   "source": []
  }
 ],
 "metadata": {
  "kernelspec": {
   "display_name": "Python 3 (ipykernel)",
   "language": "python",
   "name": "python3"
  },
  "language_info": {
   "codemirror_mode": {
    "name": "ipython",
    "version": 3
   },
   "file_extension": ".py",
   "mimetype": "text/x-python",
   "name": "python",
   "nbconvert_exporter": "python",
   "pygments_lexer": "ipython3",
   "version": "3.7.8"
  }
 },
 "nbformat": 4,
 "nbformat_minor": 4
}
