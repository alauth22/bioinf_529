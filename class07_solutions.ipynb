{
 "cells": [
  {
   "cell_type": "markdown",
   "metadata": {},
   "source": [
    "# Burrows-Wheeler Transform"
   ]
  },
  {
   "cell_type": "markdown",
   "metadata": {},
   "source": [
    "---\n",
    "\n",
    "## Before Class\n",
    "\n",
    "Prior to class, please do the following:\n",
    "\n",
    "1. Review Burrows-Wheeler Transform\n",
    "2. Familiarize yourself with sort operator"
   ]
  },
  {
   "cell_type": "markdown",
   "metadata": {},
   "source": [
    "---\n",
    "## Learning Objectives\n",
    "\n",
    "1. Implement Burrows-Wheeler Transform to calculate BWT string and suffix array.\n"
   ]
  },
  {
   "cell_type": "markdown",
   "metadata": {},
   "source": [
    "---\n",
    "## Background\n",
    "\n",
    "Today we will be building a Burrows-Wheeler transfor and a suffix array for a string as described in the lecture notes.\n",
    "\n",
    "To generate a BWT matrix, we append \\$ to a string, perform all rotations to build a matrix, sort lexographically, and return the last column:\n",
    "\n",
    "```\n",
    "BWT(T):\n",
    "    Append $ to T\n",
    "    Build matrix of all rotations of T\n",
    "    sort matrix\n",
    "    return last column of matrix\n",
    "```\n",
    "    \n",
    "We also need to calculate the suffix array for the string. This will be required for when we use BWT for string matching in the next class. To generate a suffix array for a string:\n",
    "```\n",
    "suffix_array(T):\n",
    "    Append $ to T\n",
    "    build matrix of all rotations of T with row index i\n",
    "    sort i by lexographic sorting of rotation matrix\n",
    "    return i\n",
    "```\n",
    "\n"
   ]
  },
  {
   "cell_type": "markdown",
   "metadata": {},
   "source": [
    "---\n",
    "## Burrows-Wheeler Transform\n",
    "\n"
   ]
  },
  {
   "cell_type": "code",
   "execution_count": 7,
   "metadata": {},
   "outputs": [],
   "source": [
    "#function to caculate BWT string from last class\n",
    "def BWT(string):\n",
    "    ''' Function to calculate Burrows-Wheeler Transform for a given string.\n",
    "    \n",
    "    Args:\n",
    "        string (str): Input string\n",
    "    \n",
    "    Returns:\n",
    "        bwt_string (str): BWT string        \n",
    "        \n",
    "    Example:\n",
    "        >>> BWT('googol')\n",
    "        'lo$oogg'\n",
    "        \n",
    "    '''\n",
    "    #Append '$' to the end of string\n",
    "    string += '$'\n",
    "    \n",
    "    #generate table of circulated strings\n",
    "    table = sorted(string[i:] + string[:i] for i in range(len(string)))\n",
    "    \n",
    "    #concatenate last symbols of circulated strings to generate BWT string\n",
    "    bwt_string = ''.join([rotated_string[-1] for rotated_string in table])\n",
    "\n",
    "    return bwt_string"
   ]
  },
  {
   "cell_type": "code",
   "execution_count": null,
   "metadata": {},
   "outputs": [],
   "source": [
    "# Alternative implementation\n",
    "def BWT2(string):\n",
    "    ''' Function to calculate Burrows-Wheeler Transform for a given string.\n",
    "    \n",
    "    Args:\n",
    "        string (str): Input string\n",
    "    \n",
    "    Returns:\n",
    "        bwt_string (str): BWT string        \n",
    "        \n",
    "    Example:\n",
    "        >>> BWT2('googol')\n",
    "        'lo$oogg'\n",
    "        \n",
    "    '''\n",
    "    #Append '$' to the end of string\n",
    "    string += '$'\n",
    "    \n",
    "    #generate table of circulated strings\n",
    "    table = []\n",
    "    for i in range(len(string)):\n",
    "        rotated_string = string[i:] + string[:i]\n",
    "        table.append(rotated_string)\n",
    "    \n",
    "    table = sorted(table)\n",
    "    \n",
    "    #concatenate last symbols of circulated strings to generate BWT string\n",
    "    bwt_string = ''\n",
    "    for i in range(len(table)):\n",
    "        bwt_string = bwt_string + table[i][-1]\n",
    "\n",
    "    return bwt_string"
   ]
  },
  {
   "cell_type": "code",
   "execution_count": 2,
   "metadata": {},
   "outputs": [],
   "source": [
    "#function to caculate suffix array from last class\n",
    "def suffix_array(string):\n",
    "    ''' Function to calculate suffix-array for a given string.\n",
    "    \n",
    "    Args:\n",
    "        string (str): Input string\n",
    "    \n",
    "    Returns:\n",
    "        sa (array of integers): suffix array\n",
    "        \n",
    "    Example:\n",
    "    >>> suffix_array('googol')\n",
    "    [6, 3, 0, 5, 2, 4, 1]\n",
    "        \n",
    "    '''\n",
    "    #Append '$' to the end of string\n",
    "    string += '$'\n",
    "\n",
    "    #generate suffix array\n",
    "    sa = [index for suffix, index in sorted((string[i:], i) for i in range(len(string)))]\n",
    "    \n",
    "    return sa"
   ]
  },
  {
   "cell_type": "code",
   "execution_count": 5,
   "metadata": {},
   "outputs": [],
   "source": [
    "#function to caculate suffix array from last class\n",
    "def suffix_array2(string):\n",
    "    ''' Function to calculate suffix-array for a given string.\n",
    "    \n",
    "    Args:\n",
    "        string (str): Input string\n",
    "    \n",
    "    Returns:\n",
    "        sa (array of integers): suffix array\n",
    "        \n",
    "    Example:\n",
    "    >>> suffix_array2('googol')\n",
    "    [6, 3, 0, 5, 2, 4, 1]\n",
    "        \n",
    "    '''\n",
    "    #Append '$' to the end of string\n",
    "    string += '$'\n",
    "\n",
    "    #generate table of circulated strings\n",
    "    table = []\n",
    "    for i in range(len(string)):\n",
    "        rotated_string = string[i:] + string[:i]\n",
    "        table.append(rotated_string)\n",
    "    \n",
    "    #sort this list as a tuple with the indexes\n",
    "    table_index = sorted(zip(table, range(len(string))))\n",
    "    \n",
    "    #Use the now sorted index values for our final output\n",
    "    sa = []\n",
    "    for item, index in table_index:\n",
    "        sa.append(index)\n",
    "        \n",
    "    return type(sa)"
   ]
  },
  {
   "cell_type": "code",
   "execution_count": null,
   "metadata": {},
   "outputs": [],
   "source": [
    "import doctest\n",
    "doctest.testmod()"
   ]
  },
  {
   "cell_type": "code",
   "execution_count": 8,
   "metadata": {},
   "outputs": [
    {
     "data": {
      "text/plain": [
       "'lo$oogg'"
      ]
     },
     "execution_count": 8,
     "metadata": {},
     "output_type": "execute_result"
    }
   ],
   "source": [
    "BWT('googol')"
   ]
  },
  {
   "cell_type": "code",
   "execution_count": 9,
   "metadata": {},
   "outputs": [
    {
     "data": {
      "text/plain": [
       "list"
      ]
     },
     "execution_count": 9,
     "metadata": {},
     "output_type": "execute_result"
    }
   ],
   "source": [
    "suffix_array2('googol')"
   ]
  },
  {
   "cell_type": "markdown",
   "metadata": {},
   "source": [
    "---\n",
    "If you finish the two functions above, you can start working on another two functions we will use in the next class for string matching.\n",
    "\n",
    "## Background\n",
    "One of the key parts for string matching is to do Last-to-First column mapping (LF mapping) within the BWT matrix. With the LF property, we  need to build two dictionaries for our reference string beforehand:\n",
    "1. count: e.g.  `{'A': 0, 'C': 2, 'G': 3, 'T': 5}`\n",
    "\n",
    "Where for each character `a` in a string, `count[a]` contains the number of characters in string that are lexicographically smaller than `a`.\n",
    "\n",
    "\n",
    "2. occur: e.g. `{'$': [0, 0, 1, 1, 1], 'A': [1, 1, 1, 1, 1], 'C': [0, 0, 0, 1, 1], 'G': [0, 1, 1, 1, 2]}`\n",
    "\n",
    "For each character `a` in a bwt string, `occur[a][i]` contains the number of occurences of `a` in `bwt_string[0,i], i=1,...,len(bwt_string)` (i.e. the first i characters in bwt string)."
   ]
  },
  {
   "cell_type": "markdown",
   "metadata": {},
   "source": [
    "---\n",
    "## Imports"
   ]
  },
  {
   "cell_type": "code",
   "execution_count": null,
   "metadata": {},
   "outputs": [],
   "source": [
    "from collections import Counter"
   ]
  },
  {
   "cell_type": "code",
   "execution_count": null,
   "metadata": {},
   "outputs": [],
   "source": [
    "#function to build count dictionary\n",
    "def cal_count(string):\n",
    "    '''Function to count the number of characters in string that \n",
    "        are lexicographically smaller than a given character\n",
    "    \n",
    "    Args:\n",
    "        string (str): Input string\n",
    "    \n",
    "    Returns:\n",
    "        count (dict)\n",
    "    \n",
    "    Example:\n",
    "        >>> cal_count('ATGACG')\n",
    "        {'A': 0, 'C': 2, 'G': 3, 'T': 5}\n",
    "    '''\n",
    "    pass"
   ]
  },
  {
   "cell_type": "code",
   "execution_count": null,
   "metadata": {},
   "outputs": [],
   "source": [
    "#function to build occur dictionary\n",
    "def cal_occur(bwt_string):\n",
    "    '''Function to calculate number of occurrences of each character \n",
    "        in bwt [0,i], i=1,...,len(bwt_string)\n",
    "    \n",
    "    Args:\n",
    "        b (str): BWT string\n",
    "    \n",
    "    Returns:\n",
    "        occur (dict of arrays)\n",
    "    \n",
    "    Example:\n",
    "        >>> cal_occur('AG$CG')\n",
    "        {'$': [0, 0, 1, 1, 1], 'A': [1, 1, 1, 1, 1], 'C': [0, 0, 0, 1, 1], 'G': [0, 1, 1, 1, 2]}\n",
    "    '''\n",
    "    pass"
   ]
  },
  {
   "cell_type": "code",
   "execution_count": null,
   "metadata": {},
   "outputs": [],
   "source": [
    "import doctest\n",
    "doctest.testmod()"
   ]
  },
  {
   "cell_type": "code",
   "execution_count": null,
   "metadata": {},
   "outputs": [],
   "source": []
  }
 ],
 "metadata": {
  "kernelspec": {
   "display_name": "Python 3 (ipykernel)",
   "language": "python",
   "name": "python3"
  },
  "language_info": {
   "codemirror_mode": {
    "name": "ipython",
    "version": 3
   },
   "file_extension": ".py",
   "mimetype": "text/x-python",
   "name": "python",
   "nbconvert_exporter": "python",
   "pygments_lexer": "ipython3",
   "version": "3.7.8"
  }
 },
 "nbformat": 4,
 "nbformat_minor": 4
}
