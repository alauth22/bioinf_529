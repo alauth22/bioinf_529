{
 "cells": [
  {
   "cell_type": "markdown",
   "metadata": {},
   "source": [
    "# Hierarchical Clustering - UPGMA"
   ]
  },
  {
   "cell_type": "markdown",
   "metadata": {},
   "source": [
    "---\n",
    "\n",
    "## Before Class\n",
    "This weeks class we will be implementing UPGMA for hierarchical clustering. We will start with the implementation of a distance matrix today.\n",
    "\n",
    "Prior to class, please do the following:\n",
    "1. Review the structure of a distance matrix\n",
    "2. Compare Hamming and Levenshtein distances\n",
    "3. Re-familiarize yourself with numpy arrays"
   ]
  },
  {
   "cell_type": "markdown",
   "metadata": {},
   "source": [
    "---\n",
    "## Learning Objectives\n",
    "\n",
    "1. Implement a simple distance metric\n",
    "* Build a distance matrix using the metric and a set of alignments"
   ]
  },
  {
   "cell_type": "markdown",
   "metadata": {},
   "source": [
    "---\n",
    "## Background\n",
    "Today we will start implementing a frequently used hierarchical clustering algorithm from Sokal and Michener (1958) called UPGMA - unweighted pair group method using arithmetic averages. The first step of this algorithm requires that we build a distance matrix for all of the alignments that we will be clustering. To accomplish this today, we will be using the Hamming distance of the sequences. The Hamming distance is total edit distance between two strings (the total number of changes required to make two strings exactly match). This metric requires that the strings are the same length. Luckily, our previous work on alignments results in strings that are all the same length and optimally aligned! We will be using those strings as input.\n"
   ]
  },
  {
   "cell_type": "markdown",
   "metadata": {},
   "source": [
    "---\n",
    "## Imports"
   ]
  },
  {
   "cell_type": "code",
   "execution_count": 1,
   "metadata": {},
   "outputs": [],
   "source": [
    "import numpy as np"
   ]
  },
  {
   "cell_type": "markdown",
   "metadata": {},
   "source": [
    "---\n",
    "## Distance metrics for comparing sequences\n",
    "\n",
    "### Hamming Distance\n",
    "\n"
   ]
  },
  {
   "cell_type": "code",
   "execution_count": 2,
   "metadata": {},
   "outputs": [],
   "source": [
    "def hamming_distance(alignment1, alignment2): \n",
    "    ''' Function to calculate Hamming distance between two alignments\n",
    "    \n",
    "    Args: \n",
    "        alignment1 (str): first sequence that has already been aligned\n",
    "        alignment2 (str): second sequence that has already been aligned\n",
    "\n",
    "    Returns:\n",
    "        distance (int): hamming distance between the two alignment\n",
    "    \n",
    "    '''\n",
    "    distance = 0 \n",
    "    #need to get the result. \n",
    "    result = zip(alignment1, alignment2) \n",
    "    for seq1, seq2 in result:\n",
    "        if seq1 != seq2:\n",
    "            #increment whenever you don't get a match. \n",
    "            distance += 1\n",
    "    return distance \n",
    "    "
   ]
  },
  {
   "cell_type": "code",
   "execution_count": 3,
   "metadata": {},
   "outputs": [
    {
     "data": {
      "text/plain": [
       "[('A', 'X'), ('A', 'X'), ('T', 'Y'), ('T', 'Y'), ('C', 'Z'), ('C', 'Z')]"
      ]
     },
     "execution_count": 3,
     "metadata": {},
     "output_type": "execute_result"
    }
   ],
   "source": [
    "test1 = \"AATTCC\"\n",
    "test2 = \"XXYYZZ\"\n",
    "\n",
    "cache = zip(test1, test2)\n",
    "list(cache)"
   ]
  },
  {
   "cell_type": "code",
   "execution_count": 4,
   "metadata": {},
   "outputs": [
    {
     "data": {
      "text/plain": [
       "4"
      ]
     },
     "execution_count": 4,
     "metadata": {},
     "output_type": "execute_result"
    }
   ],
   "source": [
    "hamming_distance(\"AATTCC\", \"AAtcgh\")"
   ]
  },
  {
   "cell_type": "code",
   "execution_count": 5,
   "metadata": {},
   "outputs": [
    {
     "name": "stdout",
     "output_type": "stream",
     "text": [
      "1\n",
      "3\n",
      "0\n"
     ]
    }
   ],
   "source": [
    "# Example data as from slides:\n",
    "alignment1 = \"TA-TTTA\"\n",
    "alignment2 = \"TA-TTAA\"\n",
    "print (hamming_distance(alignment1, alignment2))\n",
    "\n",
    "alignment1 = \"TA-TTCCA\"\n",
    "alignment2 = \"TA-TTAAC\"\n",
    "print (hamming_distance(alignment1, alignment2))\n",
    "\n",
    "alignment1 = \"TA-TTAAC\"\n",
    "alignment2 = \"TA-TTAAC\"\n",
    "print (hamming_distance(alignment1, alignment2))"
   ]
  },
  {
   "cell_type": "raw",
   "metadata": {},
   "source": [
    "Expected output:\n",
    "1\n",
    "3\n",
    "0"
   ]
  },
  {
   "cell_type": "code",
   "execution_count": null,
   "metadata": {},
   "outputs": [],
   "source": []
  },
  {
   "cell_type": "code",
   "execution_count": null,
   "metadata": {},
   "outputs": [],
   "source": []
  },
  {
   "cell_type": "code",
   "execution_count": 6,
   "metadata": {},
   "outputs": [],
   "source": [
    "def build_distance_matrix(alignments): \n",
    "    ''' Function to build a distance matrix from a list of alignments\n",
    "    This is a number of alignments x number of alignments matrix with \n",
    "    all pairwise distances (and 0 along the diagonal).\n",
    "    All alignments must be same length!\n",
    "    \n",
    "    Args: \n",
    "        alignments (list of strings): a list of our sequence alignments\n",
    "\n",
    "    Returns:\n",
    "        distance_matrix (np.array of floats): n x n distance matrix\n",
    "    \n",
    "    '''\n",
    "    #build empty matrix the size of the matrix needs to be the size of teh hamming distance outputs. \n",
    "    #call the hamming distance function \n",
    "    #\n",
    "    \n",
    "    # distance_matrix = np.empty((len(alignments), len(alignments)), dtype = int)\n",
    "    #fill in the empty matrix. \n",
    "    \n",
    "    #the matrix needs to be built off of the number of hamming distance results we get. \n",
    "    #so need to call the haming distance first and then form the matrix. \n",
    "    #then fill in the matrix. \n",
    "    \n",
    "    #the diagnoal will be a 0 because you're calculating the hamming distnace between teh same points. so it'll be 0. \n",
    "    \n",
    "    ham_final_list = []\n",
    "    for index1 in range(len(alignments)):\n",
    "        for index2 in range(len(alignments)):\n",
    "            # print(alignments[index1], alignments[index2])\n",
    "            ham_list = hamming_distance(alignments[index1], alignments[index2])\n",
    "            # print(ham_list)\n",
    "            ham_final_list.append(ham_list)\n",
    "            \n",
    "    # print(ham_final_list)\n",
    "    # print(type(ham_final_list))\n",
    "    matrix_temp = np.array(ham_final_list, dtype = float)\n",
    "    # print(matrix_temp)\n",
    "    # print(type(matrix_temp))\n",
    "\n",
    "    matrix_final = np.reshape(matrix_temp, (len(alignments), len(alignments)))\n",
    "    # print(matrix_final)\n",
    "    return matrix_final\n"
   ]
  },
  {
   "cell_type": "code",
   "execution_count": 7,
   "metadata": {},
   "outputs": [
    {
     "name": "stdout",
     "output_type": "stream",
     "text": [
      "[[0. 1. 0. 2. 2.]\n",
      " [1. 0. 1. 2. 1.]\n",
      " [0. 1. 0. 2. 2.]\n",
      " [2. 2. 2. 0. 1.]\n",
      " [2. 1. 2. 1. 0.]]\n"
     ]
    }
   ],
   "source": [
    "# Example data as from slides:\n",
    "alignments = [\"TA-TTTA\", \"TA-TTAA\", \"TA-TTTA\", \"TACTT-A\", \"TACTTAA\"]\n",
    "D = build_distance_matrix(alignments)\n",
    "print(D)"
   ]
  },
  {
   "cell_type": "raw",
   "metadata": {},
   "source": [
    "Expected output:\n",
    "[[0. 1. 0. 2. 2.]\n",
    " [1. 0. 1. 2. 1.]\n",
    " [0. 1. 0. 2. 2.]\n",
    " [2. 2. 2. 0. 1.]\n",
    " [2. 1. 2. 1. 0.]]"
   ]
  },
  {
   "cell_type": "code",
   "execution_count": null,
   "metadata": {},
   "outputs": [],
   "source": []
  },
  {
   "cell_type": "code",
   "execution_count": 8,
   "metadata": {},
   "outputs": [
    {
     "name": "stdout",
     "output_type": "stream",
     "text": [
      "amelia ameeia\n",
      "amelia ammlia\n",
      "amelia aaelia\n",
      "ameeia ammlia\n",
      "ameeia aaelia\n",
      "ammlia aaelia\n"
     ]
    }
   ],
   "source": [
    "mylist = [\"amelia\", \"ameeia\", \"ammlia\", \"aaelia\"]\n",
    "for index_1 in range(len(mylist)):\n",
    "    for index_2 in range(index_1 + 1, len(mylist)):   #I don't want to include the first item in the list. \n",
    "        print(mylist[index_1], mylist[index_2])\n",
    "        test = hamming_distance(mylist[index_1], mylist[index_2])\n",
    "        # print(test)\n",
    "        "
   ]
  },
  {
   "cell_type": "code",
   "execution_count": 16,
   "metadata": {},
   "outputs": [
    {
     "name": "stdout",
     "output_type": "stream",
     "text": [
      "5\n"
     ]
    },
    {
     "data": {
      "text/plain": [
       "int"
      ]
     },
     "execution_count": 16,
     "metadata": {},
     "output_type": "execute_result"
    }
   ],
   "source": [
    "alignments = [\"TA-TTTA\", \"TA-TTAA\", \"TA-TTTA\", \"TACTT-A\", \"TACTTAA\"]\n",
    "index1 = 0\n",
    "alignments[index1]\n",
    "test_list = []\n",
    "\n",
    "for index2 in range(index1 + 1, len(alignments)):\n",
    "    # print(alignments[index2])\n",
    "    # print(alignments[index1], alignments[index2])\n",
    "    test = hamming_distance(alignments[index1], alignments[index2])\n",
    "    test_list.append(test)\n",
    "# print(test_list)\n",
    "test_final = sum(test_list)\n",
    "print(test_final)\n",
    "type(test_final)"
   ]
  },
  {
   "cell_type": "code",
   "execution_count": 78,
   "metadata": {},
   "outputs": [
    {
     "data": {
      "text/plain": [
       "array([[0, 0, 0, 0, 0],\n",
       "       [0, 0, 0, 0, 0],\n",
       "       [0, 0, 0, 0, 0],\n",
       "       [0, 0, 0, 0, 0],\n",
       "       [0, 0, 0, 0, 0]])"
      ]
     },
     "execution_count": 78,
     "metadata": {},
     "output_type": "execute_result"
    }
   ],
   "source": [
    "matrix = np.zeros((test_final, test_final), dtype = int)\n",
    "matrix"
   ]
  },
  {
   "cell_type": "code",
   "execution_count": 16,
   "metadata": {},
   "outputs": [
    {
     "data": {
      "text/plain": [
       "array([[0.]])"
      ]
     },
     "execution_count": 16,
     "metadata": {},
     "output_type": "execute_result"
    }
   ],
   "source": [
    "test1 = [\"AATTCCTT\"]\n",
    "matrix = np.zeros(shape = (len(test1), len(test1)))\n",
    "matrix"
   ]
  },
  {
   "cell_type": "code",
   "execution_count": 72,
   "metadata": {},
   "outputs": [
    {
     "data": {
      "text/plain": [
       "array([[0.]])"
      ]
     },
     "execution_count": 72,
     "metadata": {},
     "output_type": "execute_result"
    }
   ],
   "source": [
    "matrix = np.empty((len(test1), len(test1)), dtype = float)\n",
    "matrix"
   ]
  },
  {
   "cell_type": "code",
   "execution_count": 73,
   "metadata": {},
   "outputs": [
    {
     "data": {
      "text/plain": [
       "array([[0., 0., 0., 0.],\n",
       "       [0., 0., 0., 0.],\n",
       "       [0., 0., 0., 0.]])"
      ]
     },
     "execution_count": 73,
     "metadata": {},
     "output_type": "execute_result"
    }
   ],
   "source": [
    "test = np.zeros((3,4))\n",
    "test"
   ]
  },
  {
   "cell_type": "code",
   "execution_count": 18,
   "metadata": {},
   "outputs": [
    {
     "data": {
      "text/plain": [
       "array([[0., 0., 0., 0., 0.],\n",
       "       [0., 0., 0., 0., 0.],\n",
       "       [0., 0., 0., 0., 0.],\n",
       "       [0., 0., 0., 0., 0.]])"
      ]
     },
     "execution_count": 18,
     "metadata": {},
     "output_type": "execute_result"
    }
   ],
   "source": [
    "matrix = np.zeros((4,5))\n",
    "matrix"
   ]
  },
  {
   "cell_type": "code",
   "execution_count": null,
   "metadata": {},
   "outputs": [],
   "source": []
  },
  {
   "cell_type": "code",
   "execution_count": null,
   "metadata": {},
   "outputs": [],
   "source": []
  },
  {
   "cell_type": "code",
   "execution_count": 17,
   "metadata": {},
   "outputs": [],
   "source": [
    "def get_min_distance(matrix):\n",
    "    ''' Function to find the smallest value off-daigonal in the distance\n",
    "    matrix provided. This is used in the UPGMA algorithm.\n",
    "    \n",
    "    Args: \n",
    "        matrix (2D numpy array): a distance matrix\n",
    "\n",
    "    Returns:\n",
    "        min (float): The smallest distance in the matrix\n",
    "        pos (tuple): The x and y position of the smallest distance\n",
    "    \n",
    "    '''\n",
    "    #already have the matrix. \n",
    "    # print(matrix)\n",
    "    min_score = None\n",
    "    pos = (0,0) \n",
    "    #need to get \n",
    "    test = list(matrix.shape)\n",
    "    #iterate through half the matrix since it's mirror image. \n",
    "    #so split it in half. \n",
    "    for index1 in range(0, test[0]): #this will serve as the x coordinate \n",
    "        for index2 in range(index1 + 1, test[1]): #this will serve as the y coordinate, prevents it from being a zero. \n",
    "            # print(index1, index2)\n",
    "            if matrix[index1][index2] == matrix.min():\n",
    "                min_score = matrix[index1][index2]\n",
    "                pos = (index1,index2)\n",
    "    \n",
    "    return min_score, pos\n",
    "\n",
    "#find the minimum value that is greater than 0. those will all be in the off diagnoal of the matrix. \n",
    "#multiple alignments that are identical, the minimum value then ignore it. "
   ]
  },
  {
   "cell_type": "code",
   "execution_count": 18,
   "metadata": {},
   "outputs": [
    {
     "data": {
      "text/plain": [
       "(0.0, (0, 2))"
      ]
     },
     "execution_count": 18,
     "metadata": {},
     "output_type": "execute_result"
    }
   ],
   "source": [
    "# Example data as from slides:\n",
    "alignments = [\"TA-TTTA\", \"TA-TTAA\", \"TA-TTTA\", \"TACTT-A\", \"TACTTAA\"]\n",
    "\n",
    "D = build_distance_matrix(alignments)\n",
    "get_min_distance(D)"
   ]
  },
  {
   "cell_type": "markdown",
   "metadata": {},
   "source": [
    "Expected output:\n",
    "(0.0, (0,2))"
   ]
  },
  {
   "cell_type": "code",
   "execution_count": 84,
   "metadata": {},
   "outputs": [
    {
     "name": "stdout",
     "output_type": "stream",
     "text": [
      "0\n",
      "1\n",
      "2\n",
      "3\n"
     ]
    }
   ],
   "source": [
    "for index in range(0, 4):\n",
    "    print(index)"
   ]
  },
  {
   "cell_type": "code",
   "execution_count": 62,
   "metadata": {},
   "outputs": [
    {
     "name": "stdout",
     "output_type": "stream",
     "text": [
      "[[0. 1. 0. 2. 2.]\n",
      " [1. 0. 1. 2. 1.]\n",
      " [0. 1. 0. 2. 2.]\n",
      " [2. 2. 2. 0. 1.]\n",
      " [2. 1. 2. 1. 0.]]\n"
     ]
    }
   ],
   "source": [
    "print(D)"
   ]
  },
  {
   "cell_type": "code",
   "execution_count": 71,
   "metadata": {},
   "outputs": [
    {
     "name": "stdout",
     "output_type": "stream",
     "text": [
      "0.0\n",
      "[0. 0. 0. 0. 0.]\n"
     ]
    }
   ],
   "source": [
    "x = D.min()\n",
    "print(x)\n",
    "diag = np.diag(D)\n",
    "print(diag)\n",
    "\n",
    "if x not in diag:\n",
    "    final = np.argwhere(D == x)\n",
    "    print(final)"
   ]
  },
  {
   "cell_type": "code",
   "execution_count": 66,
   "metadata": {},
   "outputs": [
    {
     "data": {
      "text/plain": [
       "array([[0, 0],\n",
       "       [0, 2],\n",
       "       [1, 1],\n",
       "       [2, 0],\n",
       "       [2, 2],\n",
       "       [3, 3],\n",
       "       [4, 4]])"
      ]
     },
     "execution_count": 66,
     "metadata": {},
     "output_type": "execute_result"
    }
   ],
   "source": [
    "np.argwhere(D == x)"
   ]
  },
  {
   "cell_type": "code",
   "execution_count": null,
   "metadata": {},
   "outputs": [],
   "source": [
    "print(matrix)\n",
    "    min_score = None \n",
    "    pos = (0,0) \n",
    "    \n",
    "    \n",
    "    test = list(matrix.shape)\n",
    "    #get range of 0-4. \n",
    "    for index_1 in range(test[0]):\n",
    "        for index_2 in range(test[1]):\n",
    "            #have indices to index the matrix. \n",
    "            #need to prevent from taking the from the diag. \n",
    "            matrix.min() \n",
    "            \n",
    "            if matrix[index_1][index_2] not in np.diag(matrix):\n",
    "                min_score = matrix[index_1][index_2]\n",
    "                pos = (index_1, index_2)\n",
    "                "
   ]
  },
  {
   "cell_type": "code",
   "execution_count": null,
   "metadata": {},
   "outputs": [],
   "source": []
  },
  {
   "cell_type": "code",
   "execution_count": 204,
   "metadata": {},
   "outputs": [
    {
     "data": {
      "text/plain": [
       "array([0., 0., 0., 0., 0.])"
      ]
     },
     "execution_count": 204,
     "metadata": {},
     "output_type": "execute_result"
    }
   ],
   "source": [
    "np.diag(D)"
   ]
  },
  {
   "cell_type": "code",
   "execution_count": 74,
   "metadata": {},
   "outputs": [
    {
     "name": "stdout",
     "output_type": "stream",
     "text": [
      "0\n",
      "1\n",
      "2\n",
      "3\n",
      "4\n"
     ]
    }
   ],
   "source": [
    "for i in range(0,5):\n",
    "    print(i)"
   ]
  },
  {
   "cell_type": "code",
   "execution_count": 205,
   "metadata": {},
   "outputs": [
    {
     "data": {
      "text/plain": [
       "0.0"
      ]
     },
     "execution_count": 205,
     "metadata": {},
     "output_type": "execute_result"
    }
   ],
   "source": [
    "np.min(D)"
   ]
  },
  {
   "cell_type": "code",
   "execution_count": 55,
   "metadata": {},
   "outputs": [
    {
     "name": "stdout",
     "output_type": "stream",
     "text": [
      "[[0. 1. 0. 2. 2.]\n",
      " [1. 0. 1. 2. 1.]\n",
      " [0. 1. 0. 2. 2.]\n",
      " [2. 2. 2. 0. 1.]\n",
      " [2. 1. 2. 1. 0.]]\n"
     ]
    }
   ],
   "source": [
    "print(D)"
   ]
  },
  {
   "cell_type": "code",
   "execution_count": 61,
   "metadata": {},
   "outputs": [],
   "source": [
    "x = D.min()\n",
    "final = None\n",
    "\n",
    "if x not in np.diag(D):\n",
    "    final = x\n",
    "    print(final)"
   ]
  },
  {
   "cell_type": "code",
   "execution_count": 54,
   "metadata": {},
   "outputs": [
    {
     "data": {
      "text/plain": [
       "array([0., 0., 0., 0., 0.])"
      ]
     },
     "execution_count": 54,
     "metadata": {},
     "output_type": "execute_result"
    }
   ],
   "source": [
    "np.diag(D)"
   ]
  },
  {
   "cell_type": "code",
   "execution_count": 35,
   "metadata": {},
   "outputs": [
    {
     "name": "stdout",
     "output_type": "stream",
     "text": [
      "range(0, 5)\n",
      "0\n",
      "1\n",
      "2\n",
      "3\n",
      "4\n"
     ]
    }
   ],
   "source": [
    "test = list(D.shape)\n",
    "test[0]\n",
    "type(test[0])\n",
    "print(range(test[0]))\n",
    "for i in range(test[0]):\n",
    "    print(i)"
   ]
  },
  {
   "cell_type": "code",
   "execution_count": 30,
   "metadata": {},
   "outputs": [
    {
     "data": {
      "text/plain": [
       "5"
      ]
     },
     "execution_count": 30,
     "metadata": {},
     "output_type": "execute_result"
    }
   ],
   "source": [
    "test1 = D.shape\n",
    "test1[0]"
   ]
  },
  {
   "cell_type": "code",
   "execution_count": null,
   "metadata": {},
   "outputs": [],
   "source": []
  }
 ],
 "metadata": {
  "kernelspec": {
   "display_name": "Python 3 (ipykernel)",
   "language": "python",
   "name": "python3"
  },
  "language_info": {
   "codemirror_mode": {
    "name": "ipython",
    "version": 3
   },
   "file_extension": ".py",
   "mimetype": "text/x-python",
   "name": "python",
   "nbconvert_exporter": "python",
   "pygments_lexer": "ipython3",
   "version": "3.7.8"
  }
 },
 "nbformat": 4,
 "nbformat_minor": 4
}
